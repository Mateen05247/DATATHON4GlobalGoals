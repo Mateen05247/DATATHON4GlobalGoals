{
  "nbformat": 4,
  "nbformat_minor": 0,
  "metadata": {
    "colab": {
      "provenance": []
    },
    "kernelspec": {
      "name": "python3",
      "display_name": "Python 3"
    },
    "language_info": {
      "name": "python"
    }
  },
  "cells": [
    {
      "cell_type": "code",
      "source": [
        "# Installing antigranular package"
      ],
      "metadata": {
        "id": "dckufVnNCTBK"
      },
      "execution_count": 25,
      "outputs": []
    },
    {
      "cell_type": "code",
      "execution_count": 3,
      "metadata": {
        "colab": {
          "base_uri": "https://localhost:8080/"
        },
        "id": "2yoqXMCDrFkb",
        "outputId": "3e777fb7-c589-4cc7-803c-71ca07306399"
      },
      "outputs": [
        {
          "output_type": "stream",
          "name": "stdout",
          "text": [
            "Collecting antigranular\n",
            "  Downloading antigranular-0.2.12-py3-none-any.whl (18 kB)\n",
            "Collecting diffprivlib<0.7.0,>=0.6.2 (from antigranular)\n",
            "  Downloading diffprivlib-0.6.3-py3-none-any.whl (176 kB)\n",
            "\u001b[2K     \u001b[90m━━━━━━━━━━━━━━━━━━━━━━━━━━━━━━━━━━━━━━━━\u001b[0m \u001b[32m176.0/176.0 kB\u001b[0m \u001b[31m4.7 MB/s\u001b[0m eta \u001b[36m0:00:00\u001b[0m\n",
            "\u001b[?25hRequirement already satisfied: ipython<8.0.0,>=7.34.0 in /usr/local/lib/python3.10/dist-packages (from antigranular) (7.34.0)\n",
            "Collecting oblv-client<0.2.0,>=0.1.15 (from antigranular)\n",
            "  Downloading oblv_client-0.1.15-cp310-cp310-manylinux_2_17_x86_64.manylinux2014_x86_64.whl (6.2 MB)\n",
            "\u001b[2K     \u001b[90m━━━━━━━━━━━━━━━━━━━━━━━━━━━━━━━━━━━━━━━━\u001b[0m \u001b[32m6.2/6.2 MB\u001b[0m \u001b[31m18.7 MB/s\u001b[0m eta \u001b[36m0:00:00\u001b[0m\n",
            "\u001b[?25hCollecting onnx<2.0.0,>=1.14.0 (from antigranular)\n",
            "  Downloading onnx-1.15.0-cp310-cp310-manylinux_2_17_x86_64.manylinux2014_x86_64.whl (15.7 MB)\n",
            "\u001b[2K     \u001b[90m━━━━━━━━━━━━━━━━━━━━━━━━━━━━━━━━━━━━━━━━\u001b[0m \u001b[32m15.7/15.7 MB\u001b[0m \u001b[31m48.8 MB/s\u001b[0m eta \u001b[36m0:00:00\u001b[0m\n",
            "\u001b[?25hRequirement already satisfied: pandas<2.0.0,>=1.5.3 in /usr/local/lib/python3.10/dist-packages (from antigranular) (1.5.3)\n",
            "Requirement already satisfied: pydantic<2.0.0,>=1.10.7 in /usr/local/lib/python3.10/dist-packages (from antigranular) (1.10.13)\n",
            "Requirement already satisfied: requests<3.0.0,>=2.31.0 in /usr/local/lib/python3.10/dist-packages (from antigranular) (2.31.0)\n",
            "Requirement already satisfied: numpy>=1.21.6 in /usr/local/lib/python3.10/dist-packages (from diffprivlib<0.7.0,>=0.6.2->antigranular) (1.23.5)\n",
            "Requirement already satisfied: scikit-learn>=0.24.2 in /usr/local/lib/python3.10/dist-packages (from diffprivlib<0.7.0,>=0.6.2->antigranular) (1.2.2)\n",
            "Requirement already satisfied: scipy>=1.7.3 in /usr/local/lib/python3.10/dist-packages (from diffprivlib<0.7.0,>=0.6.2->antigranular) (1.11.3)\n",
            "Requirement already satisfied: joblib>=0.16.0 in /usr/local/lib/python3.10/dist-packages (from diffprivlib<0.7.0,>=0.6.2->antigranular) (1.3.2)\n",
            "Requirement already satisfied: setuptools>=49.0.0 in /usr/local/lib/python3.10/dist-packages (from diffprivlib<0.7.0,>=0.6.2->antigranular) (67.7.2)\n",
            "Collecting jedi>=0.16 (from ipython<8.0.0,>=7.34.0->antigranular)\n",
            "  Downloading jedi-0.19.1-py2.py3-none-any.whl (1.6 MB)\n",
            "\u001b[2K     \u001b[90m━━━━━━━━━━━━━━━━━━━━━━━━━━━━━━━━━━━━━━━━\u001b[0m \u001b[32m1.6/1.6 MB\u001b[0m \u001b[31m56.4 MB/s\u001b[0m eta \u001b[36m0:00:00\u001b[0m\n",
            "\u001b[?25hRequirement already satisfied: decorator in /usr/local/lib/python3.10/dist-packages (from ipython<8.0.0,>=7.34.0->antigranular) (4.4.2)\n",
            "Requirement already satisfied: pickleshare in /usr/local/lib/python3.10/dist-packages (from ipython<8.0.0,>=7.34.0->antigranular) (0.7.5)\n",
            "Requirement already satisfied: traitlets>=4.2 in /usr/local/lib/python3.10/dist-packages (from ipython<8.0.0,>=7.34.0->antigranular) (5.7.1)\n",
            "Requirement already satisfied: prompt-toolkit!=3.0.0,!=3.0.1,<3.1.0,>=2.0.0 in /usr/local/lib/python3.10/dist-packages (from ipython<8.0.0,>=7.34.0->antigranular) (3.0.39)\n",
            "Requirement already satisfied: pygments in /usr/local/lib/python3.10/dist-packages (from ipython<8.0.0,>=7.34.0->antigranular) (2.16.1)\n",
            "Requirement already satisfied: backcall in /usr/local/lib/python3.10/dist-packages (from ipython<8.0.0,>=7.34.0->antigranular) (0.2.0)\n",
            "Requirement already satisfied: matplotlib-inline in /usr/local/lib/python3.10/dist-packages (from ipython<8.0.0,>=7.34.0->antigranular) (0.1.6)\n",
            "Requirement already satisfied: pexpect>4.3 in /usr/local/lib/python3.10/dist-packages (from ipython<8.0.0,>=7.34.0->antigranular) (4.8.0)\n",
            "Requirement already satisfied: urllib3 in /usr/local/lib/python3.10/dist-packages (from oblv-client<0.2.0,>=0.1.15->antigranular) (2.0.7)\n",
            "Requirement already satisfied: protobuf>=3.20.2 in /usr/local/lib/python3.10/dist-packages (from onnx<2.0.0,>=1.14.0->antigranular) (3.20.3)\n",
            "Requirement already satisfied: python-dateutil>=2.8.1 in /usr/local/lib/python3.10/dist-packages (from pandas<2.0.0,>=1.5.3->antigranular) (2.8.2)\n",
            "Requirement already satisfied: pytz>=2020.1 in /usr/local/lib/python3.10/dist-packages (from pandas<2.0.0,>=1.5.3->antigranular) (2023.3.post1)\n",
            "Requirement already satisfied: typing-extensions>=4.2.0 in /usr/local/lib/python3.10/dist-packages (from pydantic<2.0.0,>=1.10.7->antigranular) (4.5.0)\n",
            "Requirement already satisfied: charset-normalizer<4,>=2 in /usr/local/lib/python3.10/dist-packages (from requests<3.0.0,>=2.31.0->antigranular) (3.3.1)\n",
            "Requirement already satisfied: idna<4,>=2.5 in /usr/local/lib/python3.10/dist-packages (from requests<3.0.0,>=2.31.0->antigranular) (3.4)\n",
            "Requirement already satisfied: certifi>=2017.4.17 in /usr/local/lib/python3.10/dist-packages (from requests<3.0.0,>=2.31.0->antigranular) (2023.7.22)\n",
            "Requirement already satisfied: parso<0.9.0,>=0.8.3 in /usr/local/lib/python3.10/dist-packages (from jedi>=0.16->ipython<8.0.0,>=7.34.0->antigranular) (0.8.3)\n",
            "Requirement already satisfied: ptyprocess>=0.5 in /usr/local/lib/python3.10/dist-packages (from pexpect>4.3->ipython<8.0.0,>=7.34.0->antigranular) (0.7.0)\n",
            "Requirement already satisfied: wcwidth in /usr/local/lib/python3.10/dist-packages (from prompt-toolkit!=3.0.0,!=3.0.1,<3.1.0,>=2.0.0->ipython<8.0.0,>=7.34.0->antigranular) (0.2.8)\n",
            "Requirement already satisfied: six>=1.5 in /usr/local/lib/python3.10/dist-packages (from python-dateutil>=2.8.1->pandas<2.0.0,>=1.5.3->antigranular) (1.16.0)\n",
            "Requirement already satisfied: threadpoolctl>=2.0.0 in /usr/local/lib/python3.10/dist-packages (from scikit-learn>=0.24.2->diffprivlib<0.7.0,>=0.6.2->antigranular) (3.2.0)\n",
            "Installing collected packages: onnx, oblv-client, jedi, diffprivlib, antigranular\n",
            "Successfully installed antigranular-0.2.12 diffprivlib-0.6.3 jedi-0.19.1 oblv-client-0.1.15 onnx-1.15.0\n"
          ]
        }
      ],
      "source": [
        "!pip install antigranular"
      ]
    },
    {
      "cell_type": "code",
      "source": [
        "import antigranular as ag\n",
        "session = ag.login(\"QmGi8qgXCUY7dQGujoD9YuxeLlO56qTw\", \"ebgvH/1ItlukZdFbfwtWSc5b5UmROgiwL2c+s7mp4KLrUzT6FTJPdH6RyrnK6DMm\", competition = \"UN Datathon PETs Track\")"
      ],
      "metadata": {
        "colab": {
          "base_uri": "https://localhost:8080/",
          "height": 89
        },
        "id": "5XsvGKU0rWbc",
        "outputId": "ded069e6-7743-48fb-b3a5-4ecac8a71b5b"
      },
      "execution_count": 19,
      "outputs": [
        {
          "output_type": "display_data",
          "data": {
            "text/plain": [
              "<IPython.core.display.HTML object>"
            ],
            "text/html": []
          },
          "metadata": {}
        },
        {
          "output_type": "stream",
          "name": "stdout",
          "text": [
            "Connected to Antigranular server session id: fcb25f94-8176-4beb-9cbb-44a08b01c524, the session will time out if idle for 60 minutes\n",
            "Cell magic '%%ag' registered successfully, use `%%ag` in a notebook cell to execute your python code on Antigranular private python server\n",
            "🚀 Everything's set up and ready to roll!\n"
          ]
        }
      ]
    },
    {
      "cell_type": "markdown",
      "source": [
        "# 1. Load the crop dataset"
      ],
      "metadata": {
        "id": "In0FrBmMCY4E"
      }
    },
    {
      "cell_type": "code",
      "source": [
        "%%ag\n",
        "df = load_dataset(\"undata_crp\")"
      ],
      "metadata": {
        "id": "z8WR6VDcBgBc"
      },
      "execution_count": 5,
      "outputs": []
    },
    {
      "cell_type": "markdown",
      "source": [
        "Import the packages"
      ],
      "metadata": {
        "id": "aJbAJuPGCbX9"
      }
    },
    {
      "cell_type": "code",
      "source": [
        "\n",
        "import pandas as pd\n",
        "import numpy as np\n",
        "import matplotlib.pyplot as plt"
      ],
      "metadata": {
        "id": "fxd6jpojCiyw"
      },
      "execution_count": 6,
      "outputs": []
    },
    {
      "cell_type": "code",
      "source": [
        "\n",
        "crp_sales_map = pd.read_excel(r\"/content/FAO_dataset_coded_values_20220929123905.xlsx\", sheet_name='crp_salesprice')"
      ],
      "metadata": {
        "id": "qHh26i6HC8Od"
      },
      "execution_count": 8,
      "outputs": []
    },
    {
      "cell_type": "code",
      "source": [],
      "metadata": {
        "id": "9AODbm2FCosh"
      },
      "execution_count": 26,
      "outputs": []
    },
    {
      "cell_type": "code",
      "source": [
        "crp_main_map['label'].unique()"
      ],
      "metadata": {
        "colab": {
          "base_uri": "https://localhost:8080/"
        },
        "id": "A-CgQQTLEBB3",
        "outputId": "594f3221-968b-4fa8-a1fa-81e1cc320d8d"
      },
      "execution_count": 15,
      "outputs": [
        {
          "output_type": "execute_result",
          "data": {
            "text/plain": [
              "array(['Rice', 'Wheat', 'Millet', 'Sorghum', 'Maize', 'Barley',\n",
              "       'Other Cereal', 'Cassava', 'Potatoe', 'Sweet Potatoes', 'Yams',\n",
              "       'Carrots', 'Cocoyam', 'Other tubers', 'Beans', 'Lentils', 'Peas',\n",
              "       'Soybeans', 'Chickpeas', 'Fava beans', 'Broad beans',\n",
              "       'Other pulses', 'Cabbage', 'Lettuce', 'Spinach-Amaranth',\n",
              "       'Cassava leaves', 'Potatoe leaves', 'Moringa',\n",
              "       'Sorrel Hibiscus / Rosselle',\n",
              "       'Green salad herbs [thyme, parsley, mint, rocca, other]',\n",
              "       'Cauliflower', 'Other leafy vegetables', 'Tomatoes', 'Cucumber',\n",
              "       'Pumpkin', 'Eggplant/aubergine', 'Zucchini', 'Okra', 'Bell pepper',\n",
              "       'Onions', 'Haricot', 'Green peas', 'Fava beans green',\n",
              "       'Other non leafy vegs', 'Orange', 'Lemon', 'Grapefruit',\n",
              "       'Mandarins/clementines', 'Other citrus fruit', 'Sweet Banana',\n",
              "       'Plantains', 'Papaya', 'Mango', 'Guava', 'Pineapple', 'Avocado',\n",
              "       'Water Melon', 'Dates', 'Figs', 'Grapes', 'Olives', 'Apple',\n",
              "       'Apricot', 'Cherries', 'Peach/nectarine', 'Strawberries',\n",
              "       'Melon [Cantaloupe]', 'Other fruit', 'Coconuts',\n",
              "       'Groundnut/peanut', 'Cashew Nut', 'Kola Nut', 'Sesame',\n",
              "       'Bambara nut', 'Almond', 'Walnut', 'Other nuts', 'Cocoa', 'Coffee',\n",
              "       'Tea', 'Sugarcane', 'Sunflower', 'Other food cash crop', 'Cotton',\n",
              "       'Rubber', 'Jute', 'Fodder', 'Tobacco', 'Qat',\n",
              "       'Other non-food cash crop', 'No crop production', \"Don't know\",\n",
              "       'Refused'], dtype=object)"
            ]
          },
          "metadata": {},
          "execution_count": 15
        }
      ]
    },
    {
      "cell_type": "code",
      "source": [
        "%%ag\n",
        "cerel_labels=['Rice', 'Wheat', 'Millet', 'Sorghum', 'Maize', 'Barley',\n",
        "       'Other Cereal', 'Cassava', 'Potatoe', 'Sweet Potatoes', 'Yams',\n",
        "       'Carrots', 'Cocoyam', 'Other tubers', 'Beans', 'Lentils', 'Peas',\n",
        "       'Soybeans', 'Chickpeas', 'Fava beans', 'Broad beans',\n",
        "       'Other pulses', 'Cabbage', 'Lettuce', 'Spinach-Amaranth',\n",
        "       'Cassava leaves', 'Potatoe leaves', 'Moringa',\n",
        "       'Sorrel Hibiscus / Rosselle',\n",
        "       'Green salad herbs [thyme, parsley, mint, rocca, other]',\n",
        "       'Cauliflower', 'Other leafy vegetables', 'Tomatoes', 'Cucumber',\n",
        "       'Pumpkin', 'Eggplant/aubergine', 'Zucchini', 'Okra', 'Bell pepper',\n",
        "       'Onions', 'Haricot', 'Green peas', 'Fava beans green',\n",
        "       'Other non leafy vegs', 'Orange', 'Lemon', 'Grapefruit',\n",
        "       'Mandarins/clementines', 'Other citrus fruit', 'Sweet Banana',\n",
        "       'Plantains', 'Papaya', 'Mango', 'Guava', 'Pineapple', 'Avocado',\n",
        "       'Water Melon', 'Dates', 'Figs', 'Grapes', 'Olives', 'Apple',\n",
        "       'Apricot', 'Cherries', 'Peach/nectarine', 'Strawberries',\n",
        "       'Melon [Cantaloupe]', 'Other fruit', 'Coconuts',\n",
        "       'Groundnut/peanut', 'Cashew Nut', 'Kola Nut', 'Sesame',\n",
        "       'Bambara nut', 'Almond', 'Walnut', 'Other nuts', 'Cocoa', 'Coffee',\n",
        "       'Tea', 'Sugarcane', 'Sunflower', 'Other food cash crop', 'Cotton',\n",
        "       'Rubber', 'Jute', 'Fodder', 'Tobacco', 'Qat',\n",
        "       'Other non-food cash crop', 'No crop production', \"Don't know\",\n",
        "       'Refused']"
      ],
      "metadata": {
        "id": "MT4P4wGoEHSp"
      },
      "execution_count": 16,
      "outputs": []
    },
    {
      "cell_type": "code",
      "source": [
        "%%ag\n",
        "#df[\"hdds_cereals\"]\n",
        "cereal_types = [  1100,   1200,   1300,   1400,   1500,   1600,   1990,   2100,\n",
        "         2200,   2300,   2400,   2500,   2600,   2990,   3100,   3200,\n",
        "         3300,   3400,   3500,   3600,   3700,   3990,   4100,   4200,\n",
        "         4300,   4400,   4500,   4600,   4700,   4900,   4101,   4990,\n",
        "         5100,   5200,   5300,   5400,   5500,   5600,   5700,   5800,\n",
        "         5900,   5101,   5110,   5990,   6100,   6200,   6300,   6400,\n",
        "         6990,   7100,   7200,   7300,   7400,   7500,   7600,   7700,\n",
        "         7800,   7900,   7101,   7110,   7120,   7130,   7140,   7150,\n",
        "         7160,   7170,   7180,   7990,   8100,   8200,   8300,   8400,\n",
        "         8500,   8600,   8700,   8800,   8990,   9100,   9200,   9300,\n",
        "         9400,   9500,   9990,  10100,  10200,  10300,  10400,  10500,\n",
        "        10600,  10990, 777000, 888000, 999000]"
      ],
      "metadata": {
        "id": "J0X7-3qkB6ht"
      },
      "execution_count": 14,
      "outputs": []
    },
    {
      "cell_type": "code",
      "source": [
        "%%ag\n",
        "\n",
        "def is_rice(x: int) -> int:\n",
        "  if x == 1100:\n",
        "    return 1\n",
        "  return 0\n",
        "\n",
        "def is_wheat(x: int) -> int:\n",
        "  if x == 1200:\n",
        "    return 1\n",
        "  return 0\n",
        "\n",
        "def is_millet(x: int) -> int:\n",
        "  if x == 1300:\n",
        "    return 1\n",
        "  return 0\n",
        "\n",
        "def is_barley(x: str) -> int:\n",
        "  if x == 1600:\n",
        "    return 1\n",
        "  return 0\n",
        "\n",
        "def is_other(x: str) -> int:\n",
        "  if x == 1990:\n",
        "    return 1\n",
        "  return 0\n",
        "\n",
        "def is_potato(x: str) -> int:\n",
        "  if x == 2200:\n",
        "    return 1\n",
        "  return 0\n",
        "\n",
        "def is_beans(x: str) -> int:\n",
        "  if x == 3100:\n",
        "    return 1\n",
        "  return 0\n",
        "\n",
        "def is_lentils(x: str) -> int:\n",
        "  if x == 3200:\n",
        "    return 1\n",
        "  return 0"
      ],
      "metadata": {
        "id": "IlK5c4uzDjh7"
      },
      "execution_count": 26,
      "outputs": []
    },
    {
      "cell_type": "code",
      "source": [
        "%%ag\n",
        "\n",
        "df[\"rice\"] = df[\"crp_main\"].map(is_rice, output_bounds = (0 , 1))\n",
        "df[\"wheat\"] = df[\"crp_main\"].map(is_wheat, output_bounds = (0 , 1))\n",
        "df[\"millet\"] = df[\"crp_main\"].map(is_millet, output_bounds = (0 , 1))\n",
        "df[\"barley\"] = df[\"crp_main\"].map(is_barley, output_bounds = (0 , 1))\n",
        "df[\"other\"] = df[\"crp_main\"].map(is_other, output_bounds = (0 , 1))\n",
        "df[\"potato\"] = df[\"crp_main\"].map(is_potato, output_bounds = (0 , 1))\n",
        "df[\"beans\"] = df[\"crp_main\"].map(is_beans, output_bounds = (0 , 1))\n",
        "df[\"lentils\"] = df[\"crp_main\"].map(is_lentils, output_bounds = (0 , 1))\n"
      ],
      "metadata": {
        "id": "PKKF53QZYaBO"
      },
      "execution_count": 29,
      "outputs": []
    },
    {
      "cell_type": "code",
      "source": [
        "%%ag\n",
        "from ag_utils import export\n",
        "ret = [\n",
        "    df[\"rice\"].mean(eps=0.1),\n",
        "    df[\"wheat\"].mean(eps=0.1),\n",
        "    df[\"millet\"].mean(eps=0.1),\n",
        "    df[\"barley\"].mean(eps=0.1),\n",
        "    df[\"other\"].mean(eps=0.1),\n",
        "    df[\"potato\"].mean(eps=0.1),\n",
        "    df[\"beans\"].mean(eps=0.1),\n",
        "    df[\"lentils\"].mean(eps=0.1)\n",
        "    ]\n",
        "export(\n",
        "    ret,\n",
        "    \"data_plot\"\n",
        ")"
      ],
      "metadata": {
        "colab": {
          "base_uri": "https://localhost:8080/"
        },
        "id": "3l2ZgVHeKOXg",
        "outputId": "ec81d53a-d371-4f7e-a054-4ebee0679057"
      },
      "execution_count": 30,
      "outputs": [
        {
          "output_type": "stream",
          "name": "stdout",
          "text": [
            "Setting up exported variable in local environment: data_plot\n"
          ]
        }
      ]
    },
    {
      "cell_type": "code",
      "source": [
        "data_plot"
      ],
      "metadata": {
        "colab": {
          "base_uri": "https://localhost:8080/"
        },
        "id": "lcIMl2koaE_u",
        "outputId": "f0bfebe7-c8d6-4737-e4bc-91707e31aa25"
      },
      "execution_count": 31,
      "outputs": [
        {
          "output_type": "execute_result",
          "data": {
            "text/plain": [
              "[0.08330335515408752,\n",
              " 0.07071372376903198,\n",
              " 0.02180112066775166,\n",
              " 0.0,\n",
              " 0.005385019053929761,\n",
              " 0.00565393554938314,\n",
              " 0.012683293652718369,\n",
              " 0.00048489367799749167]"
            ]
          },
          "metadata": {},
          "execution_count": 31
        }
      ]
    },
    {
      "cell_type": "code",
      "source": [
        "import matplotlib.pyplot as plt\n",
        "\n",
        "d1=[0.08330335515408752,\n",
        " 0.07071372376903198,\n",
        " 0.02180112066775166,\n",
        " 0.0,\n",
        " 0.005385019053929761,\n",
        " 0.00565393554938314,\n",
        " 0.012683293652718369,\n",
        " 0.00048489367799749167]\n",
        "\n",
        "\n",
        "labels_p = ['Rice', 'Wheat', 'MIllet', 'Barley','Other cereals','Potato','Beans','Lentils']\n",
        "\n",
        "# Creating the pie chart\n",
        "fig, ax = plt.subplots()\n",
        "ax.pie(d1, labels=labels_p, autopct='%1.1f%%')\n",
        "ax.axis('equal')  # Equal aspect ratio ensures that pie is drawn as a circle.\n",
        "\n",
        "# Display the pie chart\n",
        "plt.show()\n"
      ],
      "metadata": {
        "colab": {
          "base_uri": "https://localhost:8080/",
          "height": 407
        },
        "id": "_Y58GZUBaRKm",
        "outputId": "c43766c6-250a-4c75-cd9c-e8118d0a32b1"
      },
      "execution_count": 33,
      "outputs": [
        {
          "output_type": "display_data",
          "data": {
            "text/plain": [
              "<Figure size 640x480 with 1 Axes>"
            ],
            "image/png": "[encoded data removed]"
          },
          "metadata": {}
        }
      ]
    },
    {
      "cell_type": "markdown",
      "source": [
        "# 2. Crop production (Analysis of the above chart) ^\n",
        " Rice and wheat take up more than 75% share\n",
        "Millet stands at 10.9 ~11%\n",
        "Other crops like Lenitils(0.2%), Beans (6.3%), Potato (2.8%),Others(2.7%)\n"
      ],
      "metadata": {
        "id": "Z3cqtdbeCnzu"
      }
    },
    {
      "cell_type": "code",
      "source": [
        "# End of section"
      ],
      "metadata": {
        "id": "-cp-04NtPpEl"
      },
      "execution_count": 4,
      "outputs": []
    },
    {
      "cell_type": "code",
      "source": [
        "\n",
        "crp_sales_map = pd.read_excel(r\"/content/FAO_dataset_coded_values_20220929123905.xlsx\", sheet_name='crp_salesprice')"
      ],
      "metadata": {
        "id": "A7-m5iHtPsT-"
      },
      "execution_count": 14,
      "outputs": []
    },
    {
      "cell_type": "code",
      "source": [
        "crp_sales_map"
      ],
      "metadata": {
        "colab": {
          "base_uri": "https://localhost:8080/",
          "height": 269
        },
        "id": "GKcRluHStvik",
        "outputId": "ec49e80a-d352-4a6b-e282-f5bad5531791"
      },
      "execution_count": 15,
      "outputs": [
        {
          "output_type": "execute_result",
          "data": {
            "text/plain": [
              "   Unnamed: 0  code                                    label\n",
              "0           0     1  A lot more (increased by more than 50%)\n",
              "1           1     2                            Slightly more\n",
              "2           2     3                                     Same\n",
              "3           3     4                            Slightly less\n",
              "4           4     5      A lot less (less than half as much)\n",
              "5           5   888                               Don't know\n",
              "6           6   999                                  Refused"
            ],
            "text/html": [
              "\n",
              "  <div id=\"df-e3e6c775-e729-4497-95cb-658dcddd3c36\" class=\"colab-df-container\">\n",
              "    <div>\n",
              "<style scoped>\n",
              "    .dataframe tbody tr th:only-of-type {\n",
              "        vertical-align: middle;\n",
              "    }\n",
              "\n",
              "    .dataframe tbody tr th {\n",
              "        vertical-align: top;\n",
              "    }\n",
              "\n",
              "    .dataframe thead th {\n",
              "        text-align: right;\n",
              "    }\n",
              "</style>\n",
              "<table border=\"1\" class=\"dataframe\">\n",
              "  <thead>\n",
              "    <tr style=\"text-align: right;\">\n",
              "      <th></th>\n",
              "      <th>Unnamed: 0</th>\n",
              "      <th>code</th>\n",
              "      <th>label</th>\n",
              "    </tr>\n",
              "  </thead>\n",
              "  <tbody>\n",
              "    <tr>\n",
              "      <th>0</th>\n",
              "      <td>0</td>\n",
              "      <td>1</td>\n",
              "      <td>A lot more (increased by more than 50%)</td>\n",
              "    </tr>\n",
              "    <tr>\n",
              "      <th>1</th>\n",
              "      <td>1</td>\n",
              "      <td>2</td>\n",
              "      <td>Slightly more</td>\n",
              "    </tr>\n",
              "    <tr>\n",
              "      <th>2</th>\n",
              "      <td>2</td>\n",
              "      <td>3</td>\n",
              "      <td>Same</td>\n",
              "    </tr>\n",
              "    <tr>\n",
              "      <th>3</th>\n",
              "      <td>3</td>\n",
              "      <td>4</td>\n",
              "      <td>Slightly less</td>\n",
              "    </tr>\n",
              "    <tr>\n",
              "      <th>4</th>\n",
              "      <td>4</td>\n",
              "      <td>5</td>\n",
              "      <td>A lot less (less than half as much)</td>\n",
              "    </tr>\n",
              "    <tr>\n",
              "      <th>5</th>\n",
              "      <td>5</td>\n",
              "      <td>888</td>\n",
              "      <td>Don't know</td>\n",
              "    </tr>\n",
              "    <tr>\n",
              "      <th>6</th>\n",
              "      <td>6</td>\n",
              "      <td>999</td>\n",
              "      <td>Refused</td>\n",
              "    </tr>\n",
              "  </tbody>\n",
              "</table>\n",
              "</div>\n",
              "    <div class=\"colab-df-buttons\">\n",
              "\n",
              "  <div class=\"colab-df-container\">\n",
              "    <button class=\"colab-df-convert\" onclick=\"convertToInteractive('df-e3e6c775-e729-4497-95cb-658dcddd3c36')\"\n",
              "            title=\"Convert this dataframe to an interactive table.\"\n",
              "            style=\"display:none;\">\n",
              "\n",
              "  <svg xmlns=\"http://www.w3.org/2000/svg\" height=\"24px\" viewBox=\"0 -960 960 960\">\n",
              "    <path d=\"M120-120v-720h720v720H120Zm60-500h600v-160H180v160Zm220 220h160v-160H400v160Zm0 220h160v-160H400v160ZM180-400h160v-160H180v160Zm440 0h160v-160H620v160ZM180-180h160v-160H180v160Zm440 0h160v-160H620v160Z\"/>\n",
              "  </svg>\n",
              "    </button>\n",
              "\n",
              "  <style>\n",
              "    .colab-df-container {\n",
              "      display:flex;\n",
              "      gap: 12px;\n",
              "    }\n",
              "\n",
              "    .colab-df-convert {\n",
              "      background-color: #E8F0FE;\n",
              "      border: none;\n",
              "      border-radius: 50%;\n",
              "      cursor: pointer;\n",
              "      display: none;\n",
              "      fill: #1967D2;\n",
              "      height: 32px;\n",
              "      padding: 0 0 0 0;\n",
              "      width: 32px;\n",
              "    }\n",
              "\n",
              "    .colab-df-convert:hover {\n",
              "      background-color: #E2EBFA;\n",
              "      box-shadow: 0px 1px 2px rgba(60, 64, 67, 0.3), 0px 1px 3px 1px rgba(60, 64, 67, 0.15);\n",
              "      fill: #174EA6;\n",
              "    }\n",
              "\n",
              "    .colab-df-buttons div {\n",
              "      margin-bottom: 4px;\n",
              "    }\n",
              "\n",
              "    [theme=dark] .colab-df-convert {\n",
              "      background-color: #3B4455;\n",
              "      fill: #D2E3FC;\n",
              "    }\n",
              "\n",
              "    [theme=dark] .colab-df-convert:hover {\n",
              "      background-color: #434B5C;\n",
              "      box-shadow: 0px 1px 3px 1px rgba(0, 0, 0, 0.15);\n",
              "      filter: drop-shadow(0px 1px 2px rgba(0, 0, 0, 0.3));\n",
              "      fill: #FFFFFF;\n",
              "    }\n",
              "  </style>\n",
              "\n",
              "    <script>\n",
              "      const buttonEl =\n",
              "        document.querySelector('#df-e3e6c775-e729-4497-95cb-658dcddd3c36 button.colab-df-convert');\n",
              "      buttonEl.style.display =\n",
              "        google.colab.kernel.accessAllowed ? 'block' : 'none';\n",
              "\n",
              "      async function convertToInteractive(key) {\n",
              "        const element = document.querySelector('#df-e3e6c775-e729-4497-95cb-658dcddd3c36');\n",
              "        const dataTable =\n",
              "          await google.colab.kernel.invokeFunction('convertToInteractive',\n",
              "                                                    [key], {});\n",
              "        if (!dataTable) return;\n",
              "\n",
              "        const docLinkHtml = 'Like what you see? Visit the ' +\n",
              "          '<a target=\"_blank\" href=https://colab.research.google.com/notebooks/data_table.ipynb>data table notebook</a>'\n",
              "          + ' to learn more about interactive tables.';\n",
              "        element.innerHTML = '';\n",
              "        dataTable['output_type'] = 'display_data';\n",
              "        await google.colab.output.renderOutput(dataTable, element);\n",
              "        const docLink = document.createElement('div');\n",
              "        docLink.innerHTML = docLinkHtml;\n",
              "        element.appendChild(docLink);\n",
              "      }\n",
              "    </script>\n",
              "  </div>\n",
              "\n",
              "\n",
              "<div id=\"df-7300d3b3-740b-40ef-8ea9-9f3d108e20a8\">\n",
              "  <button class=\"colab-df-quickchart\" onclick=\"quickchart('df-7300d3b3-740b-40ef-8ea9-9f3d108e20a8')\"\n",
              "            title=\"Suggest charts.\"\n",
              "            style=\"display:none;\">\n",
              "\n",
              "<svg xmlns=\"http://www.w3.org/2000/svg\" height=\"24px\"viewBox=\"0 0 24 24\"\n",
              "     width=\"24px\">\n",
              "    <g>\n",
              "        <path d=\"M19 3H5c-1.1 0-2 .9-2 2v14c0 1.1.9 2 2 2h14c1.1 0 2-.9 2-2V5c0-1.1-.9-2-2-2zM9 17H7v-7h2v7zm4 0h-2V7h2v10zm4 0h-2v-4h2v4z\"/>\n",
              "    </g>\n",
              "</svg>\n",
              "  </button>\n",
              "\n",
              "<style>\n",
              "  .colab-df-quickchart {\n",
              "      --bg-color: #E8F0FE;\n",
              "      --fill-color: #1967D2;\n",
              "      --hover-bg-color: #E2EBFA;\n",
              "      --hover-fill-color: #174EA6;\n",
              "      --disabled-fill-color: #AAA;\n",
              "      --disabled-bg-color: #DDD;\n",
              "  }\n",
              "\n",
              "  [theme=dark] .colab-df-quickchart {\n",
              "      --bg-color: #3B4455;\n",
              "      --fill-color: #D2E3FC;\n",
              "      --hover-bg-color: #434B5C;\n",
              "      --hover-fill-color: #FFFFFF;\n",
              "      --disabled-bg-color: #3B4455;\n",
              "      --disabled-fill-color: #666;\n",
              "  }\n",
              "\n",
              "  .colab-df-quickchart {\n",
              "    background-color: var(--bg-color);\n",
              "    border: none;\n",
              "    border-radius: 50%;\n",
              "    cursor: pointer;\n",
              "    display: none;\n",
              "    fill: var(--fill-color);\n",
              "    height: 32px;\n",
              "    padding: 0;\n",
              "    width: 32px;\n",
              "  }\n",
              "\n",
              "  .colab-df-quickchart:hover {\n",
              "    background-color: var(--hover-bg-color);\n",
              "    box-shadow: 0 1px 2px rgba(60, 64, 67, 0.3), 0 1px 3px 1px rgba(60, 64, 67, 0.15);\n",
              "    fill: var(--button-hover-fill-color);\n",
              "  }\n",
              "\n",
              "  .colab-df-quickchart-complete:disabled,\n",
              "  .colab-df-quickchart-complete:disabled:hover {\n",
              "    background-color: var(--disabled-bg-color);\n",
              "    fill: var(--disabled-fill-color);\n",
              "    box-shadow: none;\n",
              "  }\n",
              "\n",
              "  .colab-df-spinner {\n",
              "    border: 2px solid var(--fill-color);\n",
              "    border-color: transparent;\n",
              "    border-bottom-color: var(--fill-color);\n",
              "    animation:\n",
              "      spin 1s steps(1) infinite;\n",
              "  }\n",
              "\n",
              "  @keyframes spin {\n",
              "    0% {\n",
              "      border-color: transparent;\n",
              "      border-bottom-color: var(--fill-color);\n",
              "      border-left-color: var(--fill-color);\n",
              "    }\n",
              "    20% {\n",
              "      border-color: transparent;\n",
              "      border-left-color: var(--fill-color);\n",
              "      border-top-color: var(--fill-color);\n",
              "    }\n",
              "    30% {\n",
              "      border-color: transparent;\n",
              "      border-left-color: var(--fill-color);\n",
              "      border-top-color: var(--fill-color);\n",
              "      border-right-color: var(--fill-color);\n",
              "    }\n",
              "    40% {\n",
              "      border-color: transparent;\n",
              "      border-right-color: var(--fill-color);\n",
              "      border-top-color: var(--fill-color);\n",
              "    }\n",
              "    60% {\n",
              "      border-color: transparent;\n",
              "      border-right-color: var(--fill-color);\n",
              "    }\n",
              "    80% {\n",
              "      border-color: transparent;\n",
              "      border-right-color: var(--fill-color);\n",
              "      border-bottom-color: var(--fill-color);\n",
              "    }\n",
              "    90% {\n",
              "      border-color: transparent;\n",
              "      border-bottom-color: var(--fill-color);\n",
              "    }\n",
              "  }\n",
              "</style>\n",
              "\n",
              "  <script>\n",
              "    async function quickchart(key) {\n",
              "      const quickchartButtonEl =\n",
              "        document.querySelector('#' + key + ' button');\n",
              "      quickchartButtonEl.disabled = true;  // To prevent multiple clicks.\n",
              "      quickchartButtonEl.classList.add('colab-df-spinner');\n",
              "      try {\n",
              "        const charts = await google.colab.kernel.invokeFunction(\n",
              "            'suggestCharts', [key], {});\n",
              "      } catch (error) {\n",
              "        console.error('Error during call to suggestCharts:', error);\n",
              "      }\n",
              "      quickchartButtonEl.classList.remove('colab-df-spinner');\n",
              "      quickchartButtonEl.classList.add('colab-df-quickchart-complete');\n",
              "    }\n",
              "    (() => {\n",
              "      let quickchartButtonEl =\n",
              "        document.querySelector('#df-7300d3b3-740b-40ef-8ea9-9f3d108e20a8 button');\n",
              "      quickchartButtonEl.style.display =\n",
              "        google.colab.kernel.accessAllowed ? 'block' : 'none';\n",
              "    })();\n",
              "  </script>\n",
              "</div>\n",
              "    </div>\n",
              "  </div>\n"
            ]
          },
          "metadata": {},
          "execution_count": 15
        }
      ]
    },
    {
      "cell_type": "code",
      "source": [
        "%%ag\n",
        "\n",
        "def is_lotmore(x: int) -> int:\n",
        "  if x == 1:\n",
        "    return 1\n",
        "  return 0\n",
        "\n",
        "def is_slightlymore(x: int) -> int:\n",
        "  if x == 2:\n",
        "    return 1\n",
        "  return 0\n",
        "\n",
        "def is_same(x: int) -> int:\n",
        "  if x == 3:\n",
        "    return 1\n",
        "  return 0\n",
        "\n",
        "def is_slightlyless(x: str) -> int:\n",
        "  if x == 4:\n",
        "    return 1\n",
        "  return 0\n",
        "\n",
        "def is_lotless(x: str) -> int:\n",
        "  if x == 5:\n",
        "    return 1\n",
        "  return 0\n",
        "\n"
      ],
      "metadata": {
        "id": "G49Q-V5ltzlL"
      },
      "execution_count": 16,
      "outputs": []
    },
    {
      "cell_type": "code",
      "source": [
        "%%ag\n",
        "\n",
        "df[\" A lot more (>50%)\"] = df[\"crp_salesprice\"].map(is_lotmore, output_bounds = (0 , 1))\n",
        "df[\"Is slightly more\"] = df[\"crp_salesprice\"].map(is_slightlymore, output_bounds = (0 , 1))\n",
        "df[\"Is same\"] = df[\"crp_salesprice\"].map(is_slightlymore, output_bounds = (0 , 1))\n",
        "df[\"Is slightly less\"] = df[\"crp_salesprice\"].map(is_slightlyless, output_bounds = (0 , 1))\n",
        "df[\"Is lot less\"] = df[\"crp_salesprice\"].map(is_lotless, output_bounds = (0 , 1))\n",
        "\n"
      ],
      "metadata": {
        "id": "F7SMz68AuUD6"
      },
      "execution_count": 17,
      "outputs": []
    },
    {
      "cell_type": "code",
      "source": [
        "%%ag\n",
        "from ag_utils import export\n",
        "ret = [\n",
        "    df[\" A lot more (>50%)\"].mean(eps=0.01),\n",
        "    df[\"Is slightly more\"].mean(eps=0.01),\n",
        "    df[\"Is same\"].mean(eps=0.01),\n",
        "    df[\"Is slightly less\"].mean(eps=0.01),\n",
        "    df[\"Is lot less\"].mean(eps=0.01),\n",
        "\n",
        "    ]\n",
        "export(\n",
        "    ret,\n",
        "    \"data_plot1\"\n",
        ")"
      ],
      "metadata": {
        "colab": {
          "base_uri": "https://localhost:8080/"
        },
        "id": "aXoHmEuNvIi4",
        "outputId": "b03ac276-7f86-451c-ce21-37aa33d1d6af"
      },
      "execution_count": 18,
      "outputs": [
        {
          "output_type": "stream",
          "name": "stdout",
          "text": [
            "Setting up exported variable in local environment: data_plot1\n"
          ]
        }
      ]
    },
    {
      "cell_type": "code",
      "source": [
        "data_plot1"
      ],
      "metadata": {
        "colab": {
          "base_uri": "https://localhost:8080/"
        },
        "id": "evVIVHPvvfpi",
        "outputId": "8d780090-245c-4349-820d-c7b5395f1efa"
      },
      "execution_count": 19,
      "outputs": [
        {
          "output_type": "execute_result",
          "data": {
            "text/plain": [
              "[0.026258064835078185,\n",
              " 0.09631628495698452,\n",
              " 0.09427224291756096,\n",
              " 0.08290072268460236,\n",
              " 0.016346477912221526]"
            ]
          },
          "metadata": {},
          "execution_count": 19
        }
      ]
    },
    {
      "cell_type": "code",
      "source": [
        "import matplotlib.pyplot as plt\n",
        "\n",
        "d1=[0.026258064835078185,\n",
        " 0.09631628495698452,\n",
        " 0.09427224291756096,\n",
        " 0.08290072268460236,\n",
        " 0.016346477912221526]\n",
        "\n",
        "\n",
        "labels_p = ['A lot more >50%', 'Is slightly more', 'Its same', 'Is slightly less','Is a lot less']\n",
        "\n",
        "# Creating the pie chart\n",
        "fig, ax = plt.subplots()\n",
        "ax.pie(d1, labels=labels_p, autopct='%1.1f%%')\n",
        "ax.axis('equal')  # Equal aspect ratio ensures that pie is drawn as a circle.\n",
        "\n",
        "# Display the pie chart\n",
        "plt.show()\n"
      ],
      "metadata": {
        "colab": {
          "base_uri": "https://localhost:8080/",
          "height": 412
        },
        "id": "nrfhqRifvi2k",
        "outputId": "0aed2ab7-5bbf-4a26-d163-802bcaeeb1a0"
      },
      "execution_count": 23,
      "outputs": [
        {
          "output_type": "display_data",
          "data": {
            "text/plain": [
              "<Figure size 640x480 with 1 Axes>"
            ],
            "image/png": "[encoded data removed]"
          },
          "metadata": {}
        }
      ]
    },
    {
      "cell_type": "markdown",
      "source": [
        "# 3. Question asked: 'How does the current price of your household's [crp_salesmain] compare to the average price in the same period of #reference year#?'. [crp_salesmain] will be replaced by the response of the households to the question 'What was the main crop that you have sold over the last 3 months?' and #reference year# will be replaced with the country specific information."
      ],
      "metadata": {
        "id": "36T3lH_9wbWJ"
      }
    },
    {
      "cell_type": "markdown",
      "source": [
        "8.3% of the respondents said that they got a substantial profit\n",
        "For more than half the current price remains same or has decreased\n",
        "For 5.2% it is not upo the mark\n"
      ],
      "metadata": {
        "id": "iGGFk95MC8VU"
      }
    },
    {
      "cell_type": "code",
      "source": [
        "# irrigation source"
      ],
      "metadata": {
        "id": "AEe5spiywjAD"
      },
      "execution_count": 24,
      "outputs": []
    },
    {
      "cell_type": "code",
      "source": [
        "\n",
        "crp_irrigation = pd.read_excel(r\"/content/FAO_dataset_coded_values_20220929123905.xlsx\", sheet_name='crp_irrig_source')"
      ],
      "metadata": {
        "id": "x4fS8dKqw9zc"
      },
      "execution_count": 10,
      "outputs": []
    },
    {
      "cell_type": "code",
      "source": [
        "crp_irrigation"
      ],
      "metadata": {
        "colab": {
          "base_uri": "https://localhost:8080/",
          "height": 300
        },
        "id": "LLXIQiCDxHPz",
        "outputId": "622aa5f9-b520-4bfa-b439-d5e4ed203154"
      },
      "execution_count": 11,
      "outputs": [
        {
          "output_type": "execute_result",
          "data": {
            "text/plain": [
              "   Unnamed: 0  code                                              label\n",
              "0           0     1                                            Rainfed\n",
              "1           1     2                                        Groundwater\n",
              "2           2     3  Natural surface water (river, lake, stream, po...\n",
              "3           3     4         Constructed water point (canal, dam, etc.)\n",
              "4           4     5        Public water supply system (e.g. tap water)\n",
              "5           5   666                                             Other \n",
              "6           6   888                                         Don't know\n",
              "7           7   999                                            Refused"
            ],
            "text/html": [
              "\n",
              "  <div id=\"df-c100b60e-6674-4d56-9fc3-0c72c69e293b\" class=\"colab-df-container\">\n",
              "    <div>\n",
              "<style scoped>\n",
              "    .dataframe tbody tr th:only-of-type {\n",
              "        vertical-align: middle;\n",
              "    }\n",
              "\n",
              "    .dataframe tbody tr th {\n",
              "        vertical-align: top;\n",
              "    }\n",
              "\n",
              "    .dataframe thead th {\n",
              "        text-align: right;\n",
              "    }\n",
              "</style>\n",
              "<table border=\"1\" class=\"dataframe\">\n",
              "  <thead>\n",
              "    <tr style=\"text-align: right;\">\n",
              "      <th></th>\n",
              "      <th>Unnamed: 0</th>\n",
              "      <th>code</th>\n",
              "      <th>label</th>\n",
              "    </tr>\n",
              "  </thead>\n",
              "  <tbody>\n",
              "    <tr>\n",
              "      <th>0</th>\n",
              "      <td>0</td>\n",
              "      <td>1</td>\n",
              "      <td>Rainfed</td>\n",
              "    </tr>\n",
              "    <tr>\n",
              "      <th>1</th>\n",
              "      <td>1</td>\n",
              "      <td>2</td>\n",
              "      <td>Groundwater</td>\n",
              "    </tr>\n",
              "    <tr>\n",
              "      <th>2</th>\n",
              "      <td>2</td>\n",
              "      <td>3</td>\n",
              "      <td>Natural surface water (river, lake, stream, po...</td>\n",
              "    </tr>\n",
              "    <tr>\n",
              "      <th>3</th>\n",
              "      <td>3</td>\n",
              "      <td>4</td>\n",
              "      <td>Constructed water point (canal, dam, etc.)</td>\n",
              "    </tr>\n",
              "    <tr>\n",
              "      <th>4</th>\n",
              "      <td>4</td>\n",
              "      <td>5</td>\n",
              "      <td>Public water supply system (e.g. tap water)</td>\n",
              "    </tr>\n",
              "    <tr>\n",
              "      <th>5</th>\n",
              "      <td>5</td>\n",
              "      <td>666</td>\n",
              "      <td>Other</td>\n",
              "    </tr>\n",
              "    <tr>\n",
              "      <th>6</th>\n",
              "      <td>6</td>\n",
              "      <td>888</td>\n",
              "      <td>Don't know</td>\n",
              "    </tr>\n",
              "    <tr>\n",
              "      <th>7</th>\n",
              "      <td>7</td>\n",
              "      <td>999</td>\n",
              "      <td>Refused</td>\n",
              "    </tr>\n",
              "  </tbody>\n",
              "</table>\n",
              "</div>\n",
              "    <div class=\"colab-df-buttons\">\n",
              "\n",
              "  <div class=\"colab-df-container\">\n",
              "    <button class=\"colab-df-convert\" onclick=\"convertToInteractive('df-c100b60e-6674-4d56-9fc3-0c72c69e293b')\"\n",
              "            title=\"Convert this dataframe to an interactive table.\"\n",
              "            style=\"display:none;\">\n",
              "\n",
              "  <svg xmlns=\"http://www.w3.org/2000/svg\" height=\"24px\" viewBox=\"0 -960 960 960\">\n",
              "    <path d=\"M120-120v-720h720v720H120Zm60-500h600v-160H180v160Zm220 220h160v-160H400v160Zm0 220h160v-160H400v160ZM180-400h160v-160H180v160Zm440 0h160v-160H620v160ZM180-180h160v-160H180v160Zm440 0h160v-160H620v160Z\"/>\n",
              "  </svg>\n",
              "    </button>\n",
              "\n",
              "  <style>\n",
              "    .colab-df-container {\n",
              "      display:flex;\n",
              "      gap: 12px;\n",
              "    }\n",
              "\n",
              "    .colab-df-convert {\n",
              "      background-color: #E8F0FE;\n",
              "      border: none;\n",
              "      border-radius: 50%;\n",
              "      cursor: pointer;\n",
              "      display: none;\n",
              "      fill: #1967D2;\n",
              "      height: 32px;\n",
              "      padding: 0 0 0 0;\n",
              "      width: 32px;\n",
              "    }\n",
              "\n",
              "    .colab-df-convert:hover {\n",
              "      background-color: #E2EBFA;\n",
              "      box-shadow: 0px 1px 2px rgba(60, 64, 67, 0.3), 0px 1px 3px 1px rgba(60, 64, 67, 0.15);\n",
              "      fill: #174EA6;\n",
              "    }\n",
              "\n",
              "    .colab-df-buttons div {\n",
              "      margin-bottom: 4px;\n",
              "    }\n",
              "\n",
              "    [theme=dark] .colab-df-convert {\n",
              "      background-color: #3B4455;\n",
              "      fill: #D2E3FC;\n",
              "    }\n",
              "\n",
              "    [theme=dark] .colab-df-convert:hover {\n",
              "      background-color: #434B5C;\n",
              "      box-shadow: 0px 1px 3px 1px rgba(0, 0, 0, 0.15);\n",
              "      filter: drop-shadow(0px 1px 2px rgba(0, 0, 0, 0.3));\n",
              "      fill: #FFFFFF;\n",
              "    }\n",
              "  </style>\n",
              "\n",
              "    <script>\n",
              "      const buttonEl =\n",
              "        document.querySelector('#df-c100b60e-6674-4d56-9fc3-0c72c69e293b button.colab-df-convert');\n",
              "      buttonEl.style.display =\n",
              "        google.colab.kernel.accessAllowed ? 'block' : 'none';\n",
              "\n",
              "      async function convertToInteractive(key) {\n",
              "        const element = document.querySelector('#df-c100b60e-6674-4d56-9fc3-0c72c69e293b');\n",
              "        const dataTable =\n",
              "          await google.colab.kernel.invokeFunction('convertToInteractive',\n",
              "                                                    [key], {});\n",
              "        if (!dataTable) return;\n",
              "\n",
              "        const docLinkHtml = 'Like what you see? Visit the ' +\n",
              "          '<a target=\"_blank\" href=https://colab.research.google.com/notebooks/data_table.ipynb>data table notebook</a>'\n",
              "          + ' to learn more about interactive tables.';\n",
              "        element.innerHTML = '';\n",
              "        dataTable['output_type'] = 'display_data';\n",
              "        await google.colab.output.renderOutput(dataTable, element);\n",
              "        const docLink = document.createElement('div');\n",
              "        docLink.innerHTML = docLinkHtml;\n",
              "        element.appendChild(docLink);\n",
              "      }\n",
              "    </script>\n",
              "  </div>\n",
              "\n",
              "\n",
              "<div id=\"df-affcfd9b-7eef-407c-b0bf-37264022d724\">\n",
              "  <button class=\"colab-df-quickchart\" onclick=\"quickchart('df-affcfd9b-7eef-407c-b0bf-37264022d724')\"\n",
              "            title=\"Suggest charts.\"\n",
              "            style=\"display:none;\">\n",
              "\n",
              "<svg xmlns=\"http://www.w3.org/2000/svg\" height=\"24px\"viewBox=\"0 0 24 24\"\n",
              "     width=\"24px\">\n",
              "    <g>\n",
              "        <path d=\"M19 3H5c-1.1 0-2 .9-2 2v14c0 1.1.9 2 2 2h14c1.1 0 2-.9 2-2V5c0-1.1-.9-2-2-2zM9 17H7v-7h2v7zm4 0h-2V7h2v10zm4 0h-2v-4h2v4z\"/>\n",
              "    </g>\n",
              "</svg>\n",
              "  </button>\n",
              "\n",
              "<style>\n",
              "  .colab-df-quickchart {\n",
              "      --bg-color: #E8F0FE;\n",
              "      --fill-color: #1967D2;\n",
              "      --hover-bg-color: #E2EBFA;\n",
              "      --hover-fill-color: #174EA6;\n",
              "      --disabled-fill-color: #AAA;\n",
              "      --disabled-bg-color: #DDD;\n",
              "  }\n",
              "\n",
              "  [theme=dark] .colab-df-quickchart {\n",
              "      --bg-color: #3B4455;\n",
              "      --fill-color: #D2E3FC;\n",
              "      --hover-bg-color: #434B5C;\n",
              "      --hover-fill-color: #FFFFFF;\n",
              "      --disabled-bg-color: #3B4455;\n",
              "      --disabled-fill-color: #666;\n",
              "  }\n",
              "\n",
              "  .colab-df-quickchart {\n",
              "    background-color: var(--bg-color);\n",
              "    border: none;\n",
              "    border-radius: 50%;\n",
              "    cursor: pointer;\n",
              "    display: none;\n",
              "    fill: var(--fill-color);\n",
              "    height: 32px;\n",
              "    padding: 0;\n",
              "    width: 32px;\n",
              "  }\n",
              "\n",
              "  .colab-df-quickchart:hover {\n",
              "    background-color: var(--hover-bg-color);\n",
              "    box-shadow: 0 1px 2px rgba(60, 64, 67, 0.3), 0 1px 3px 1px rgba(60, 64, 67, 0.15);\n",
              "    fill: var(--button-hover-fill-color);\n",
              "  }\n",
              "\n",
              "  .colab-df-quickchart-complete:disabled,\n",
              "  .colab-df-quickchart-complete:disabled:hover {\n",
              "    background-color: var(--disabled-bg-color);\n",
              "    fill: var(--disabled-fill-color);\n",
              "    box-shadow: none;\n",
              "  }\n",
              "\n",
              "  .colab-df-spinner {\n",
              "    border: 2px solid var(--fill-color);\n",
              "    border-color: transparent;\n",
              "    border-bottom-color: var(--fill-color);\n",
              "    animation:\n",
              "      spin 1s steps(1) infinite;\n",
              "  }\n",
              "\n",
              "  @keyframes spin {\n",
              "    0% {\n",
              "      border-color: transparent;\n",
              "      border-bottom-color: var(--fill-color);\n",
              "      border-left-color: var(--fill-color);\n",
              "    }\n",
              "    20% {\n",
              "      border-color: transparent;\n",
              "      border-left-color: var(--fill-color);\n",
              "      border-top-color: var(--fill-color);\n",
              "    }\n",
              "    30% {\n",
              "      border-color: transparent;\n",
              "      border-left-color: var(--fill-color);\n",
              "      border-top-color: var(--fill-color);\n",
              "      border-right-color: var(--fill-color);\n",
              "    }\n",
              "    40% {\n",
              "      border-color: transparent;\n",
              "      border-right-color: var(--fill-color);\n",
              "      border-top-color: var(--fill-color);\n",
              "    }\n",
              "    60% {\n",
              "      border-color: transparent;\n",
              "      border-right-color: var(--fill-color);\n",
              "    }\n",
              "    80% {\n",
              "      border-color: transparent;\n",
              "      border-right-color: var(--fill-color);\n",
              "      border-bottom-color: var(--fill-color);\n",
              "    }\n",
              "    90% {\n",
              "      border-color: transparent;\n",
              "      border-bottom-color: var(--fill-color);\n",
              "    }\n",
              "  }\n",
              "</style>\n",
              "\n",
              "  <script>\n",
              "    async function quickchart(key) {\n",
              "      const quickchartButtonEl =\n",
              "        document.querySelector('#' + key + ' button');\n",
              "      quickchartButtonEl.disabled = true;  // To prevent multiple clicks.\n",
              "      quickchartButtonEl.classList.add('colab-df-spinner');\n",
              "      try {\n",
              "        const charts = await google.colab.kernel.invokeFunction(\n",
              "            'suggestCharts', [key], {});\n",
              "      } catch (error) {\n",
              "        console.error('Error during call to suggestCharts:', error);\n",
              "      }\n",
              "      quickchartButtonEl.classList.remove('colab-df-spinner');\n",
              "      quickchartButtonEl.classList.add('colab-df-quickchart-complete');\n",
              "    }\n",
              "    (() => {\n",
              "      let quickchartButtonEl =\n",
              "        document.querySelector('#df-affcfd9b-7eef-407c-b0bf-37264022d724 button');\n",
              "      quickchartButtonEl.style.display =\n",
              "        google.colab.kernel.accessAllowed ? 'block' : 'none';\n",
              "    })();\n",
              "  </script>\n",
              "</div>\n",
              "    </div>\n",
              "  </div>\n"
            ]
          },
          "metadata": {},
          "execution_count": 11
        }
      ]
    },
    {
      "cell_type": "code",
      "source": [
        "%%ag\n",
        "\n",
        "def is_rain(x: int) -> int:\n",
        "  if x == 1:\n",
        "    return 1\n",
        "  return 0\n",
        "\n",
        "def is_gw(x: int) -> int:\n",
        "  if x == 2:\n",
        "    return 1\n",
        "  return 0\n",
        "\n",
        "def is_surfacewater(x: int) -> int:\n",
        "  if x == 3:\n",
        "    return 1\n",
        "  return 0\n",
        "\n",
        "def is_constructedwater(x: str) -> int:\n",
        "  if x == 4:\n",
        "    return 1\n",
        "  return 0\n",
        "\n",
        "def is_publicsupply(x: str) -> int:\n",
        "  if x == 5:\n",
        "    return 1\n",
        "  return 0\n",
        "\n",
        "def is_other(x: str) -> int:\n",
        "  if x == 6:\n",
        "    return 1\n",
        "  return 0\n"
      ],
      "metadata": {
        "id": "Ej-NVq-xxJz1"
      },
      "execution_count": 12,
      "outputs": []
    },
    {
      "cell_type": "code",
      "source": [
        "%%ag\n",
        "\n",
        "df[\"Rain\"] = df[\"crp_irrig_source\"].map(is_rain, output_bounds = (0 , 1))\n",
        "df[\"Ground Water\"] = df[\"crp_irrig_source\"].map(is_gw, output_bounds = (0 , 1))\n",
        "df[\"Surface water\"] = df[\"crp_irrig_source\"].map(is_surfacewater, output_bounds = (0 , 1))\n",
        "df[\"Constructions\"] = df[\"crp_irrig_source\"].map(is_constructedwater, output_bounds = (0 , 1))\n",
        "df[\"Public supply\"] = df[\"crp_irrig_source\"].map(is_publicsupply, output_bounds = (0 , 1))\n",
        "df[\"Other\"] = df[\"crp_irrig_source\"].map(is_other, output_bounds = (0 , 1))"
      ],
      "metadata": {
        "id": "w4ZOQIGBxegm"
      },
      "execution_count": 13,
      "outputs": []
    },
    {
      "cell_type": "code",
      "source": [
        "%%ag\n",
        "from ag_utils import export\n",
        "ret = [\n",
        "    df[\"Rain\"].mean(eps=0.01),\n",
        "    df[\"Ground Water\"].mean(eps=0.00000000000000000000000001),\n",
        "    df[\"Surface water\"].mean(eps=0.00000000000000000000000001),\n",
        "    df[\"Constructions\"].mean(eps=0.00000000000000000000000001),\n",
        "    df[\"Public supply\"].mean(eps=0.00000000000000000000000001),\n",
        "    df[\"Other\"].mean(eps=0.00000000000000000000000001)\n",
        "\n",
        "    ]\n",
        "export(\n",
        "    ret,\n",
        "    \"data_plot2\"\n",
        ")"
      ],
      "metadata": {
        "colab": {
          "base_uri": "https://localhost:8080/"
        },
        "id": "rm7n2cV3ySDQ",
        "outputId": "8af85124-ae1f-47fe-b821-a3521cfde539"
      },
      "execution_count": 15,
      "outputs": [
        {
          "output_type": "stream",
          "name": "stdout",
          "text": [
            "message: Error ID is - baf07322-bb7f-4207-a03e-c20abf818688 - Error from upstream service: Client error '400 Bad Request' for url 'http://supervisor-prod-private.antigranular.com/privacyRequest'\n",
            "For more information check: https://httpstatuses.com/400. Response text: {\"detail\":\"Maximum delta or epsilon exceeded. Your current balance left is eps : 0.0008999999999659281 and delta : 2.0\"}\n",
            "\n",
            "\u001b[0;31mValueError\u001b[0m: Request Limit Exceeded!\n"
          ]
        }
      ]
    },
    {
      "cell_type": "code",
      "source": [],
      "metadata": {
        "id": "lr3uSsKepSRW"
      },
      "execution_count": null,
      "outputs": []
    },
    {
      "cell_type": "code",
      "source": [
        "data_plot2=[0.23664517802545515,\n",
        " 0.06321459421797543,\n",
        " 0.09358456382076484,\n",
        " 0.03637570729493297,\n",
        " 0.01214013468279802,\n",
        " 0.0]"
      ],
      "metadata": {
        "id": "jsGrIbj1yvOE"
      },
      "execution_count": 23,
      "outputs": []
    },
    {
      "cell_type": "code",
      "source": [
        "import matplotlib.pyplot as plt\n",
        "\n",
        "\n",
        "\n",
        "labels_p = ['Rain', 'Ground water', 'Surface Water', 'Constructions','Public supply','Other']\n",
        "\n",
        "# Creating the pie chart\n",
        "fig, ax = plt.subplots()\n",
        "ax.pie(data_plot2, labels=labels_p, autopct='%1.1f%%')\n",
        "ax.axis('equal')  # Equal aspect ratio ensures that pie is drawn as a circle.\n",
        "\n",
        "# Display the pie chart\n",
        "plt.show()\n"
      ],
      "metadata": {
        "colab": {
          "base_uri": "https://localhost:8080/",
          "height": 415
        },
        "id": "Zf5CQ_X9ymGH",
        "outputId": "95e92ae5-d53c-41dc-c91a-b1405f3f6978"
      },
      "execution_count": 24,
      "outputs": [
        {
          "output_type": "display_data",
          "data": {
            "text/plain": [
              "<Figure size 640x480 with 1 Axes>"
            ],
            "image/png": "[encoded data removed]"
          },
          "metadata": {}
        }
      ]
    },
    {
      "cell_type": "markdown",
      "source": [
        "\n",
        "# 4.Question asked: 'Where do you normally and mainly obtain water for the production of [crp_main]?'. [crp_main] will be replaced with the main crop grown by the respondent's household.\n"
      ],
      "metadata": {
        "id": "DLhtYg7dzM26"
      }
    },
    {
      "cell_type": "markdown",
      "source": [
        "Around 70% use primitive ways of irrigation\n",
        "12 and 8.5 percent of the respondents depend upon diesel or manual pump on a collective/community basis\n",
        "7.8% has a Diesel pump,\n",
        "2.2% uses a manual pump\n"
      ],
      "metadata": {
        "id": "IsmJT_17De-P"
      }
    },
    {
      "cell_type": "markdown",
      "source": [
        "# Power in irrigation system"
      ],
      "metadata": {
        "id": "MHYjGliCzSCd"
      }
    },
    {
      "cell_type": "code",
      "source": [
        "\n",
        "crp_irrigation_power = pd.read_excel(r\"/content/FAO_dataset_coded_values_20220929123905.xlsx\", sheet_name='crp_irrig_system')"
      ],
      "metadata": {
        "id": "7J8M9K9yzmfU"
      },
      "execution_count": 33,
      "outputs": []
    },
    {
      "cell_type": "code",
      "source": [
        "crp_irrigation_power"
      ],
      "metadata": {
        "colab": {
          "base_uri": "https://localhost:8080/",
          "height": 269
        },
        "id": "78LEIz-tzuk3",
        "outputId": "da0d2262-53dc-4887-bd99-32642288845c"
      },
      "execution_count": 35,
      "outputs": [
        {
          "output_type": "execute_result",
          "data": {
            "text/plain": [
              "   Unnamed: 0  code                                     label\n",
              "0           0     1           No, everything works on gravity\n",
              "1           1     2  Yes, there is a communal diesel/gas pump\n",
              "2           2     3      Yes, there is a communal manual pump\n",
              "3           3     4   Yes, there is a manual pump in my field\n",
              "4           4     5   Yes, there is a diesel pump in my field\n",
              "5           5   888                                Don't know\n",
              "6           6   999                                   Refused"
            ],
            "text/html": [
              "\n",
              "  <div id=\"df-d84847cd-b044-4471-8d45-075f1cc0d21f\" class=\"colab-df-container\">\n",
              "    <div>\n",
              "<style scoped>\n",
              "    .dataframe tbody tr th:only-of-type {\n",
              "        vertical-align: middle;\n",
              "    }\n",
              "\n",
              "    .dataframe tbody tr th {\n",
              "        vertical-align: top;\n",
              "    }\n",
              "\n",
              "    .dataframe thead th {\n",
              "        text-align: right;\n",
              "    }\n",
              "</style>\n",
              "<table border=\"1\" class=\"dataframe\">\n",
              "  <thead>\n",
              "    <tr style=\"text-align: right;\">\n",
              "      <th></th>\n",
              "      <th>Unnamed: 0</th>\n",
              "      <th>code</th>\n",
              "      <th>label</th>\n",
              "    </tr>\n",
              "  </thead>\n",
              "  <tbody>\n",
              "    <tr>\n",
              "      <th>0</th>\n",
              "      <td>0</td>\n",
              "      <td>1</td>\n",
              "      <td>No, everything works on gravity</td>\n",
              "    </tr>\n",
              "    <tr>\n",
              "      <th>1</th>\n",
              "      <td>1</td>\n",
              "      <td>2</td>\n",
              "      <td>Yes, there is a communal diesel/gas pump</td>\n",
              "    </tr>\n",
              "    <tr>\n",
              "      <th>2</th>\n",
              "      <td>2</td>\n",
              "      <td>3</td>\n",
              "      <td>Yes, there is a communal manual pump</td>\n",
              "    </tr>\n",
              "    <tr>\n",
              "      <th>3</th>\n",
              "      <td>3</td>\n",
              "      <td>4</td>\n",
              "      <td>Yes, there is a manual pump in my field</td>\n",
              "    </tr>\n",
              "    <tr>\n",
              "      <th>4</th>\n",
              "      <td>4</td>\n",
              "      <td>5</td>\n",
              "      <td>Yes, there is a diesel pump in my field</td>\n",
              "    </tr>\n",
              "    <tr>\n",
              "      <th>5</th>\n",
              "      <td>5</td>\n",
              "      <td>888</td>\n",
              "      <td>Don't know</td>\n",
              "    </tr>\n",
              "    <tr>\n",
              "      <th>6</th>\n",
              "      <td>6</td>\n",
              "      <td>999</td>\n",
              "      <td>Refused</td>\n",
              "    </tr>\n",
              "  </tbody>\n",
              "</table>\n",
              "</div>\n",
              "    <div class=\"colab-df-buttons\">\n",
              "\n",
              "  <div class=\"colab-df-container\">\n",
              "    <button class=\"colab-df-convert\" onclick=\"convertToInteractive('df-d84847cd-b044-4471-8d45-075f1cc0d21f')\"\n",
              "            title=\"Convert this dataframe to an interactive table.\"\n",
              "            style=\"display:none;\">\n",
              "\n",
              "  <svg xmlns=\"http://www.w3.org/2000/svg\" height=\"24px\" viewBox=\"0 -960 960 960\">\n",
              "    <path d=\"M120-120v-720h720v720H120Zm60-500h600v-160H180v160Zm220 220h160v-160H400v160Zm0 220h160v-160H400v160ZM180-400h160v-160H180v160Zm440 0h160v-160H620v160ZM180-180h160v-160H180v160Zm440 0h160v-160H620v160Z\"/>\n",
              "  </svg>\n",
              "    </button>\n",
              "\n",
              "  <style>\n",
              "    .colab-df-container {\n",
              "      display:flex;\n",
              "      gap: 12px;\n",
              "    }\n",
              "\n",
              "    .colab-df-convert {\n",
              "      background-color: #E8F0FE;\n",
              "      border: none;\n",
              "      border-radius: 50%;\n",
              "      cursor: pointer;\n",
              "      display: none;\n",
              "      fill: #1967D2;\n",
              "      height: 32px;\n",
              "      padding: 0 0 0 0;\n",
              "      width: 32px;\n",
              "    }\n",
              "\n",
              "    .colab-df-convert:hover {\n",
              "      background-color: #E2EBFA;\n",
              "      box-shadow: 0px 1px 2px rgba(60, 64, 67, 0.3), 0px 1px 3px 1px rgba(60, 64, 67, 0.15);\n",
              "      fill: #174EA6;\n",
              "    }\n",
              "\n",
              "    .colab-df-buttons div {\n",
              "      margin-bottom: 4px;\n",
              "    }\n",
              "\n",
              "    [theme=dark] .colab-df-convert {\n",
              "      background-color: #3B4455;\n",
              "      fill: #D2E3FC;\n",
              "    }\n",
              "\n",
              "    [theme=dark] .colab-df-convert:hover {\n",
              "      background-color: #434B5C;\n",
              "      box-shadow: 0px 1px 3px 1px rgba(0, 0, 0, 0.15);\n",
              "      filter: drop-shadow(0px 1px 2px rgba(0, 0, 0, 0.3));\n",
              "      fill: #FFFFFF;\n",
              "    }\n",
              "  </style>\n",
              "\n",
              "    <script>\n",
              "      const buttonEl =\n",
              "        document.querySelector('#df-d84847cd-b044-4471-8d45-075f1cc0d21f button.colab-df-convert');\n",
              "      buttonEl.style.display =\n",
              "        google.colab.kernel.accessAllowed ? 'block' : 'none';\n",
              "\n",
              "      async function convertToInteractive(key) {\n",
              "        const element = document.querySelector('#df-d84847cd-b044-4471-8d45-075f1cc0d21f');\n",
              "        const dataTable =\n",
              "          await google.colab.kernel.invokeFunction('convertToInteractive',\n",
              "                                                    [key], {});\n",
              "        if (!dataTable) return;\n",
              "\n",
              "        const docLinkHtml = 'Like what you see? Visit the ' +\n",
              "          '<a target=\"_blank\" href=https://colab.research.google.com/notebooks/data_table.ipynb>data table notebook</a>'\n",
              "          + ' to learn more about interactive tables.';\n",
              "        element.innerHTML = '';\n",
              "        dataTable['output_type'] = 'display_data';\n",
              "        await google.colab.output.renderOutput(dataTable, element);\n",
              "        const docLink = document.createElement('div');\n",
              "        docLink.innerHTML = docLinkHtml;\n",
              "        element.appendChild(docLink);\n",
              "      }\n",
              "    </script>\n",
              "  </div>\n",
              "\n",
              "\n",
              "<div id=\"df-ec6a38fb-ba68-4bc1-9be2-c393a5329134\">\n",
              "  <button class=\"colab-df-quickchart\" onclick=\"quickchart('df-ec6a38fb-ba68-4bc1-9be2-c393a5329134')\"\n",
              "            title=\"Suggest charts.\"\n",
              "            style=\"display:none;\">\n",
              "\n",
              "<svg xmlns=\"http://www.w3.org/2000/svg\" height=\"24px\"viewBox=\"0 0 24 24\"\n",
              "     width=\"24px\">\n",
              "    <g>\n",
              "        <path d=\"M19 3H5c-1.1 0-2 .9-2 2v14c0 1.1.9 2 2 2h14c1.1 0 2-.9 2-2V5c0-1.1-.9-2-2-2zM9 17H7v-7h2v7zm4 0h-2V7h2v10zm4 0h-2v-4h2v4z\"/>\n",
              "    </g>\n",
              "</svg>\n",
              "  </button>\n",
              "\n",
              "<style>\n",
              "  .colab-df-quickchart {\n",
              "      --bg-color: #E8F0FE;\n",
              "      --fill-color: #1967D2;\n",
              "      --hover-bg-color: #E2EBFA;\n",
              "      --hover-fill-color: #174EA6;\n",
              "      --disabled-fill-color: #AAA;\n",
              "      --disabled-bg-color: #DDD;\n",
              "  }\n",
              "\n",
              "  [theme=dark] .colab-df-quickchart {\n",
              "      --bg-color: #3B4455;\n",
              "      --fill-color: #D2E3FC;\n",
              "      --hover-bg-color: #434B5C;\n",
              "      --hover-fill-color: #FFFFFF;\n",
              "      --disabled-bg-color: #3B4455;\n",
              "      --disabled-fill-color: #666;\n",
              "  }\n",
              "\n",
              "  .colab-df-quickchart {\n",
              "    background-color: var(--bg-color);\n",
              "    border: none;\n",
              "    border-radius: 50%;\n",
              "    cursor: pointer;\n",
              "    display: none;\n",
              "    fill: var(--fill-color);\n",
              "    height: 32px;\n",
              "    padding: 0;\n",
              "    width: 32px;\n",
              "  }\n",
              "\n",
              "  .colab-df-quickchart:hover {\n",
              "    background-color: var(--hover-bg-color);\n",
              "    box-shadow: 0 1px 2px rgba(60, 64, 67, 0.3), 0 1px 3px 1px rgba(60, 64, 67, 0.15);\n",
              "    fill: var(--button-hover-fill-color);\n",
              "  }\n",
              "\n",
              "  .colab-df-quickchart-complete:disabled,\n",
              "  .colab-df-quickchart-complete:disabled:hover {\n",
              "    background-color: var(--disabled-bg-color);\n",
              "    fill: var(--disabled-fill-color);\n",
              "    box-shadow: none;\n",
              "  }\n",
              "\n",
              "  .colab-df-spinner {\n",
              "    border: 2px solid var(--fill-color);\n",
              "    border-color: transparent;\n",
              "    border-bottom-color: var(--fill-color);\n",
              "    animation:\n",
              "      spin 1s steps(1) infinite;\n",
              "  }\n",
              "\n",
              "  @keyframes spin {\n",
              "    0% {\n",
              "      border-color: transparent;\n",
              "      border-bottom-color: var(--fill-color);\n",
              "      border-left-color: var(--fill-color);\n",
              "    }\n",
              "    20% {\n",
              "      border-color: transparent;\n",
              "      border-left-color: var(--fill-color);\n",
              "      border-top-color: var(--fill-color);\n",
              "    }\n",
              "    30% {\n",
              "      border-color: transparent;\n",
              "      border-left-color: var(--fill-color);\n",
              "      border-top-color: var(--fill-color);\n",
              "      border-right-color: var(--fill-color);\n",
              "    }\n",
              "    40% {\n",
              "      border-color: transparent;\n",
              "      border-right-color: var(--fill-color);\n",
              "      border-top-color: var(--fill-color);\n",
              "    }\n",
              "    60% {\n",
              "      border-color: transparent;\n",
              "      border-right-color: var(--fill-color);\n",
              "    }\n",
              "    80% {\n",
              "      border-color: transparent;\n",
              "      border-right-color: var(--fill-color);\n",
              "      border-bottom-color: var(--fill-color);\n",
              "    }\n",
              "    90% {\n",
              "      border-color: transparent;\n",
              "      border-bottom-color: var(--fill-color);\n",
              "    }\n",
              "  }\n",
              "</style>\n",
              "\n",
              "  <script>\n",
              "    async function quickchart(key) {\n",
              "      const quickchartButtonEl =\n",
              "        document.querySelector('#' + key + ' button');\n",
              "      quickchartButtonEl.disabled = true;  // To prevent multiple clicks.\n",
              "      quickchartButtonEl.classList.add('colab-df-spinner');\n",
              "      try {\n",
              "        const charts = await google.colab.kernel.invokeFunction(\n",
              "            'suggestCharts', [key], {});\n",
              "      } catch (error) {\n",
              "        console.error('Error during call to suggestCharts:', error);\n",
              "      }\n",
              "      quickchartButtonEl.classList.remove('colab-df-spinner');\n",
              "      quickchartButtonEl.classList.add('colab-df-quickchart-complete');\n",
              "    }\n",
              "    (() => {\n",
              "      let quickchartButtonEl =\n",
              "        document.querySelector('#df-ec6a38fb-ba68-4bc1-9be2-c393a5329134 button');\n",
              "      quickchartButtonEl.style.display =\n",
              "        google.colab.kernel.accessAllowed ? 'block' : 'none';\n",
              "    })();\n",
              "  </script>\n",
              "</div>\n",
              "    </div>\n",
              "  </div>\n"
            ]
          },
          "metadata": {},
          "execution_count": 35
        }
      ]
    },
    {
      "cell_type": "code",
      "source": [
        "%%ag\n",
        "\n",
        "def is_gravity(x: int) -> int:\n",
        "  if x == 1:\n",
        "    return 1\n",
        "  return 0\n",
        "\n",
        "def is_diesal_gas_c(x: int) -> int:\n",
        "  if x == 2:\n",
        "    return 1\n",
        "  return 0\n",
        "\n",
        "def is_manual_pump_c(x: int) -> int:\n",
        "  if x == 3:\n",
        "    return 1\n",
        "  return 0\n",
        "\n",
        "def is_manual_pump_p(x: str) -> int:\n",
        "  if x == 4:\n",
        "    return 1\n",
        "  return 0\n",
        "\n",
        "def is_diesel_pump_p(x: str) -> int:\n",
        "  if x == 5:\n",
        "    return 1\n",
        "  return 0\n",
        "\n",
        "\n"
      ],
      "metadata": {
        "id": "7Jx6jSuozwd1"
      },
      "execution_count": 36,
      "outputs": []
    },
    {
      "cell_type": "code",
      "source": [
        "%%ag\n",
        "\n",
        "df[\"gravity\"] = df[\"crp_irrig_system\"].map(is_rain, output_bounds = (0 , 1))\n",
        "df[\"diesel_c\"] = df[\"crp_irrig_system\"].map(is_gw, output_bounds = (0 , 1))\n",
        "df[\"manual_c\"] = df[\"crp_irrig_system\"].map(is_surfacewater, output_bounds = (0 , 1))\n",
        "df[\"manual_p\"] = df[\"crp_irrig_system\"].map(is_constructedwater, output_bounds = (0 , 1))\n",
        "df[\"diesel_p\"] = df[\"crp_irrig_system\"].map(is_publicsupply, output_bounds = (0 , 1))\n"
      ],
      "metadata": {
        "id": "19wrfLC50L5w"
      },
      "execution_count": 37,
      "outputs": []
    },
    {
      "cell_type": "code",
      "source": [
        "%%ag\n",
        "from ag_utils import export\n",
        "ret = [\n",
        "    df[\"gravity\"].mean(eps=0.01),\n",
        "    df[\"diesel_c\"].mean(eps=0.01),\n",
        "    df[\"manual_c\"].mean(eps=0.01),\n",
        "    df[\"manual_p\"].mean(eps=0.01),\n",
        "    df[\"diesel_p\"].mean(eps=0.01)\n",
        "\n",
        "\n",
        "    ]\n",
        "export(\n",
        "    ret,\n",
        "    \"data_plot3\"\n",
        ")"
      ],
      "metadata": {
        "colab": {
          "base_uri": "https://localhost:8080/"
        },
        "id": "MJd4jgRB0knW",
        "outputId": "7629bb53-104b-45b8-f421-4719d9c9762d"
      },
      "execution_count": 38,
      "outputs": [
        {
          "output_type": "stream",
          "name": "stdout",
          "text": [
            "Setting up exported variable in local environment: data_plot3\n"
          ]
        }
      ]
    },
    {
      "cell_type": "code",
      "source": [
        "data_plot3"
      ],
      "metadata": {
        "colab": {
          "base_uri": "https://localhost:8080/"
        },
        "id": "991K96RF0zhN",
        "outputId": "c2891323-2942-440b-8efd-1ae2b718e9ff"
      },
      "execution_count": 39,
      "outputs": [
        {
          "output_type": "execute_result",
          "data": {
            "text/plain": [
              "[0.057445531858199436,\n",
              " 0.009933067320975982,\n",
              " 0.006998886832603606,\n",
              " 0.0018506719705019522,\n",
              " 0.006472584210923623]"
            ]
          },
          "metadata": {},
          "execution_count": 39
        }
      ]
    },
    {
      "cell_type": "code",
      "source": [
        "data_plot3=[0.057445531858199436,\n",
        " 0.009933067320975982,\n",
        " 0.006998886832603606,\n",
        " 0.0018506719705019522,\n",
        " 0.006472584210923623]\n",
        "\n"
      ],
      "metadata": {
        "id": "muq9FAb-cZP8"
      },
      "execution_count": 21,
      "outputs": []
    },
    {
      "cell_type": "code",
      "source": [
        "import matplotlib.pyplot as plt\n",
        "\n",
        "\n",
        "\n",
        "labels_p = ['Gravity(Primitive way)', 'Diesel pump (community)', 'Manual pump(community)', 'Manual pump(Individual)','Diesel pump (Individual)']\n",
        "\n",
        "# Creating the pie chart\n",
        "fig, ax = plt.subplots()\n",
        "ax.pie(data_plot3, labels=labels_p, autopct='%1.1f%%')\n",
        "ax.axis('equal')  # Equal aspect ratio ensures that pie is drawn as a circle.\n",
        "\n",
        "# Display the pie chart\n",
        "plt.show()\n"
      ],
      "metadata": {
        "colab": {
          "base_uri": "https://localhost:8080/",
          "height": 413
        },
        "id": "-kKDt1TP01dK",
        "outputId": "0149505c-e6fc-4000-ebcf-704182c20b8d"
      },
      "execution_count": 22,
      "outputs": [
        {
          "output_type": "display_data",
          "data": {
            "text/plain": [
              "<Figure size 640x480 with 1 Axes>"
            ],
            "image/png": "[encoded data removed]"
          },
          "metadata": {}
        }
      ]
    },
    {
      "cell_type": "markdown",
      "source": [
        "# 5. Question asked: 'Do you (your community) use a pump for your own (the communal) irrigation system?'"
      ],
      "metadata": {
        "id": "VNKRFzqy1UUg"
      }
    },
    {
      "cell_type": "markdown",
      "source": [
        "Majority of the respondents (53.5%) depend upon rainwater (seasonal drainage/ based on cropping pattern etc. ie. Kharif and Rabi crop)\n",
        "14.3% depend on Ground water sources\n",
        "21% depends upon Surface water (ie. Rivers, Lakes etc)\n",
        "8.2% depends upon artificial irrigation mechanisms like rainwater harvesting, check dams etc.\n",
        "2.7 % depends directly on public supply like canals etc.\n"
      ],
      "metadata": {
        "id": "HoNK-VHsCRDp"
      }
    },
    {
      "cell_type": "code",
      "source": [
        "%%ag\n",
        "ag_print(df.columns)"
      ],
      "metadata": {
        "colab": {
          "base_uri": "https://localhost:8080/"
        },
        "id": "w89Nkiqs0y-6",
        "outputId": "f50cf8c6-ec41-428c-b050-bbb9ffad0b43"
      },
      "execution_count": 45,
      "outputs": [
        {
          "output_type": "stream",
          "name": "stdout",
          "text": [
            "Index(['objectid', 'crp_landsize_ha', 'crp_main', 'crp_main_check',\n",
            "       'crp_irrig_source', 'crp_irrig_system', 'crp_irrig_pay',\n",
            "       'crp_seed_ownprod', 'crp_seed_market', 'crp_seed_company',\n",
            "       'crp_seed_ngo', 'crp_seed_organized_community', 'crp_seed_gov',\n",
            "       'crp_seed_relatives_friends', 'crp_seed_other', 'crp_seed_dk',\n",
            "       'crp_seed_ref', 'crp_area_change', 'crp_harv_change', 'crp_harv_vol_kg',\n",
            "       'crp_harv_lastyr_kg', 'crp_proddif', 'crp_proddif_plant_disease',\n",
            "       'crp_proddif_pest_outbreak', 'crp_proddif_animal_grazing',\n",
            "       'crp_proddif_access_plot', 'crp_proddif_access_fertilize',\n",
            "       'crp_proddif_seed_quality', 'crp_proddif_seed_quantity',\n",
            "       'crp_proddif_access_pesticide', 'crp_proddif_access_labour',\n",
            "       'crp_proddif_access_machinery', 'crp_proddif_access_fuel',\n",
            "       'crp_proddif_soil_erosion', 'crp_proddif_lack_irrigation',\n",
            "       'crp_proddif_excess_water', 'crp_proddif_access_credit',\n",
            "       'crp_proddif_other', 'crp_proddif_dk', 'crp_proddif_ref', 'crp_storage',\n",
            "       'crp_salesmain', 'crp_salesdif', 'crp_saledif_marketing_cost',\n",
            "       'crp_saledif_damage_losses', 'crp_saledif_low_demand',\n",
            "       'crp_saledif_pay_delay', 'crp_saledif_low_price',\n",
            "       'crp_saledif_processing', 'crp_saledif_competition',\n",
            "       'crp_saledif_other', 'crp_saledif_dk', 'crp_saledif_ref',\n",
            "       'crp_salesprice', ' A lot more (>50%)', 'Is slightly more', 'Is same',\n",
            "       'Is slightly less', 'Is lot less', 'Rain', 'Ground Water',\n",
            "       'Surface water', 'Constructions', 'Public supply', 'Other', 'gravity',\n",
            "       'diesel_c', 'manual_c', 'manual_p', 'diesel_p'],\n",
            "      dtype='object')\n",
            "\n"
          ]
        }
      ]
    },
    {
      "cell_type": "code",
      "source": [
        "%%ag\n",
        "df2=load_dataset(\"undata_shock\")"
      ],
      "metadata": {
        "id": "pIKM5w-61uoc"
      },
      "execution_count": 51,
      "outputs": []
    },
    {
      "cell_type": "code",
      "source": [
        "%%ag\n",
        "ag_print(df2.columns)"
      ],
      "metadata": {
        "colab": {
          "base_uri": "https://localhost:8080/"
        },
        "id": "udg0oqod7B5b",
        "outputId": "2a772b0d-3027-4e02-d9d2-ce56b458a44f"
      },
      "execution_count": 53,
      "outputs": [
        {
          "output_type": "stream",
          "name": "stdout",
          "text": [
            "Index(['objectid', 'shock_noshock', 'shock_sicknessordeathofhh',\n",
            "       'shock_lostemplorwork', 'shock_otherintrahhshock',\n",
            "       'shock_higherfoodprices', 'shock_higherfuelprices', 'shock_mvtrestrict',\n",
            "       'shock_othereconomicshock', 'shock_pestoutbreak', 'shock_plantdisease',\n",
            "       'shock_animaldisease', 'shock_napasture', 'shock_othercropandlivests',\n",
            "       'shock_coldtemporhail', 'shock_flood', 'shock_hurricane',\n",
            "       'shock_drought', 'shock_earthquake', 'shock_landslides',\n",
            "       'shock_firenatural', 'shock_othernathazard', 'shock_violenceinsecconf',\n",
            "       'shock_theftofprodassets', 'shock_firemanmade',\n",
            "       'shock_othermanmadehazard', 'shock_dk', 'shock_ref'],\n",
            "      dtype='object')\n",
            "\n"
          ]
        }
      ]
    },
    {
      "cell_type": "code",
      "source": [
        "shock_columns=['objectid', 'shock_noshock', 'shock_sicknessordeathofhh',\n",
        "       'shock_lostemplorwork', 'shock_otherintrahhshock',\n",
        "       'shock_higherfoodprices', 'shock_higherfuelprices', 'shock_mvtrestrict',\n",
        "       'shock_othereconomicshock', 'shock_pestoutbreak', 'shock_plantdisease',\n",
        "       'shock_animaldisease', 'shock_napasture', 'shock_othercropandlivests',\n",
        "       'shock_coldtemporhail', 'shock_flood', 'shock_hurricane',\n",
        "       'shock_drought', 'shock_earthquake', 'shock_landslides',\n",
        "       'shock_firenatural', 'shock_othernathazard', 'shock_violenceinsecconf',\n",
        "       'shock_theftofprodassets', 'shock_firemanmade',\n",
        "       'shock_othermanmadehazard', 'shock_dk', 'shock_ref']"
      ],
      "metadata": {
        "id": "MrKhAlX_7MLd"
      },
      "execution_count": 54,
      "outputs": []
    },
    {
      "cell_type": "code",
      "source": [
        "session.privacy_odometer()"
      ],
      "metadata": {
        "colab": {
          "base_uri": "https://localhost:8080/"
        },
        "id": "w0rIqNXC-We0",
        "outputId": "1635549f-1a83-443a-a74a-b631f34f01d7"
      },
      "execution_count": 20,
      "outputs": [
        {
          "output_type": "execute_result",
          "data": {
            "text/plain": [
              "{'total_epsilon_used': 10.975300000000026,\n",
              " 'total_delta_used': 0.0,\n",
              " 'library_costs': {'op_pandas': {'total_delta': 0,\n",
              "   'total_epsilon': 20.975300000000065,\n",
              "   'total_requests': 119}},\n",
              " 'dataset_costs': {'undata_ls': {'delta': 0, 'eps': 2.999999999999995},\n",
              "  'undata_ls_dif': {'delta': 0, 'eps': 2.999999999999995},\n",
              "  'undata_crp': {'delta': 0, 'eps': 12.405199999999986},\n",
              "  'undata_income': {'delta': 0, 'eps': 2.5700999999999996}}}"
            ]
          },
          "metadata": {},
          "execution_count": 20
        }
      ]
    },
    {
      "cell_type": "code",
      "source": [],
      "metadata": {
        "id": "pwkK126WFaRd"
      },
      "execution_count": 22,
      "outputs": []
    },
    {
      "cell_type": "code",
      "source": [],
      "metadata": {
        "id": "SR3K1AVIFkgI"
      },
      "execution_count": 22,
      "outputs": []
    }
  ]
}