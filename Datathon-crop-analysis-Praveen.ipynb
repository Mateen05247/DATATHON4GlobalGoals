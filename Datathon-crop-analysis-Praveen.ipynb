{
  "nbformat": 4,
  "nbformat_minor": 0,
  "metadata": {
    "colab": {
      "provenance": [],
      "include_colab_link": true
    },
    "kernelspec": {
      "name": "python3",
      "display_name": "Python 3"
    },
    "language_info": {
      "name": "python"
    }
  },
  "cells": [
    {
      "cell_type": "markdown",
      "metadata": {
        "id": "view-in-github",
        "colab_type": "text"
      },
      "source": [
        "<a href=\"https://colab.research.google.com/github/2000prasanth/Data4GlobalGoals/blob/main/%20Datathon-crop-analysis-Praveen.ipynb\" target=\"_parent\"><img src=\"https://colab.research.google.com/assets/colab-badge.svg\" alt=\"Open In Colab\"/></a>"
      ]
    },
    {
      "cell_type": "code",
      "execution_count": 148,
      "metadata": {
        "id": "l3OtfifSqghU",
        "colab": {
          "base_uri": "https://localhost:8080/"
        },
        "outputId": "ed670c2a-86c6-4850-bb9a-1d266fc48b1c"
      },
      "outputs": [
        {
          "output_type": "stream",
          "name": "stdout",
          "text": [
            "Requirement already satisfied: antigranular in /usr/local/lib/python3.10/dist-packages (0.2.12)\n",
            "Requirement already satisfied: diffprivlib<0.7.0,>=0.6.2 in /usr/local/lib/python3.10/dist-packages (from antigranular) (0.6.3)\n",
            "Requirement already satisfied: ipython<8.0.0,>=7.34.0 in /usr/local/lib/python3.10/dist-packages (from antigranular) (7.34.0)\n",
            "Requirement already satisfied: oblv-client<0.2.0,>=0.1.15 in /usr/local/lib/python3.10/dist-packages (from antigranular) (0.1.15)\n",
            "Requirement already satisfied: onnx<2.0.0,>=1.14.0 in /usr/local/lib/python3.10/dist-packages (from antigranular) (1.15.0)\n",
            "Requirement already satisfied: pandas<2.0.0,>=1.5.3 in /usr/local/lib/python3.10/dist-packages (from antigranular) (1.5.3)\n",
            "Requirement already satisfied: pydantic<2.0.0,>=1.10.7 in /usr/local/lib/python3.10/dist-packages (from antigranular) (1.10.13)\n",
            "Requirement already satisfied: requests<3.0.0,>=2.31.0 in /usr/local/lib/python3.10/dist-packages (from antigranular) (2.31.0)\n",
            "Requirement already satisfied: numpy>=1.21.6 in /usr/local/lib/python3.10/dist-packages (from diffprivlib<0.7.0,>=0.6.2->antigranular) (1.23.5)\n",
            "Requirement already satisfied: scikit-learn>=0.24.2 in /usr/local/lib/python3.10/dist-packages (from diffprivlib<0.7.0,>=0.6.2->antigranular) (1.2.2)\n",
            "Requirement already satisfied: scipy>=1.7.3 in /usr/local/lib/python3.10/dist-packages (from diffprivlib<0.7.0,>=0.6.2->antigranular) (1.11.3)\n",
            "Requirement already satisfied: joblib>=0.16.0 in /usr/local/lib/python3.10/dist-packages (from diffprivlib<0.7.0,>=0.6.2->antigranular) (1.3.2)\n",
            "Requirement already satisfied: setuptools>=49.0.0 in /usr/local/lib/python3.10/dist-packages (from diffprivlib<0.7.0,>=0.6.2->antigranular) (67.7.2)\n",
            "Requirement already satisfied: jedi>=0.16 in /usr/local/lib/python3.10/dist-packages (from ipython<8.0.0,>=7.34.0->antigranular) (0.19.1)\n",
            "Requirement already satisfied: decorator in /usr/local/lib/python3.10/dist-packages (from ipython<8.0.0,>=7.34.0->antigranular) (4.4.2)\n",
            "Requirement already satisfied: pickleshare in /usr/local/lib/python3.10/dist-packages (from ipython<8.0.0,>=7.34.0->antigranular) (0.7.5)\n",
            "Requirement already satisfied: traitlets>=4.2 in /usr/local/lib/python3.10/dist-packages (from ipython<8.0.0,>=7.34.0->antigranular) (5.7.1)\n",
            "Requirement already satisfied: prompt-toolkit!=3.0.0,!=3.0.1,<3.1.0,>=2.0.0 in /usr/local/lib/python3.10/dist-packages (from ipython<8.0.0,>=7.34.0->antigranular) (3.0.39)\n",
            "Requirement already satisfied: pygments in /usr/local/lib/python3.10/dist-packages (from ipython<8.0.0,>=7.34.0->antigranular) (2.16.1)\n",
            "Requirement already satisfied: backcall in /usr/local/lib/python3.10/dist-packages (from ipython<8.0.0,>=7.34.0->antigranular) (0.2.0)\n",
            "Requirement already satisfied: matplotlib-inline in /usr/local/lib/python3.10/dist-packages (from ipython<8.0.0,>=7.34.0->antigranular) (0.1.6)\n",
            "Requirement already satisfied: pexpect>4.3 in /usr/local/lib/python3.10/dist-packages (from ipython<8.0.0,>=7.34.0->antigranular) (4.8.0)\n",
            "Requirement already satisfied: urllib3 in /usr/local/lib/python3.10/dist-packages (from oblv-client<0.2.0,>=0.1.15->antigranular) (2.0.7)\n",
            "Requirement already satisfied: protobuf>=3.20.2 in /usr/local/lib/python3.10/dist-packages (from onnx<2.0.0,>=1.14.0->antigranular) (3.20.3)\n",
            "Requirement already satisfied: python-dateutil>=2.8.1 in /usr/local/lib/python3.10/dist-packages (from pandas<2.0.0,>=1.5.3->antigranular) (2.8.2)\n",
            "Requirement already satisfied: pytz>=2020.1 in /usr/local/lib/python3.10/dist-packages (from pandas<2.0.0,>=1.5.3->antigranular) (2023.3.post1)\n",
            "Requirement already satisfied: typing-extensions>=4.2.0 in /usr/local/lib/python3.10/dist-packages (from pydantic<2.0.0,>=1.10.7->antigranular) (4.5.0)\n",
            "Requirement already satisfied: charset-normalizer<4,>=2 in /usr/local/lib/python3.10/dist-packages (from requests<3.0.0,>=2.31.0->antigranular) (3.3.1)\n",
            "Requirement already satisfied: idna<4,>=2.5 in /usr/local/lib/python3.10/dist-packages (from requests<3.0.0,>=2.31.0->antigranular) (3.4)\n",
            "Requirement already satisfied: certifi>=2017.4.17 in /usr/local/lib/python3.10/dist-packages (from requests<3.0.0,>=2.31.0->antigranular) (2023.7.22)\n",
            "Requirement already satisfied: parso<0.9.0,>=0.8.3 in /usr/local/lib/python3.10/dist-packages (from jedi>=0.16->ipython<8.0.0,>=7.34.0->antigranular) (0.8.3)\n",
            "Requirement already satisfied: ptyprocess>=0.5 in /usr/local/lib/python3.10/dist-packages (from pexpect>4.3->ipython<8.0.0,>=7.34.0->antigranular) (0.7.0)\n",
            "Requirement already satisfied: wcwidth in /usr/local/lib/python3.10/dist-packages (from prompt-toolkit!=3.0.0,!=3.0.1,<3.1.0,>=2.0.0->ipython<8.0.0,>=7.34.0->antigranular) (0.2.8)\n",
            "Requirement already satisfied: six>=1.5 in /usr/local/lib/python3.10/dist-packages (from python-dateutil>=2.8.1->pandas<2.0.0,>=1.5.3->antigranular) (1.16.0)\n",
            "Requirement already satisfied: threadpoolctl>=2.0.0 in /usr/local/lib/python3.10/dist-packages (from scikit-learn>=0.24.2->diffprivlib<0.7.0,>=0.6.2->antigranular) (3.2.0)\n"
          ]
        }
      ],
      "source": [
        "!pip install antigranular"
      ]
    },
    {
      "cell_type": "markdown",
      "source": [
        "## **Loading the Data 🚀**"
      ],
      "metadata": {
        "id": "VOVymRBIyfkl"
      }
    },
    {
      "cell_type": "code",
      "source": [
        "import antigranular as ag\n",
        "session = ag.login(\"gDVfCAggb07c8ojTHxt+trEE5QmfUk3O\", \"lv6qLA4td3ffqZdrGweaUV6kgDtYFkfQoV/532mYUvzs1cIl+xTnjqwWOAppOSz8\", competition = \"UN Datathon PETs Track\")"
      ],
      "metadata": {
        "colab": {
          "base_uri": "https://localhost:8080/",
          "height": 69
        },
        "id": "QK3nmgE-qiYb",
        "outputId": "a4241013-40fa-40fa-acad-5dacb4b13ecc"
      },
      "execution_count": 149,
      "outputs": [
        {
          "output_type": "display_data",
          "data": {
            "text/plain": [
              "<IPython.core.display.HTML object>"
            ],
            "text/html": []
          },
          "metadata": {}
        },
        {
          "output_type": "stream",
          "name": "stdout",
          "text": [
            "Connected to Antigranular server session id: f9ae0baa-9457-4f57-95db-37b891fa3b67, the session will time out if idle for 60 minutes\n",
            "Cell magic '%%ag' registered successfully, use `%%ag` in a notebook cell to execute your python code on Antigranular private python server\n",
            "🚀 Everything's set up and ready to roll!\n"
          ]
        }
      ]
    },
    {
      "cell_type": "markdown",
      "source": [
        "##**Terminating the Session ❌**"
      ],
      "metadata": {
        "id": "0oKWxw0cyCMR"
      }
    },
    {
      "cell_type": "markdown",
      "source": [
        "Terminate the session by uncommenting the followinig command,\n",
        "remove the # and run the code to terminate the session"
      ],
      "metadata": {
        "id": "ei5xBjh-yoKz"
      }
    },
    {
      "cell_type": "code",
      "source": [
        "#session.terminate_session()"
      ],
      "metadata": {
        "colab": {
          "base_uri": "https://localhost:8080/"
        },
        "id": "3QOjzBbQ99rt",
        "outputId": "3e38cd19-864f-4aaf-8c75-ad07c87ead77"
      },
      "execution_count": null,
      "outputs": [
        {
          "output_type": "execute_result",
          "data": {
            "text/plain": [
              "{'status': 'ok'}"
            ]
          },
          "metadata": {},
          "execution_count": 3
        }
      ]
    },
    {
      "cell_type": "markdown",
      "source": [
        "## **Loading the Crop Dataset** 🚀\n",
        "\n",
        "\n"
      ],
      "metadata": {
        "id": "RMAlbSJ4w2_2"
      }
    },
    {
      "cell_type": "code",
      "source": [
        "%%ag\n",
        "df = load_dataset(\"undata_crp\")"
      ],
      "metadata": {
        "id": "e5zFqBpTqkkj"
      },
      "execution_count": 150,
      "outputs": []
    },
    {
      "cell_type": "markdown",
      "source": [
        "# **Viewing Data 🔍**\n",
        "## *Viewing Details About the Data*\n",
        "\n",
        "---\n",
        "\n",
        "\n",
        "\n",
        "`ag_print` is a function packaged within Antigranular which can be used to print objects from the ag environment.\n",
        "\n",
        "Here's how you can print the details about the `data`, like `columns` and `metadata`:"
      ],
      "metadata": {
        "id": "p8zkk_h5xKbG"
      }
    },
    {
      "cell_type": "code",
      "source": [
        "%%ag\n",
        "\n",
        "ag_print(\"undata_crp Details: \\n\")\n",
        "ag_print(\"Columns: \\n\", df.columns)\n",
        "ag_print(\"Metadata: \\n\", df.metadata)\n",
        "ag_print(\"Dtypes: \\n\", df.dtypes)"
      ],
      "metadata": {
        "colab": {
          "base_uri": "https://localhost:8080/"
        },
        "id": "IhZ1e0Lo76mW",
        "outputId": "8f3c9203-8f51-43a0-e316-7669741e589e"
      },
      "execution_count": null,
      "outputs": [
        {
          "output_type": "stream",
          "name": "stdout",
          "text": [
            "undata_crp Details: \n",
            "\n",
            "Columns: \n",
            " Index(['objectid', 'crp_landsize_ha', 'crp_main', 'crp_main_check',\n",
            "       'crp_irrig_source', 'crp_irrig_system', 'crp_irrig_pay',\n",
            "       'crp_seed_ownprod', 'crp_seed_market', 'crp_seed_company',\n",
            "       'crp_seed_ngo', 'crp_seed_organized_community', 'crp_seed_gov',\n",
            "       'crp_seed_relatives_friends', 'crp_seed_other', 'crp_seed_dk',\n",
            "       'crp_seed_ref', 'crp_area_change', 'crp_harv_change', 'crp_harv_vol_kg',\n",
            "       'crp_harv_lastyr_kg', 'crp_proddif', 'crp_proddif_plant_disease',\n",
            "       'crp_proddif_pest_outbreak', 'crp_proddif_animal_grazing',\n",
            "       'crp_proddif_access_plot', 'crp_proddif_access_fertilize',\n",
            "       'crp_proddif_seed_quality', 'crp_proddif_seed_quantity',\n",
            "       'crp_proddif_access_pesticide', 'crp_proddif_access_labour',\n",
            "       'crp_proddif_access_machinery', 'crp_proddif_access_fuel',\n",
            "       'crp_proddif_soil_erosion', 'crp_proddif_lack_irrigation',\n",
            "       'crp_proddif_excess_water', 'crp_proddif_access_credit',\n",
            "       'crp_proddif_other', 'crp_proddif_dk', 'crp_proddif_ref', 'crp_storage',\n",
            "       'crp_salesmain', 'crp_salesdif', 'crp_saledif_marketing_cost',\n",
            "       'crp_saledif_damage_losses', 'crp_saledif_low_demand',\n",
            "       'crp_saledif_pay_delay', 'crp_saledif_low_price',\n",
            "       'crp_saledif_processing', 'crp_saledif_competition',\n",
            "       'crp_saledif_other', 'crp_saledif_dk', 'crp_saledif_ref',\n",
            "       'crp_salesprice'],\n",
            "      dtype='object')\n",
            "Metadata: \n",
            " {'objectid': (3496, 239871), 'crp_landsize_ha': (0.0, 1720011.39965233), 'crp_main': (1100.0, 999000.0), 'crp_main_check': (0.0, 2.0), 'crp_irrig_source': (1.0, 999.0), 'crp_irrig_system': (0.0, 888.0), 'crp_irrig_pay': (0.0, 1.0), 'crp_seed_ownprod': (0.0, 1.0), 'crp_seed_market': (0.0, 1.0), 'crp_seed_company': (0.0, 1.0), 'crp_seed_ngo': (0.0, 1.0), 'crp_seed_organized_community': (0.0, 1.0), 'crp_seed_gov': (0.0, 1.0), 'crp_seed_relatives_friends': (0.0, 1.0), 'crp_seed_other': (0.0, 1.0), 'crp_seed_dk': (0.0, 1.0), 'crp_seed_ref': (0.0, 1.0), 'crp_area_change': (1.0, 999.0), 'crp_harv_change': (1.0, 999.0), 'crp_harv_vol_kg': (0.0, 0.0), 'crp_harv_lastyr_kg': (0.0, 20000.0), 'crp_proddif': (0.0, 999.0), 'crp_proddif_plant_disease': (0.0, 1.0), 'crp_proddif_pest_outbreak': (0.0, 1.0), 'crp_proddif_animal_grazing': (0.0, 1.0), 'crp_proddif_access_plot': (0.0, 1.0), 'crp_proddif_access_fertilize': (0.0, 1.0), 'crp_proddif_seed_quality': (0.0, 1.0), 'crp_proddif_seed_quantity': (0.0, 1.0), 'crp_proddif_access_pesticide': (0.0, 1.0), 'crp_proddif_access_labour': (0.0, 1.0), 'crp_proddif_access_machinery': (0.0, 1.0), 'crp_proddif_access_fuel': (0.0, 1.0), 'crp_proddif_soil_erosion': (0.0, 1.0), 'crp_proddif_lack_irrigation': (0.0, 1.0), 'crp_proddif_excess_water': (0.0, 1.0), 'crp_proddif_access_credit': (0.0, 1.0), 'crp_proddif_other': (0.0, 1.0), 'crp_proddif_dk': (0.0, 1.0), 'crp_proddif_ref': (0.0, 1.0), 'crp_storage': (0.0, 999.0), 'crp_salesmain': (1100.0, 999000.0), 'crp_salesdif': (0.0, 999.0), 'crp_saledif_marketing_cost': (0.0, 1.0), 'crp_saledif_damage_losses': (0.0, 1.0), 'crp_saledif_low_demand': (0.0, 1.0), 'crp_saledif_pay_delay': (0.0, 1.0), 'crp_saledif_low_price': (0.0, 1.0), 'crp_saledif_processing': (0.0, 1.0), 'crp_saledif_competition': (0.0, 1.0), 'crp_saledif_other': (0.0, 1.0), 'crp_saledif_dk': (0.0, 1.0), 'crp_saledif_ref': (0.0, 1.0), 'crp_salesprice': (1.0, 999.0)}\n",
            "Dtypes: \n",
            " objectid                          int64\n",
            "crp_landsize_ha                 float64\n",
            "crp_main                        float64\n",
            "crp_main_check                  float64\n",
            "crp_irrig_source                float64\n",
            "crp_irrig_system                float64\n",
            "crp_irrig_pay                   float64\n",
            "crp_seed_ownprod                float64\n",
            "crp_seed_market                 float64\n",
            "crp_seed_company                float64\n",
            "crp_seed_ngo                    float64\n",
            "crp_seed_organized_community    float64\n",
            "crp_seed_gov                    float64\n",
            "crp_seed_relatives_friends      float64\n",
            "crp_seed_other                  float64\n",
            "crp_seed_dk                     float64\n",
            "crp_seed_ref                    float64\n",
            "crp_area_change                 float64\n",
            "crp_harv_change                 float64\n",
            "crp_harv_vol_kg                 float64\n",
            "crp_harv_lastyr_kg              float64\n",
            "crp_proddif                     float64\n",
            "crp_proddif_plant_disease       float64\n",
            "crp_proddif_pest_outbreak       float64\n",
            "crp_proddif_animal_grazing      float64\n",
            "crp_proddif_access_plot         float64\n",
            "crp_proddif_access_fertilize    float64\n",
            "crp_proddif_seed_quality        float64\n",
            "crp_proddif_seed_quantity       float64\n",
            "crp_proddif_access_pesticide    float64\n",
            "crp_proddif_access_labour       float64\n",
            "crp_proddif_access_machinery    float64\n",
            "crp_proddif_access_fuel         float64\n",
            "crp_proddif_soil_erosion        float64\n",
            "crp_proddif_lack_irrigation     float64\n",
            "crp_proddif_excess_water        float64\n",
            "crp_proddif_access_credit       float64\n",
            "crp_proddif_other               float64\n",
            "crp_proddif_dk                  float64\n",
            "crp_proddif_ref                 float64\n",
            "crp_storage                     float64\n",
            "crp_salesmain                   float64\n",
            "crp_salesdif                    float64\n",
            "crp_saledif_marketing_cost      float64\n",
            "crp_saledif_damage_losses       float64\n",
            "crp_saledif_low_demand          float64\n",
            "crp_saledif_pay_delay           float64\n",
            "crp_saledif_low_price           float64\n",
            "crp_saledif_processing          float64\n",
            "crp_saledif_competition         float64\n",
            "crp_saledif_other               float64\n",
            "crp_saledif_dk                  float64\n",
            "crp_saledif_ref                 float64\n",
            "crp_salesprice                  float64\n",
            "dtype: object\n",
            "\n"
          ]
        }
      ]
    },
    {
      "cell_type": "markdown",
      "source": [
        "### Quick Statistics 📊\n",
        "\n",
        "One way to obtain the quick-statistic is by using the `describe()` method. You can spend some epsilon and obtain a rough meta-data about the dataset to give you a quick overview.\n",
        "\n"
      ],
      "metadata": {
        "id": "VdFk4XCrzKfj"
      }
    },
    {
      "cell_type": "code",
      "source": [
        "%%ag\n",
        "\n",
        "df_describe = df.describe(eps=0.5)\n",
        "ag_print(\"undata_crp Describe:\\n\", df_describe)"
      ],
      "metadata": {
        "colab": {
          "base_uri": "https://localhost:8080/"
        },
        "id": "NYNRQ-Zi8U9L",
        "outputId": "2767889c-3ab3-49e3-f8df-8de0ade7b08d"
      },
      "execution_count": null,
      "outputs": [
        {
          "output_type": "stream",
          "name": "stdout",
          "text": [
            "undata_crp Describe:\n",
            "             objectid  crp_landsize_ha  ...  crp_saledif_ref  crp_salesprice\n",
            "count  106706.000000     1.067060e+05  ...    106706.000000   106706.000000\n",
            "mean    95438.385203     0.000000e+00  ...         0.000000       35.073894\n",
            "std     77155.943612     3.950433e+04  ...         0.050692      107.005955\n",
            "min      3734.927715     9.873044e-02  ...         0.000000        1.402883\n",
            "25%     32322.753767     4.830679e-01  ...         0.025091        1.028728\n",
            "50%     60565.023787     1.696289e+06  ...         0.194819        2.958760\n",
            "75%    148624.614968     4.558534e+05  ...         0.026367      426.415604\n",
            "max    239103.609724     1.042466e+06  ...         0.032822      534.966622\n",
            "\n",
            "[8 rows x 54 columns]\n",
            "\n"
          ]
        }
      ]
    },
    {
      "cell_type": "markdown",
      "source": [
        "You can view the statistics by exporting the non-private result to the local Jupyter server using the `export` method:"
      ],
      "metadata": {
        "id": "TAVLwhmY0D5S"
      }
    },
    {
      "cell_type": "code",
      "source": [
        "%%ag\n",
        "\n",
        "export(df_describe, name='df_describe')"
      ],
      "metadata": {
        "colab": {
          "base_uri": "https://localhost:8080/"
        },
        "id": "QVjY1-Pg9Xl3",
        "outputId": "5bb693c8-083f-4072-ffb9-aed874597349"
      },
      "execution_count": null,
      "outputs": [
        {
          "output_type": "stream",
          "name": "stdout",
          "text": [
            "Setting up exported variable in local environment: df_describe\n"
          ]
        }
      ]
    },
    {
      "cell_type": "markdown",
      "source": [
        "## Checking the Privacy Budget 🤑"
      ],
      "metadata": {
        "id": "LZ5VvbJ9zBwP"
      }
    },
    {
      "cell_type": "code",
      "source": [
        "session.privacy_odometer()"
      ],
      "metadata": {
        "colab": {
          "base_uri": "https://localhost:8080/"
        },
        "id": "7tsPvYNa8t1z",
        "outputId": "d6c5642c-eea6-453e-c349-043c1ac43c37"
      },
      "execution_count": 152,
      "outputs": [
        {
          "output_type": "execute_result",
          "data": {
            "text/plain": [
              "{'total_epsilon_used': 16.185400000000016,\n",
              " 'total_delta_used': 0.0,\n",
              " 'library_costs': {'op_pandas': {'total_delta': 0,\n",
              "   'total_epsilon': 26.18540000000028,\n",
              "   'total_requests': 304}},\n",
              " 'dataset_costs': {'undata_ls': {'delta': 0, 'eps': 2.999999999999995},\n",
              "  'undata_ls_dif': {'delta': 0, 'eps': 2.999999999999995},\n",
              "  'undata_crp': {'delta': 0, 'eps': 17.615300000000122},\n",
              "  'undata_income': {'delta': 0, 'eps': 2.5700999999999996}}}"
            ]
          },
          "metadata": {},
          "execution_count": 152
        }
      ]
    },
    {
      "cell_type": "markdown",
      "source": [
        "Now, we can access df_describe in our local jupyter environment."
      ],
      "metadata": {
        "id": "_ist8gPv13m-"
      }
    },
    {
      "cell_type": "code",
      "source": [
        "print(df_describe)"
      ],
      "metadata": {
        "colab": {
          "base_uri": "https://localhost:8080/"
        },
        "id": "C_nRFz-09gEc",
        "outputId": "c314e982-e787-453d-da2e-43dc54b03f9b"
      },
      "execution_count": null,
      "outputs": [
        {
          "output_type": "stream",
          "name": "stdout",
          "text": [
            "            objectid  crp_landsize_ha       crp_main  crp_main_check  \\\n",
            "count  106706.000000     1.067060e+05  106706.000000   106706.000000   \n",
            "mean    95438.385203     0.000000e+00   33609.269671        0.317499   \n",
            "std     77155.943612     3.950433e+04  173799.374538        0.614562   \n",
            "min      3734.927715     9.873044e-02    1184.802647        0.000000   \n",
            "25%     32322.753767     4.830679e-01    1180.768015        0.000000   \n",
            "50%     60565.023787     1.696289e+06    1422.434401        0.000000   \n",
            "75%    148624.614968     4.558534e+05    3648.038344        0.000000   \n",
            "max    239103.609724     1.042466e+06  860738.853675        0.705050   \n",
            "\n",
            "       crp_irrig_source  crp_irrig_system  crp_irrig_pay  crp_seed_ownprod  \\\n",
            "count     106706.000000     106706.000000  106706.000000     106706.000000   \n",
            "mean          11.802051          7.272709       0.040976          0.475798   \n",
            "std           52.537161        150.989783       0.212013          0.474613   \n",
            "min            1.156096          0.233329       0.000000          0.000000   \n",
            "25%            1.395340        653.897193       0.034640          0.000247   \n",
            "50%            1.378298          0.166077       0.108384          0.022976   \n",
            "75%          504.655629        875.959620       0.003983          0.956590   \n",
            "max          932.145082         84.628948       0.676010          0.933469   \n",
            "\n",
            "       crp_seed_market  crp_seed_company  ...  crp_saledif_damage_losses  \\\n",
            "count    106706.000000     106706.000000  ...              106706.000000   \n",
            "mean          0.505856          0.036583  ...                   0.245889   \n",
            "std           0.498836          0.198118  ...                   0.436221   \n",
            "min           0.000000          0.000000  ...                   0.000000   \n",
            "25%           0.001013          0.012140  ...                   0.023138   \n",
            "50%           0.066796          0.000088  ...                   0.075002   \n",
            "75%           0.873761          0.082682  ...                   0.082343   \n",
            "max           0.953970          0.998453  ...                   0.690792   \n",
            "\n",
            "       crp_saledif_low_demand  crp_saledif_pay_delay  crp_saledif_low_price  \\\n",
            "count           106706.000000          106706.000000          106706.000000   \n",
            "mean                 0.276046               0.132360               0.389742   \n",
            "std                  0.437061               0.376078               0.454683   \n",
            "min                  0.000000               0.000000               0.000000   \n",
            "25%                  0.005013               0.039825               0.011303   \n",
            "50%                  0.439595               0.386132               0.433628   \n",
            "75%                  0.631053               0.977949               0.882790   \n",
            "max                  0.971340               0.953682               0.958421   \n",
            "\n",
            "       crp_saledif_processing  crp_saledif_competition  crp_saledif_other  \\\n",
            "count           106706.000000            106706.000000      106706.000000   \n",
            "mean                 0.109374                 0.096226           0.044704   \n",
            "std                  0.271527                 0.344733           0.226550   \n",
            "min                  0.000000                 0.000000           0.000000   \n",
            "25%                  0.045467                 0.015822           0.002160   \n",
            "50%                  0.079339                 0.111622           0.020608   \n",
            "75%                  0.276641                 0.034452           0.001391   \n",
            "max                  0.988644                 0.368883           0.514267   \n",
            "\n",
            "       crp_saledif_dk  crp_saledif_ref  crp_salesprice  \n",
            "count   106706.000000    106706.000000   106706.000000  \n",
            "mean         0.002447         0.000000       35.073894  \n",
            "std          0.166231         0.050692      107.005955  \n",
            "min          0.000000         0.000000        1.402883  \n",
            "25%          0.011577         0.025091        1.028728  \n",
            "50%          0.068644         0.194819        2.958760  \n",
            "75%          0.207191         0.026367      426.415604  \n",
            "max          0.117086         0.032822      534.966622  \n",
            "\n",
            "[8 rows x 54 columns]\n"
          ]
        }
      ]
    },
    {
      "cell_type": "markdown",
      "source": [
        "##Taking a peak at the data present in df_describe"
      ],
      "metadata": {
        "id": "rVUwvXyE0MfF"
      }
    },
    {
      "cell_type": "code",
      "source": [
        "df_describe.head()"
      ],
      "metadata": {
        "colab": {
          "base_uri": "https://localhost:8080/",
          "height": 255
        },
        "id": "RgvXBkSDAXaQ",
        "outputId": "29d0237c-bd68-4405-84ff-cb8435f1c788"
      },
      "execution_count": null,
      "outputs": [
        {
          "output_type": "execute_result",
          "data": {
            "text/plain": [
              "            objectid  crp_landsize_ha       crp_main  crp_main_check  \\\n",
              "count  106706.000000    106706.000000  106706.000000   106706.000000   \n",
              "mean    95438.385203         0.000000   33609.269671        0.317499   \n",
              "std     77155.943612     39504.331698  173799.374538        0.614562   \n",
              "min      3734.927715         0.098730    1184.802647        0.000000   \n",
              "25%     32322.753767         0.483068    1180.768015        0.000000   \n",
              "\n",
              "       crp_irrig_source  crp_irrig_system  crp_irrig_pay  crp_seed_ownprod  \\\n",
              "count     106706.000000     106706.000000  106706.000000     106706.000000   \n",
              "mean          11.802051          7.272709       0.040976          0.475798   \n",
              "std           52.537161        150.989783       0.212013          0.474613   \n",
              "min            1.156096          0.233329       0.000000          0.000000   \n",
              "25%            1.395340        653.897193       0.034640          0.000247   \n",
              "\n",
              "       crp_seed_market  crp_seed_company  ...  crp_saledif_damage_losses  \\\n",
              "count    106706.000000     106706.000000  ...              106706.000000   \n",
              "mean          0.505856          0.036583  ...                   0.245889   \n",
              "std           0.498836          0.198118  ...                   0.436221   \n",
              "min           0.000000          0.000000  ...                   0.000000   \n",
              "25%           0.001013          0.012140  ...                   0.023138   \n",
              "\n",
              "       crp_saledif_low_demand  crp_saledif_pay_delay  crp_saledif_low_price  \\\n",
              "count           106706.000000          106706.000000          106706.000000   \n",
              "mean                 0.276046               0.132360               0.389742   \n",
              "std                  0.437061               0.376078               0.454683   \n",
              "min                  0.000000               0.000000               0.000000   \n",
              "25%                  0.005013               0.039825               0.011303   \n",
              "\n",
              "       crp_saledif_processing  crp_saledif_competition  crp_saledif_other  \\\n",
              "count           106706.000000            106706.000000      106706.000000   \n",
              "mean                 0.109374                 0.096226           0.044704   \n",
              "std                  0.271527                 0.344733           0.226550   \n",
              "min                  0.000000                 0.000000           0.000000   \n",
              "25%                  0.045467                 0.015822           0.002160   \n",
              "\n",
              "       crp_saledif_dk  crp_saledif_ref  crp_salesprice  \n",
              "count   106706.000000    106706.000000   106706.000000  \n",
              "mean         0.002447         0.000000       35.073894  \n",
              "std          0.166231         0.050692      107.005955  \n",
              "min          0.000000         0.000000        1.402883  \n",
              "25%          0.011577         0.025091        1.028728  \n",
              "\n",
              "[5 rows x 54 columns]"
            ],
            "text/html": [
              "\n",
              "  <div id=\"df-7b12bc05-2ae1-46c1-80b6-da72c9dbb993\" class=\"colab-df-container\">\n",
              "    <div>\n",
              "<style scoped>\n",
              "    .dataframe tbody tr th:only-of-type {\n",
              "        vertical-align: middle;\n",
              "    }\n",
              "\n",
              "    .dataframe tbody tr th {\n",
              "        vertical-align: top;\n",
              "    }\n",
              "\n",
              "    .dataframe thead th {\n",
              "        text-align: right;\n",
              "    }\n",
              "</style>\n",
              "<table border=\"1\" class=\"dataframe\">\n",
              "  <thead>\n",
              "    <tr style=\"text-align: right;\">\n",
              "      <th></th>\n",
              "      <th>objectid</th>\n",
              "      <th>crp_landsize_ha</th>\n",
              "      <th>crp_main</th>\n",
              "      <th>crp_main_check</th>\n",
              "      <th>crp_irrig_source</th>\n",
              "      <th>crp_irrig_system</th>\n",
              "      <th>crp_irrig_pay</th>\n",
              "      <th>crp_seed_ownprod</th>\n",
              "      <th>crp_seed_market</th>\n",
              "      <th>crp_seed_company</th>\n",
              "      <th>...</th>\n",
              "      <th>crp_saledif_damage_losses</th>\n",
              "      <th>crp_saledif_low_demand</th>\n",
              "      <th>crp_saledif_pay_delay</th>\n",
              "      <th>crp_saledif_low_price</th>\n",
              "      <th>crp_saledif_processing</th>\n",
              "      <th>crp_saledif_competition</th>\n",
              "      <th>crp_saledif_other</th>\n",
              "      <th>crp_saledif_dk</th>\n",
              "      <th>crp_saledif_ref</th>\n",
              "      <th>crp_salesprice</th>\n",
              "    </tr>\n",
              "  </thead>\n",
              "  <tbody>\n",
              "    <tr>\n",
              "      <th>count</th>\n",
              "      <td>106706.000000</td>\n",
              "      <td>106706.000000</td>\n",
              "      <td>106706.000000</td>\n",
              "      <td>106706.000000</td>\n",
              "      <td>106706.000000</td>\n",
              "      <td>106706.000000</td>\n",
              "      <td>106706.000000</td>\n",
              "      <td>106706.000000</td>\n",
              "      <td>106706.000000</td>\n",
              "      <td>106706.000000</td>\n",
              "      <td>...</td>\n",
              "      <td>106706.000000</td>\n",
              "      <td>106706.000000</td>\n",
              "      <td>106706.000000</td>\n",
              "      <td>106706.000000</td>\n",
              "      <td>106706.000000</td>\n",
              "      <td>106706.000000</td>\n",
              "      <td>106706.000000</td>\n",
              "      <td>106706.000000</td>\n",
              "      <td>106706.000000</td>\n",
              "      <td>106706.000000</td>\n",
              "    </tr>\n",
              "    <tr>\n",
              "      <th>mean</th>\n",
              "      <td>95438.385203</td>\n",
              "      <td>0.000000</td>\n",
              "      <td>33609.269671</td>\n",
              "      <td>0.317499</td>\n",
              "      <td>11.802051</td>\n",
              "      <td>7.272709</td>\n",
              "      <td>0.040976</td>\n",
              "      <td>0.475798</td>\n",
              "      <td>0.505856</td>\n",
              "      <td>0.036583</td>\n",
              "      <td>...</td>\n",
              "      <td>0.245889</td>\n",
              "      <td>0.276046</td>\n",
              "      <td>0.132360</td>\n",
              "      <td>0.389742</td>\n",
              "      <td>0.109374</td>\n",
              "      <td>0.096226</td>\n",
              "      <td>0.044704</td>\n",
              "      <td>0.002447</td>\n",
              "      <td>0.000000</td>\n",
              "      <td>35.073894</td>\n",
              "    </tr>\n",
              "    <tr>\n",
              "      <th>std</th>\n",
              "      <td>77155.943612</td>\n",
              "      <td>39504.331698</td>\n",
              "      <td>173799.374538</td>\n",
              "      <td>0.614562</td>\n",
              "      <td>52.537161</td>\n",
              "      <td>150.989783</td>\n",
              "      <td>0.212013</td>\n",
              "      <td>0.474613</td>\n",
              "      <td>0.498836</td>\n",
              "      <td>0.198118</td>\n",
              "      <td>...</td>\n",
              "      <td>0.436221</td>\n",
              "      <td>0.437061</td>\n",
              "      <td>0.376078</td>\n",
              "      <td>0.454683</td>\n",
              "      <td>0.271527</td>\n",
              "      <td>0.344733</td>\n",
              "      <td>0.226550</td>\n",
              "      <td>0.166231</td>\n",
              "      <td>0.050692</td>\n",
              "      <td>107.005955</td>\n",
              "    </tr>\n",
              "    <tr>\n",
              "      <th>min</th>\n",
              "      <td>3734.927715</td>\n",
              "      <td>0.098730</td>\n",
              "      <td>1184.802647</td>\n",
              "      <td>0.000000</td>\n",
              "      <td>1.156096</td>\n",
              "      <td>0.233329</td>\n",
              "      <td>0.000000</td>\n",
              "      <td>0.000000</td>\n",
              "      <td>0.000000</td>\n",
              "      <td>0.000000</td>\n",
              "      <td>...</td>\n",
              "      <td>0.000000</td>\n",
              "      <td>0.000000</td>\n",
              "      <td>0.000000</td>\n",
              "      <td>0.000000</td>\n",
              "      <td>0.000000</td>\n",
              "      <td>0.000000</td>\n",
              "      <td>0.000000</td>\n",
              "      <td>0.000000</td>\n",
              "      <td>0.000000</td>\n",
              "      <td>1.402883</td>\n",
              "    </tr>\n",
              "    <tr>\n",
              "      <th>25%</th>\n",
              "      <td>32322.753767</td>\n",
              "      <td>0.483068</td>\n",
              "      <td>1180.768015</td>\n",
              "      <td>0.000000</td>\n",
              "      <td>1.395340</td>\n",
              "      <td>653.897193</td>\n",
              "      <td>0.034640</td>\n",
              "      <td>0.000247</td>\n",
              "      <td>0.001013</td>\n",
              "      <td>0.012140</td>\n",
              "      <td>...</td>\n",
              "      <td>0.023138</td>\n",
              "      <td>0.005013</td>\n",
              "      <td>0.039825</td>\n",
              "      <td>0.011303</td>\n",
              "      <td>0.045467</td>\n",
              "      <td>0.015822</td>\n",
              "      <td>0.002160</td>\n",
              "      <td>0.011577</td>\n",
              "      <td>0.025091</td>\n",
              "      <td>1.028728</td>\n",
              "    </tr>\n",
              "  </tbody>\n",
              "</table>\n",
              "<p>5 rows × 54 columns</p>\n",
              "</div>\n",
              "    <div class=\"colab-df-buttons\">\n",
              "\n",
              "  <div class=\"colab-df-container\">\n",
              "    <button class=\"colab-df-convert\" onclick=\"convertToInteractive('df-7b12bc05-2ae1-46c1-80b6-da72c9dbb993')\"\n",
              "            title=\"Convert this dataframe to an interactive table.\"\n",
              "            style=\"display:none;\">\n",
              "\n",
              "  <svg xmlns=\"http://www.w3.org/2000/svg\" height=\"24px\" viewBox=\"0 -960 960 960\">\n",
              "    <path d=\"M120-120v-720h720v720H120Zm60-500h600v-160H180v160Zm220 220h160v-160H400v160Zm0 220h160v-160H400v160ZM180-400h160v-160H180v160Zm440 0h160v-160H620v160ZM180-180h160v-160H180v160Zm440 0h160v-160H620v160Z\"/>\n",
              "  </svg>\n",
              "    </button>\n",
              "\n",
              "  <style>\n",
              "    .colab-df-container {\n",
              "      display:flex;\n",
              "      gap: 12px;\n",
              "    }\n",
              "\n",
              "    .colab-df-convert {\n",
              "      background-color: #E8F0FE;\n",
              "      border: none;\n",
              "      border-radius: 50%;\n",
              "      cursor: pointer;\n",
              "      display: none;\n",
              "      fill: #1967D2;\n",
              "      height: 32px;\n",
              "      padding: 0 0 0 0;\n",
              "      width: 32px;\n",
              "    }\n",
              "\n",
              "    .colab-df-convert:hover {\n",
              "      background-color: #E2EBFA;\n",
              "      box-shadow: 0px 1px 2px rgba(60, 64, 67, 0.3), 0px 1px 3px 1px rgba(60, 64, 67, 0.15);\n",
              "      fill: #174EA6;\n",
              "    }\n",
              "\n",
              "    .colab-df-buttons div {\n",
              "      margin-bottom: 4px;\n",
              "    }\n",
              "\n",
              "    [theme=dark] .colab-df-convert {\n",
              "      background-color: #3B4455;\n",
              "      fill: #D2E3FC;\n",
              "    }\n",
              "\n",
              "    [theme=dark] .colab-df-convert:hover {\n",
              "      background-color: #434B5C;\n",
              "      box-shadow: 0px 1px 3px 1px rgba(0, 0, 0, 0.15);\n",
              "      filter: drop-shadow(0px 1px 2px rgba(0, 0, 0, 0.3));\n",
              "      fill: #FFFFFF;\n",
              "    }\n",
              "  </style>\n",
              "\n",
              "    <script>\n",
              "      const buttonEl =\n",
              "        document.querySelector('#df-7b12bc05-2ae1-46c1-80b6-da72c9dbb993 button.colab-df-convert');\n",
              "      buttonEl.style.display =\n",
              "        google.colab.kernel.accessAllowed ? 'block' : 'none';\n",
              "\n",
              "      async function convertToInteractive(key) {\n",
              "        const element = document.querySelector('#df-7b12bc05-2ae1-46c1-80b6-da72c9dbb993');\n",
              "        const dataTable =\n",
              "          await google.colab.kernel.invokeFunction('convertToInteractive',\n",
              "                                                    [key], {});\n",
              "        if (!dataTable) return;\n",
              "\n",
              "        const docLinkHtml = 'Like what you see? Visit the ' +\n",
              "          '<a target=\"_blank\" href=https://colab.research.google.com/notebooks/data_table.ipynb>data table notebook</a>'\n",
              "          + ' to learn more about interactive tables.';\n",
              "        element.innerHTML = '';\n",
              "        dataTable['output_type'] = 'display_data';\n",
              "        await google.colab.output.renderOutput(dataTable, element);\n",
              "        const docLink = document.createElement('div');\n",
              "        docLink.innerHTML = docLinkHtml;\n",
              "        element.appendChild(docLink);\n",
              "      }\n",
              "    </script>\n",
              "  </div>\n",
              "\n",
              "\n",
              "<div id=\"df-514a93e2-e30f-4566-bf81-7d5cc0240efe\">\n",
              "  <button class=\"colab-df-quickchart\" onclick=\"quickchart('df-514a93e2-e30f-4566-bf81-7d5cc0240efe')\"\n",
              "            title=\"Suggest charts.\"\n",
              "            style=\"display:none;\">\n",
              "\n",
              "<svg xmlns=\"http://www.w3.org/2000/svg\" height=\"24px\"viewBox=\"0 0 24 24\"\n",
              "     width=\"24px\">\n",
              "    <g>\n",
              "        <path d=\"M19 3H5c-1.1 0-2 .9-2 2v14c0 1.1.9 2 2 2h14c1.1 0 2-.9 2-2V5c0-1.1-.9-2-2-2zM9 17H7v-7h2v7zm4 0h-2V7h2v10zm4 0h-2v-4h2v4z\"/>\n",
              "    </g>\n",
              "</svg>\n",
              "  </button>\n",
              "\n",
              "<style>\n",
              "  .colab-df-quickchart {\n",
              "      --bg-color: #E8F0FE;\n",
              "      --fill-color: #1967D2;\n",
              "      --hover-bg-color: #E2EBFA;\n",
              "      --hover-fill-color: #174EA6;\n",
              "      --disabled-fill-color: #AAA;\n",
              "      --disabled-bg-color: #DDD;\n",
              "  }\n",
              "\n",
              "  [theme=dark] .colab-df-quickchart {\n",
              "      --bg-color: #3B4455;\n",
              "      --fill-color: #D2E3FC;\n",
              "      --hover-bg-color: #434B5C;\n",
              "      --hover-fill-color: #FFFFFF;\n",
              "      --disabled-bg-color: #3B4455;\n",
              "      --disabled-fill-color: #666;\n",
              "  }\n",
              "\n",
              "  .colab-df-quickchart {\n",
              "    background-color: var(--bg-color);\n",
              "    border: none;\n",
              "    border-radius: 50%;\n",
              "    cursor: pointer;\n",
              "    display: none;\n",
              "    fill: var(--fill-color);\n",
              "    height: 32px;\n",
              "    padding: 0;\n",
              "    width: 32px;\n",
              "  }\n",
              "\n",
              "  .colab-df-quickchart:hover {\n",
              "    background-color: var(--hover-bg-color);\n",
              "    box-shadow: 0 1px 2px rgba(60, 64, 67, 0.3), 0 1px 3px 1px rgba(60, 64, 67, 0.15);\n",
              "    fill: var(--button-hover-fill-color);\n",
              "  }\n",
              "\n",
              "  .colab-df-quickchart-complete:disabled,\n",
              "  .colab-df-quickchart-complete:disabled:hover {\n",
              "    background-color: var(--disabled-bg-color);\n",
              "    fill: var(--disabled-fill-color);\n",
              "    box-shadow: none;\n",
              "  }\n",
              "\n",
              "  .colab-df-spinner {\n",
              "    border: 2px solid var(--fill-color);\n",
              "    border-color: transparent;\n",
              "    border-bottom-color: var(--fill-color);\n",
              "    animation:\n",
              "      spin 1s steps(1) infinite;\n",
              "  }\n",
              "\n",
              "  @keyframes spin {\n",
              "    0% {\n",
              "      border-color: transparent;\n",
              "      border-bottom-color: var(--fill-color);\n",
              "      border-left-color: var(--fill-color);\n",
              "    }\n",
              "    20% {\n",
              "      border-color: transparent;\n",
              "      border-left-color: var(--fill-color);\n",
              "      border-top-color: var(--fill-color);\n",
              "    }\n",
              "    30% {\n",
              "      border-color: transparent;\n",
              "      border-left-color: var(--fill-color);\n",
              "      border-top-color: var(--fill-color);\n",
              "      border-right-color: var(--fill-color);\n",
              "    }\n",
              "    40% {\n",
              "      border-color: transparent;\n",
              "      border-right-color: var(--fill-color);\n",
              "      border-top-color: var(--fill-color);\n",
              "    }\n",
              "    60% {\n",
              "      border-color: transparent;\n",
              "      border-right-color: var(--fill-color);\n",
              "    }\n",
              "    80% {\n",
              "      border-color: transparent;\n",
              "      border-right-color: var(--fill-color);\n",
              "      border-bottom-color: var(--fill-color);\n",
              "    }\n",
              "    90% {\n",
              "      border-color: transparent;\n",
              "      border-bottom-color: var(--fill-color);\n",
              "    }\n",
              "  }\n",
              "</style>\n",
              "\n",
              "  <script>\n",
              "    async function quickchart(key) {\n",
              "      const quickchartButtonEl =\n",
              "        document.querySelector('#' + key + ' button');\n",
              "      quickchartButtonEl.disabled = true;  // To prevent multiple clicks.\n",
              "      quickchartButtonEl.classList.add('colab-df-spinner');\n",
              "      try {\n",
              "        const charts = await google.colab.kernel.invokeFunction(\n",
              "            'suggestCharts', [key], {});\n",
              "      } catch (error) {\n",
              "        console.error('Error during call to suggestCharts:', error);\n",
              "      }\n",
              "      quickchartButtonEl.classList.remove('colab-df-spinner');\n",
              "      quickchartButtonEl.classList.add('colab-df-quickchart-complete');\n",
              "    }\n",
              "    (() => {\n",
              "      let quickchartButtonEl =\n",
              "        document.querySelector('#df-514a93e2-e30f-4566-bf81-7d5cc0240efe button');\n",
              "      quickchartButtonEl.style.display =\n",
              "        google.colab.kernel.accessAllowed ? 'block' : 'none';\n",
              "    })();\n",
              "  </script>\n",
              "</div>\n",
              "    </div>\n",
              "  </div>\n"
            ]
          },
          "metadata": {},
          "execution_count": 11
        }
      ]
    },
    {
      "cell_type": "markdown",
      "source": [
        "##`Question asked`: 'What is the main crop that your household grows for food and income generation in #season#, if any?'. #season# will be replaced with the country specific information (e.g. wet season, monsoon season, harvest season, etc...)."
      ],
      "metadata": {
        "id": "KIo5xaZ1BjyM"
      }
    },
    {
      "cell_type": "code",
      "source": [
        "%%ag\n",
        "\n",
        "def is_rice(x: int) -> int:\n",
        "  if x == 1100:\n",
        "    return 1\n",
        "  return 0\n",
        "\n",
        "def is_wheat(x: int) -> int:\n",
        "  if x == 1200:\n",
        "    return 1\n",
        "  return 0\n",
        "\n",
        "def is_potatoe(x: int) -> int:\n",
        "  if x == 2200:\n",
        "    return 1\n",
        "  return 0\n",
        "\n",
        "def is_lentils(x: str) -> int:\n",
        "  if x == 3200:\n",
        "    return 1\n",
        "  return 0\n",
        "\n",
        "def is_cabbage(x: str) -> int:\n",
        "  if x == 4100:\n",
        "    return 1\n",
        "  return 0\n",
        "\n",
        "def is_pumpkin(x: str) -> int:\n",
        "  if x == 5300:\n",
        "    return 1\n",
        "  return 0\n",
        "\n",
        "def is_grapefruit(x: str) -> int:\n",
        "  if x == 6300:\n",
        "    return 1\n",
        "  return 0\n",
        "\n",
        "def is_coconuts(x: str) -> int:\n",
        "  if x == 8100:\n",
        "    return 1\n",
        "  return 0\n",
        "\n",
        "def is_cocoa(x: str) -> int:\n",
        "  if x == 9100:\n",
        "    return 1\n",
        "  return 0"
      ],
      "metadata": {
        "id": "GuvNxjlpsyfG"
      },
      "execution_count": 153,
      "outputs": []
    },
    {
      "cell_type": "code",
      "source": [
        "%%ag\n",
        "# is_rice   is_wheat  is_potatoe   is_lentils  is_cabbage  is_pumpkin  is_grapefruit  is_coconuts  is_cocoa\n",
        "df[\"rice\"] = df[\"crp_main\"].map(is_rice, output_bounds = (0 , 1))\n",
        "df[\"wheat\"] = df[\"crp_main\"].map(is_wheat, output_bounds = (0 , 1))\n",
        "df[\"potatoe\"] = df[\"crp_main\"].map(is_potatoe, output_bounds = (0 , 1))\n",
        "df[\"lentils\"] = df[\"crp_main\"].map(is_lentils, output_bounds = (0 , 1))\n",
        "df[\"cabbage\"] = df[\"crp_main\"].map(is_cabbage, output_bounds = (0 , 1))\n",
        "df[\"pumpkin\"] = df[\"crp_main\"].map(is_pumpkin, output_bounds = (0 , 1))\n",
        "df[\"grapefruit\"] = df[\"crp_main\"].map(is_grapefruit, output_bounds = (0 , 1))\n",
        "df[\"coconuts\"] = df[\"crp_main\"].map(is_coconuts, output_bounds = (0 , 1))\n",
        "df[\"cocoa\"] = df[\"crp_main\"].map(is_cocoa, output_bounds = (0 , 1))\n",
        "\n"
      ],
      "metadata": {
        "id": "F9y1PduutYaJ"
      },
      "execution_count": 154,
      "outputs": []
    },
    {
      "cell_type": "code",
      "source": [
        "%%ag\n",
        "from ag_utils import export\n",
        "ret = [\n",
        "    df[\"rice\"].mean(eps=0.01),\n",
        "    df[\"wheat\"].mean(eps=0.01),\n",
        "    df[\"potatoe\"].mean(eps=0.01),\n",
        "    df[\"lentils\"].mean(eps=0.01),\n",
        "    df[\"cabbage\"].mean(eps=0.01),\n",
        "    df[\"pumpkin\"].mean(eps=0.01),\n",
        "    df[\"grapefruit\"].mean(eps=0.01),\n",
        "    df[\"coconuts\"].mean(eps=0.01),\n",
        "    df[\"cocoa\"].mean(eps=0.01)\n",
        "    ]\n",
        "\n",
        "export( ret,\"data_plot1\" )"
      ],
      "metadata": {
        "colab": {
          "base_uri": "https://localhost:8080/"
        },
        "id": "CdDZHe-ktnta",
        "outputId": "10fb8b29-247c-4483-8d39-4638a1bfe5c3"
      },
      "execution_count": 157,
      "outputs": [
        {
          "output_type": "stream",
          "name": "stdout",
          "text": [
            "Setting up exported variable in local environment: data_plot1\n"
          ]
        }
      ]
    },
    {
      "cell_type": "code",
      "source": [
        "import plotly.graph_objects as go\n",
        "\n",
        "\n",
        "# Labels for the pie chart sections\n",
        "labels = [\"rice\", \"wheat\", \"potatoe\", \"lentils\", \"cabbage\", \"pumpkin\", \"grapefruit\", \"coconuts\", \"cocoa\"]\n",
        "\n",
        "# Create the pie chart using plotly\n",
        "fig = go.Figure(data=[go.Pie(labels=labels, values=data_plot1)])\n",
        "\n",
        "# Update the layout to make the chart more readable\n",
        "fig.update_layout(\n",
        "    title=\"Crop Production Distribution\",\n",
        "    margin=dict(l=0, r=0, b=0, t=30),\n",
        "    title_x=0.5,  # Adjust the horizontal position of the title\n",
        "    title_y=0.99,  # Adjust the vertical position of the title\n",
        "    annotations=[dict(x=0.5, y=-0.1, showarrow=True)]  # Adjust the position of the labels\n",
        ")\n",
        "\n",
        "# Show the pie chart\n",
        "fig.show()\n"
      ],
      "metadata": {
        "colab": {
          "base_uri": "https://localhost:8080/",
          "height": 542
        },
        "id": "S6WEhq2z6fgX",
        "outputId": "4fe2ed36-2664-4d89-831d-d0228e75053e"
      },
      "execution_count": 176,
      "outputs": [
        {
          "output_type": "display_data",
          "data": {
            "text/html": [
              "<html>\n",
              "<head><meta charset=\"utf-8\" /></head>\n",
              "<body>\n",
              "    <div>            <script src=\"https://cdnjs.cloudflare.com/ajax/libs/mathjax/2.7.5/MathJax.js?config=TeX-AMS-MML_SVG\"></script><script type=\"text/javascript\">if (window.MathJax && window.MathJax.Hub && window.MathJax.Hub.Config) {window.MathJax.Hub.Config({SVG: {font: \"STIX-Web\"}});}</script>                <script type=\"text/javascript\">window.PlotlyConfig = {MathJaxConfig: 'local'};</script>\n",
              "        <script charset=\"utf-8\" src=\"https://cdn.plot.ly/plotly-2.24.1.min.js\"></script>                <div id=\"972ebe97-34c8-4887-a9e8-368da2e4e18d\" class=\"plotly-graph-div\" style=\"height:525px; width:100%;\"></div>            <script type=\"text/javascript\">                                    window.PLOTLYENV=window.PLOTLYENV || {};                                    if (document.getElementById(\"972ebe97-34c8-4887-a9e8-368da2e4e18d\")) {                    Plotly.newPlot(                        \"972ebe97-34c8-4887-a9e8-368da2e4e18d\",                        [{\"labels\":[\"rice\",\"wheat\",\"potatoe\",\"lentils\",\"cabbage\",\"pumpkin\",\"grapefruit\",\"coconuts\",\"cocoa\"],\"values\":[0.08471409820764803,0.07090327871877826,0.005379537461542275,0.0006562642668505252,0.002119119779156516,0.0,0.0,0.0,0.0020821512881177623],\"type\":\"pie\"}],                        {\"template\":{\"data\":{\"histogram2dcontour\":[{\"type\":\"histogram2dcontour\",\"colorbar\":{\"outlinewidth\":0,\"ticks\":\"\"},\"colorscale\":[[0.0,\"#0d0887\"],[0.1111111111111111,\"#46039f\"],[0.2222222222222222,\"#7201a8\"],[0.3333333333333333,\"#9c179e\"],[0.4444444444444444,\"#bd3786\"],[0.5555555555555556,\"#d8576b\"],[0.6666666666666666,\"#ed7953\"],[0.7777777777777778,\"#fb9f3a\"],[0.8888888888888888,\"#fdca26\"],[1.0,\"#f0f921\"]]}],\"choropleth\":[{\"type\":\"choropleth\",\"colorbar\":{\"outlinewidth\":0,\"ticks\":\"\"}}],\"histogram2d\":[{\"type\":\"histogram2d\",\"colorbar\":{\"outlinewidth\":0,\"ticks\":\"\"},\"colorscale\":[[0.0,\"#0d0887\"],[0.1111111111111111,\"#46039f\"],[0.2222222222222222,\"#7201a8\"],[0.3333333333333333,\"#9c179e\"],[0.4444444444444444,\"#bd3786\"],[0.5555555555555556,\"#d8576b\"],[0.6666666666666666,\"#ed7953\"],[0.7777777777777778,\"#fb9f3a\"],[0.8888888888888888,\"#fdca26\"],[1.0,\"#f0f921\"]]}],\"heatmap\":[{\"type\":\"heatmap\",\"colorbar\":{\"outlinewidth\":0,\"ticks\":\"\"},\"colorscale\":[[0.0,\"#0d0887\"],[0.1111111111111111,\"#46039f\"],[0.2222222222222222,\"#7201a8\"],[0.3333333333333333,\"#9c179e\"],[0.4444444444444444,\"#bd3786\"],[0.5555555555555556,\"#d8576b\"],[0.6666666666666666,\"#ed7953\"],[0.7777777777777778,\"#fb9f3a\"],[0.8888888888888888,\"#fdca26\"],[1.0,\"#f0f921\"]]}],\"heatmapgl\":[{\"type\":\"heatmapgl\",\"colorbar\":{\"outlinewidth\":0,\"ticks\":\"\"},\"colorscale\":[[0.0,\"#0d0887\"],[0.1111111111111111,\"#46039f\"],[0.2222222222222222,\"#7201a8\"],[0.3333333333333333,\"#9c179e\"],[0.4444444444444444,\"#bd3786\"],[0.5555555555555556,\"#d8576b\"],[0.6666666666666666,\"#ed7953\"],[0.7777777777777778,\"#fb9f3a\"],[0.8888888888888888,\"#fdca26\"],[1.0,\"#f0f921\"]]}],\"contourcarpet\":[{\"type\":\"contourcarpet\",\"colorbar\":{\"outlinewidth\":0,\"ticks\":\"\"}}],\"contour\":[{\"type\":\"contour\",\"colorbar\":{\"outlinewidth\":0,\"ticks\":\"\"},\"colorscale\":[[0.0,\"#0d0887\"],[0.1111111111111111,\"#46039f\"],[0.2222222222222222,\"#7201a8\"],[0.3333333333333333,\"#9c179e\"],[0.4444444444444444,\"#bd3786\"],[0.5555555555555556,\"#d8576b\"],[0.6666666666666666,\"#ed7953\"],[0.7777777777777778,\"#fb9f3a\"],[0.8888888888888888,\"#fdca26\"],[1.0,\"#f0f921\"]]}],\"surface\":[{\"type\":\"surface\",\"colorbar\":{\"outlinewidth\":0,\"ticks\":\"\"},\"colorscale\":[[0.0,\"#0d0887\"],[0.1111111111111111,\"#46039f\"],[0.2222222222222222,\"#7201a8\"],[0.3333333333333333,\"#9c179e\"],[0.4444444444444444,\"#bd3786\"],[0.5555555555555556,\"#d8576b\"],[0.6666666666666666,\"#ed7953\"],[0.7777777777777778,\"#fb9f3a\"],[0.8888888888888888,\"#fdca26\"],[1.0,\"#f0f921\"]]}],\"mesh3d\":[{\"type\":\"mesh3d\",\"colorbar\":{\"outlinewidth\":0,\"ticks\":\"\"}}],\"scatter\":[{\"fillpattern\":{\"fillmode\":\"overlay\",\"size\":10,\"solidity\":0.2},\"type\":\"scatter\"}],\"parcoords\":[{\"type\":\"parcoords\",\"line\":{\"colorbar\":{\"outlinewidth\":0,\"ticks\":\"\"}}}],\"scatterpolargl\":[{\"type\":\"scatterpolargl\",\"marker\":{\"colorbar\":{\"outlinewidth\":0,\"ticks\":\"\"}}}],\"bar\":[{\"error_x\":{\"color\":\"#2a3f5f\"},\"error_y\":{\"color\":\"#2a3f5f\"},\"marker\":{\"line\":{\"color\":\"#E5ECF6\",\"width\":0.5},\"pattern\":{\"fillmode\":\"overlay\",\"size\":10,\"solidity\":0.2}},\"type\":\"bar\"}],\"scattergeo\":[{\"type\":\"scattergeo\",\"marker\":{\"colorbar\":{\"outlinewidth\":0,\"ticks\":\"\"}}}],\"scatterpolar\":[{\"type\":\"scatterpolar\",\"marker\":{\"colorbar\":{\"outlinewidth\":0,\"ticks\":\"\"}}}],\"histogram\":[{\"marker\":{\"pattern\":{\"fillmode\":\"overlay\",\"size\":10,\"solidity\":0.2}},\"type\":\"histogram\"}],\"scattergl\":[{\"type\":\"scattergl\",\"marker\":{\"colorbar\":{\"outlinewidth\":0,\"ticks\":\"\"}}}],\"scatter3d\":[{\"type\":\"scatter3d\",\"line\":{\"colorbar\":{\"outlinewidth\":0,\"ticks\":\"\"}},\"marker\":{\"colorbar\":{\"outlinewidth\":0,\"ticks\":\"\"}}}],\"scattermapbox\":[{\"type\":\"scattermapbox\",\"marker\":{\"colorbar\":{\"outlinewidth\":0,\"ticks\":\"\"}}}],\"scatterternary\":[{\"type\":\"scatterternary\",\"marker\":{\"colorbar\":{\"outlinewidth\":0,\"ticks\":\"\"}}}],\"scattercarpet\":[{\"type\":\"scattercarpet\",\"marker\":{\"colorbar\":{\"outlinewidth\":0,\"ticks\":\"\"}}}],\"carpet\":[{\"aaxis\":{\"endlinecolor\":\"#2a3f5f\",\"gridcolor\":\"white\",\"linecolor\":\"white\",\"minorgridcolor\":\"white\",\"startlinecolor\":\"#2a3f5f\"},\"baxis\":{\"endlinecolor\":\"#2a3f5f\",\"gridcolor\":\"white\",\"linecolor\":\"white\",\"minorgridcolor\":\"white\",\"startlinecolor\":\"#2a3f5f\"},\"type\":\"carpet\"}],\"table\":[{\"cells\":{\"fill\":{\"color\":\"#EBF0F8\"},\"line\":{\"color\":\"white\"}},\"header\":{\"fill\":{\"color\":\"#C8D4E3\"},\"line\":{\"color\":\"white\"}},\"type\":\"table\"}],\"barpolar\":[{\"marker\":{\"line\":{\"color\":\"#E5ECF6\",\"width\":0.5},\"pattern\":{\"fillmode\":\"overlay\",\"size\":10,\"solidity\":0.2}},\"type\":\"barpolar\"}],\"pie\":[{\"automargin\":true,\"type\":\"pie\"}]},\"layout\":{\"autotypenumbers\":\"strict\",\"colorway\":[\"#636efa\",\"#EF553B\",\"#00cc96\",\"#ab63fa\",\"#FFA15A\",\"#19d3f3\",\"#FF6692\",\"#B6E880\",\"#FF97FF\",\"#FECB52\"],\"font\":{\"color\":\"#2a3f5f\"},\"hovermode\":\"closest\",\"hoverlabel\":{\"align\":\"left\"},\"paper_bgcolor\":\"white\",\"plot_bgcolor\":\"#E5ECF6\",\"polar\":{\"bgcolor\":\"#E5ECF6\",\"angularaxis\":{\"gridcolor\":\"white\",\"linecolor\":\"white\",\"ticks\":\"\"},\"radialaxis\":{\"gridcolor\":\"white\",\"linecolor\":\"white\",\"ticks\":\"\"}},\"ternary\":{\"bgcolor\":\"#E5ECF6\",\"aaxis\":{\"gridcolor\":\"white\",\"linecolor\":\"white\",\"ticks\":\"\"},\"baxis\":{\"gridcolor\":\"white\",\"linecolor\":\"white\",\"ticks\":\"\"},\"caxis\":{\"gridcolor\":\"white\",\"linecolor\":\"white\",\"ticks\":\"\"}},\"coloraxis\":{\"colorbar\":{\"outlinewidth\":0,\"ticks\":\"\"}},\"colorscale\":{\"sequential\":[[0.0,\"#0d0887\"],[0.1111111111111111,\"#46039f\"],[0.2222222222222222,\"#7201a8\"],[0.3333333333333333,\"#9c179e\"],[0.4444444444444444,\"#bd3786\"],[0.5555555555555556,\"#d8576b\"],[0.6666666666666666,\"#ed7953\"],[0.7777777777777778,\"#fb9f3a\"],[0.8888888888888888,\"#fdca26\"],[1.0,\"#f0f921\"]],\"sequentialminus\":[[0.0,\"#0d0887\"],[0.1111111111111111,\"#46039f\"],[0.2222222222222222,\"#7201a8\"],[0.3333333333333333,\"#9c179e\"],[0.4444444444444444,\"#bd3786\"],[0.5555555555555556,\"#d8576b\"],[0.6666666666666666,\"#ed7953\"],[0.7777777777777778,\"#fb9f3a\"],[0.8888888888888888,\"#fdca26\"],[1.0,\"#f0f921\"]],\"diverging\":[[0,\"#8e0152\"],[0.1,\"#c51b7d\"],[0.2,\"#de77ae\"],[0.3,\"#f1b6da\"],[0.4,\"#fde0ef\"],[0.5,\"#f7f7f7\"],[0.6,\"#e6f5d0\"],[0.7,\"#b8e186\"],[0.8,\"#7fbc41\"],[0.9,\"#4d9221\"],[1,\"#276419\"]]},\"xaxis\":{\"gridcolor\":\"white\",\"linecolor\":\"white\",\"ticks\":\"\",\"title\":{\"standoff\":15},\"zerolinecolor\":\"white\",\"automargin\":true,\"zerolinewidth\":2},\"yaxis\":{\"gridcolor\":\"white\",\"linecolor\":\"white\",\"ticks\":\"\",\"title\":{\"standoff\":15},\"zerolinecolor\":\"white\",\"automargin\":true,\"zerolinewidth\":2},\"scene\":{\"xaxis\":{\"backgroundcolor\":\"#E5ECF6\",\"gridcolor\":\"white\",\"linecolor\":\"white\",\"showbackground\":true,\"ticks\":\"\",\"zerolinecolor\":\"white\",\"gridwidth\":2},\"yaxis\":{\"backgroundcolor\":\"#E5ECF6\",\"gridcolor\":\"white\",\"linecolor\":\"white\",\"showbackground\":true,\"ticks\":\"\",\"zerolinecolor\":\"white\",\"gridwidth\":2},\"zaxis\":{\"backgroundcolor\":\"#E5ECF6\",\"gridcolor\":\"white\",\"linecolor\":\"white\",\"showbackground\":true,\"ticks\":\"\",\"zerolinecolor\":\"white\",\"gridwidth\":2}},\"shapedefaults\":{\"line\":{\"color\":\"#2a3f5f\"}},\"annotationdefaults\":{\"arrowcolor\":\"#2a3f5f\",\"arrowhead\":0,\"arrowwidth\":1},\"geo\":{\"bgcolor\":\"white\",\"landcolor\":\"#E5ECF6\",\"subunitcolor\":\"white\",\"showland\":true,\"showlakes\":true,\"lakecolor\":\"white\"},\"title\":{\"x\":0.05},\"mapbox\":{\"style\":\"light\"}}},\"margin\":{\"l\":0,\"r\":0,\"b\":0,\"t\":30},\"title\":{\"text\":\"Crop Production Distribution\",\"x\":0.5,\"y\":0.99},\"annotations\":[{\"showarrow\":true,\"x\":0.5,\"y\":-0.1}]},                        {\"responsive\": true}                    ).then(function(){\n",
              "                            \n",
              "var gd = document.getElementById('972ebe97-34c8-4887-a9e8-368da2e4e18d');\n",
              "var x = new MutationObserver(function (mutations, observer) {{\n",
              "        var display = window.getComputedStyle(gd).display;\n",
              "        if (!display || display === 'none') {{\n",
              "            console.log([gd, 'removed!']);\n",
              "            Plotly.purge(gd);\n",
              "            observer.disconnect();\n",
              "        }}\n",
              "}});\n",
              "\n",
              "// Listen for the removal of the full notebook cells\n",
              "var notebookContainer = gd.closest('#notebook-container');\n",
              "if (notebookContainer) {{\n",
              "    x.observe(notebookContainer, {childList: true});\n",
              "}}\n",
              "\n",
              "// Listen for the clearing of the current output cell\n",
              "var outputEl = gd.closest('.output');\n",
              "if (outputEl) {{\n",
              "    x.observe(outputEl, {childList: true});\n",
              "}}\n",
              "\n",
              "                        })                };                            </script>        </div>\n",
              "</body>\n",
              "</html>"
            ]
          },
          "metadata": {}
        }
      ]
    },
    {
      "cell_type": "markdown",
      "source": [
        "##`Question asked`: 'How does the current price of your household's [crp_salesmain] compare to the average price in the same period of #reference year#?'. [crp_salesmain] will be replaced by the response of the households to the question 'What was the main crop that you have sold over the last 3 months?' and #reference year# will be replaced with the country specific information."
      ],
      "metadata": {
        "id": "kAxGjYPbAmVA"
      }
    },
    {
      "cell_type": "code",
      "source": [
        "%%ag\n",
        "\n",
        "def is_lotmore(x: int) -> int:\n",
        "  if x == 1:\n",
        "    return 1\n",
        "  return 0\n",
        "\n",
        "def is_slightlymore(x: int) -> int:\n",
        "  if x == 2:\n",
        "    return 1\n",
        "  return 0\n",
        "\n",
        "def is_same(x: int) -> int:\n",
        "  if x == 3:\n",
        "    return 1\n",
        "  return 0\n",
        "\n",
        "def is_slightlyless(x: str) -> int:\n",
        "  if x == 4:\n",
        "    return 1\n",
        "  return 0\n",
        "\n",
        "def is_lotless(x: str) -> int:\n",
        "  if x == 5:\n",
        "    return 1\n",
        "  return 0\n",
        "\n"
      ],
      "metadata": {
        "colab": {
          "base_uri": "https://localhost:8080/"
        },
        "id": "5CgzhZnPCqdO",
        "outputId": "7eeea982-2787-46d8-e3e1-1606a5802b6f"
      },
      "execution_count": null,
      "outputs": [
        {
          "output_type": "stream",
          "name": "stdout",
          "text": [
            "Setting up exported variable in local environment: data_plot1\n"
          ]
        }
      ]
    },
    {
      "cell_type": "code",
      "source": [
        "%%ag\n",
        "\n",
        "df[\" A lot more (>50%)\"] = df[\"crp_salesprice\"].map(is_lotmore, output_bounds = (0 , 1))\n",
        "df[\"Is slightly more\"] = df[\"crp_salesprice\"].map(is_slightlymore, output_bounds = (0 , 1))\n",
        "df[\"Is same\"] = df[\"crp_salesprice\"].map(is_slightlymore, output_bounds = (0 , 1))\n",
        "df[\"Is slightly less\"] = df[\"crp_salesprice\"].map(is_slightlyless, output_bounds = (0 , 1))\n",
        "df[\"Is lot less\"] = df[\"crp_salesprice\"].map(is_lotless, output_bounds = (0 , 1))\n",
        "\n"
      ],
      "metadata": {
        "id": "3pRRcc9IIwvf"
      },
      "execution_count": null,
      "outputs": []
    },
    {
      "cell_type": "code",
      "source": [
        "%%ag\n",
        "from ag_utils import export\n",
        "ret = [\n",
        "    df[\" A lot more (>50%)\"].mean(eps=0.01),\n",
        "    df[\"Is slightly more\"].mean(eps=0.01),\n",
        "    df[\"Is same\"].mean(eps=0.01),\n",
        "    df[\"Is slightly less\"].mean(eps=0.01),\n",
        "    df[\"Is lot less\"].mean(eps=0.01),\n",
        "\n",
        "    ]\n",
        "export(ret, \"data_plot2\" )"
      ],
      "metadata": {
        "colab": {
          "base_uri": "https://localhost:8080/"
        },
        "id": "eKeXf_Kppm_D",
        "outputId": "c2a6c079-741f-478a-d030-f870375f97e4"
      },
      "execution_count": null,
      "outputs": [
        {
          "output_type": "stream",
          "name": "stdout",
          "text": [
            "Setting up exported variable in local environment: data_plot2\n"
          ]
        }
      ]
    },
    {
      "cell_type": "code",
      "source": [
        "import plotly.graph_objects as go\n",
        "\n",
        "labels = [\"A lot more\", \"Is slightly more\", \"Is same\", \"Is slightly less\", \"Is lot less\"]  # Example labels\n",
        "\n",
        "fig = go.Figure(data=[go.Pie(labels=labels, values=data_plot2)])\n",
        "fig.update_layout(\n",
        "    title=\"Crop Salesprice Difference\",\n",
        "    margin=dict(l=0, r=0, b=0, t=30),\n",
        "    title_x=0.5,  # Adjust the horizontal position of the title\n",
        "    title_y=0.99,  # Adjust the vertical position of the title\n",
        "    annotations=[dict(x=0.5, y=-0.1, showarrow=True)]\n",
        ")\n",
        "fig.show()\n"
      ],
      "metadata": {
        "colab": {
          "base_uri": "https://localhost:8080/",
          "height": 542
        },
        "id": "PbFpZxnnWU7L",
        "outputId": "0c87ef72-b762-41cb-b3b7-715a4ca86879"
      },
      "execution_count": 178,
      "outputs": [
        {
          "output_type": "display_data",
          "data": {
            "text/html": [
              "<html>\n",
              "<head><meta charset=\"utf-8\" /></head>\n",
              "<body>\n",
              "    <div>            <script src=\"https://cdnjs.cloudflare.com/ajax/libs/mathjax/2.7.5/MathJax.js?config=TeX-AMS-MML_SVG\"></script><script type=\"text/javascript\">if (window.MathJax && window.MathJax.Hub && window.MathJax.Hub.Config) {window.MathJax.Hub.Config({SVG: {font: \"STIX-Web\"}});}</script>                <script type=\"text/javascript\">window.PlotlyConfig = {MathJaxConfig: 'local'};</script>\n",
              "        <script charset=\"utf-8\" src=\"https://cdn.plot.ly/plotly-2.24.1.min.js\"></script>                <div id=\"c0a05728-ae2a-49f2-8561-ff64c56a6ab5\" class=\"plotly-graph-div\" style=\"height:525px; width:100%;\"></div>            <script type=\"text/javascript\">                                    window.PLOTLYENV=window.PLOTLYENV || {};                                    if (document.getElementById(\"c0a05728-ae2a-49f2-8561-ff64c56a6ab5\")) {                    Plotly.newPlot(                        \"c0a05728-ae2a-49f2-8561-ff64c56a6ab5\",                        [{\"labels\":[\"A lot more\",\"Is slightly more\",\"Is same\",\"Is slightly less\",\"Is lot less\"],\"values\":[0.027251696230107803,0.0982745727546094,0.09592201329884611,0.0811677862236534,0.01899225312978956],\"type\":\"pie\"}],                        {\"template\":{\"data\":{\"histogram2dcontour\":[{\"type\":\"histogram2dcontour\",\"colorbar\":{\"outlinewidth\":0,\"ticks\":\"\"},\"colorscale\":[[0.0,\"#0d0887\"],[0.1111111111111111,\"#46039f\"],[0.2222222222222222,\"#7201a8\"],[0.3333333333333333,\"#9c179e\"],[0.4444444444444444,\"#bd3786\"],[0.5555555555555556,\"#d8576b\"],[0.6666666666666666,\"#ed7953\"],[0.7777777777777778,\"#fb9f3a\"],[0.8888888888888888,\"#fdca26\"],[1.0,\"#f0f921\"]]}],\"choropleth\":[{\"type\":\"choropleth\",\"colorbar\":{\"outlinewidth\":0,\"ticks\":\"\"}}],\"histogram2d\":[{\"type\":\"histogram2d\",\"colorbar\":{\"outlinewidth\":0,\"ticks\":\"\"},\"colorscale\":[[0.0,\"#0d0887\"],[0.1111111111111111,\"#46039f\"],[0.2222222222222222,\"#7201a8\"],[0.3333333333333333,\"#9c179e\"],[0.4444444444444444,\"#bd3786\"],[0.5555555555555556,\"#d8576b\"],[0.6666666666666666,\"#ed7953\"],[0.7777777777777778,\"#fb9f3a\"],[0.8888888888888888,\"#fdca26\"],[1.0,\"#f0f921\"]]}],\"heatmap\":[{\"type\":\"heatmap\",\"colorbar\":{\"outlinewidth\":0,\"ticks\":\"\"},\"colorscale\":[[0.0,\"#0d0887\"],[0.1111111111111111,\"#46039f\"],[0.2222222222222222,\"#7201a8\"],[0.3333333333333333,\"#9c179e\"],[0.4444444444444444,\"#bd3786\"],[0.5555555555555556,\"#d8576b\"],[0.6666666666666666,\"#ed7953\"],[0.7777777777777778,\"#fb9f3a\"],[0.8888888888888888,\"#fdca26\"],[1.0,\"#f0f921\"]]}],\"heatmapgl\":[{\"type\":\"heatmapgl\",\"colorbar\":{\"outlinewidth\":0,\"ticks\":\"\"},\"colorscale\":[[0.0,\"#0d0887\"],[0.1111111111111111,\"#46039f\"],[0.2222222222222222,\"#7201a8\"],[0.3333333333333333,\"#9c179e\"],[0.4444444444444444,\"#bd3786\"],[0.5555555555555556,\"#d8576b\"],[0.6666666666666666,\"#ed7953\"],[0.7777777777777778,\"#fb9f3a\"],[0.8888888888888888,\"#fdca26\"],[1.0,\"#f0f921\"]]}],\"contourcarpet\":[{\"type\":\"contourcarpet\",\"colorbar\":{\"outlinewidth\":0,\"ticks\":\"\"}}],\"contour\":[{\"type\":\"contour\",\"colorbar\":{\"outlinewidth\":0,\"ticks\":\"\"},\"colorscale\":[[0.0,\"#0d0887\"],[0.1111111111111111,\"#46039f\"],[0.2222222222222222,\"#7201a8\"],[0.3333333333333333,\"#9c179e\"],[0.4444444444444444,\"#bd3786\"],[0.5555555555555556,\"#d8576b\"],[0.6666666666666666,\"#ed7953\"],[0.7777777777777778,\"#fb9f3a\"],[0.8888888888888888,\"#fdca26\"],[1.0,\"#f0f921\"]]}],\"surface\":[{\"type\":\"surface\",\"colorbar\":{\"outlinewidth\":0,\"ticks\":\"\"},\"colorscale\":[[0.0,\"#0d0887\"],[0.1111111111111111,\"#46039f\"],[0.2222222222222222,\"#7201a8\"],[0.3333333333333333,\"#9c179e\"],[0.4444444444444444,\"#bd3786\"],[0.5555555555555556,\"#d8576b\"],[0.6666666666666666,\"#ed7953\"],[0.7777777777777778,\"#fb9f3a\"],[0.8888888888888888,\"#fdca26\"],[1.0,\"#f0f921\"]]}],\"mesh3d\":[{\"type\":\"mesh3d\",\"colorbar\":{\"outlinewidth\":0,\"ticks\":\"\"}}],\"scatter\":[{\"fillpattern\":{\"fillmode\":\"overlay\",\"size\":10,\"solidity\":0.2},\"type\":\"scatter\"}],\"parcoords\":[{\"type\":\"parcoords\",\"line\":{\"colorbar\":{\"outlinewidth\":0,\"ticks\":\"\"}}}],\"scatterpolargl\":[{\"type\":\"scatterpolargl\",\"marker\":{\"colorbar\":{\"outlinewidth\":0,\"ticks\":\"\"}}}],\"bar\":[{\"error_x\":{\"color\":\"#2a3f5f\"},\"error_y\":{\"color\":\"#2a3f5f\"},\"marker\":{\"line\":{\"color\":\"#E5ECF6\",\"width\":0.5},\"pattern\":{\"fillmode\":\"overlay\",\"size\":10,\"solidity\":0.2}},\"type\":\"bar\"}],\"scattergeo\":[{\"type\":\"scattergeo\",\"marker\":{\"colorbar\":{\"outlinewidth\":0,\"ticks\":\"\"}}}],\"scatterpolar\":[{\"type\":\"scatterpolar\",\"marker\":{\"colorbar\":{\"outlinewidth\":0,\"ticks\":\"\"}}}],\"histogram\":[{\"marker\":{\"pattern\":{\"fillmode\":\"overlay\",\"size\":10,\"solidity\":0.2}},\"type\":\"histogram\"}],\"scattergl\":[{\"type\":\"scattergl\",\"marker\":{\"colorbar\":{\"outlinewidth\":0,\"ticks\":\"\"}}}],\"scatter3d\":[{\"type\":\"scatter3d\",\"line\":{\"colorbar\":{\"outlinewidth\":0,\"ticks\":\"\"}},\"marker\":{\"colorbar\":{\"outlinewidth\":0,\"ticks\":\"\"}}}],\"scattermapbox\":[{\"type\":\"scattermapbox\",\"marker\":{\"colorbar\":{\"outlinewidth\":0,\"ticks\":\"\"}}}],\"scatterternary\":[{\"type\":\"scatterternary\",\"marker\":{\"colorbar\":{\"outlinewidth\":0,\"ticks\":\"\"}}}],\"scattercarpet\":[{\"type\":\"scattercarpet\",\"marker\":{\"colorbar\":{\"outlinewidth\":0,\"ticks\":\"\"}}}],\"carpet\":[{\"aaxis\":{\"endlinecolor\":\"#2a3f5f\",\"gridcolor\":\"white\",\"linecolor\":\"white\",\"minorgridcolor\":\"white\",\"startlinecolor\":\"#2a3f5f\"},\"baxis\":{\"endlinecolor\":\"#2a3f5f\",\"gridcolor\":\"white\",\"linecolor\":\"white\",\"minorgridcolor\":\"white\",\"startlinecolor\":\"#2a3f5f\"},\"type\":\"carpet\"}],\"table\":[{\"cells\":{\"fill\":{\"color\":\"#EBF0F8\"},\"line\":{\"color\":\"white\"}},\"header\":{\"fill\":{\"color\":\"#C8D4E3\"},\"line\":{\"color\":\"white\"}},\"type\":\"table\"}],\"barpolar\":[{\"marker\":{\"line\":{\"color\":\"#E5ECF6\",\"width\":0.5},\"pattern\":{\"fillmode\":\"overlay\",\"size\":10,\"solidity\":0.2}},\"type\":\"barpolar\"}],\"pie\":[{\"automargin\":true,\"type\":\"pie\"}]},\"layout\":{\"autotypenumbers\":\"strict\",\"colorway\":[\"#636efa\",\"#EF553B\",\"#00cc96\",\"#ab63fa\",\"#FFA15A\",\"#19d3f3\",\"#FF6692\",\"#B6E880\",\"#FF97FF\",\"#FECB52\"],\"font\":{\"color\":\"#2a3f5f\"},\"hovermode\":\"closest\",\"hoverlabel\":{\"align\":\"left\"},\"paper_bgcolor\":\"white\",\"plot_bgcolor\":\"#E5ECF6\",\"polar\":{\"bgcolor\":\"#E5ECF6\",\"angularaxis\":{\"gridcolor\":\"white\",\"linecolor\":\"white\",\"ticks\":\"\"},\"radialaxis\":{\"gridcolor\":\"white\",\"linecolor\":\"white\",\"ticks\":\"\"}},\"ternary\":{\"bgcolor\":\"#E5ECF6\",\"aaxis\":{\"gridcolor\":\"white\",\"linecolor\":\"white\",\"ticks\":\"\"},\"baxis\":{\"gridcolor\":\"white\",\"linecolor\":\"white\",\"ticks\":\"\"},\"caxis\":{\"gridcolor\":\"white\",\"linecolor\":\"white\",\"ticks\":\"\"}},\"coloraxis\":{\"colorbar\":{\"outlinewidth\":0,\"ticks\":\"\"}},\"colorscale\":{\"sequential\":[[0.0,\"#0d0887\"],[0.1111111111111111,\"#46039f\"],[0.2222222222222222,\"#7201a8\"],[0.3333333333333333,\"#9c179e\"],[0.4444444444444444,\"#bd3786\"],[0.5555555555555556,\"#d8576b\"],[0.6666666666666666,\"#ed7953\"],[0.7777777777777778,\"#fb9f3a\"],[0.8888888888888888,\"#fdca26\"],[1.0,\"#f0f921\"]],\"sequentialminus\":[[0.0,\"#0d0887\"],[0.1111111111111111,\"#46039f\"],[0.2222222222222222,\"#7201a8\"],[0.3333333333333333,\"#9c179e\"],[0.4444444444444444,\"#bd3786\"],[0.5555555555555556,\"#d8576b\"],[0.6666666666666666,\"#ed7953\"],[0.7777777777777778,\"#fb9f3a\"],[0.8888888888888888,\"#fdca26\"],[1.0,\"#f0f921\"]],\"diverging\":[[0,\"#8e0152\"],[0.1,\"#c51b7d\"],[0.2,\"#de77ae\"],[0.3,\"#f1b6da\"],[0.4,\"#fde0ef\"],[0.5,\"#f7f7f7\"],[0.6,\"#e6f5d0\"],[0.7,\"#b8e186\"],[0.8,\"#7fbc41\"],[0.9,\"#4d9221\"],[1,\"#276419\"]]},\"xaxis\":{\"gridcolor\":\"white\",\"linecolor\":\"white\",\"ticks\":\"\",\"title\":{\"standoff\":15},\"zerolinecolor\":\"white\",\"automargin\":true,\"zerolinewidth\":2},\"yaxis\":{\"gridcolor\":\"white\",\"linecolor\":\"white\",\"ticks\":\"\",\"title\":{\"standoff\":15},\"zerolinecolor\":\"white\",\"automargin\":true,\"zerolinewidth\":2},\"scene\":{\"xaxis\":{\"backgroundcolor\":\"#E5ECF6\",\"gridcolor\":\"white\",\"linecolor\":\"white\",\"showbackground\":true,\"ticks\":\"\",\"zerolinecolor\":\"white\",\"gridwidth\":2},\"yaxis\":{\"backgroundcolor\":\"#E5ECF6\",\"gridcolor\":\"white\",\"linecolor\":\"white\",\"showbackground\":true,\"ticks\":\"\",\"zerolinecolor\":\"white\",\"gridwidth\":2},\"zaxis\":{\"backgroundcolor\":\"#E5ECF6\",\"gridcolor\":\"white\",\"linecolor\":\"white\",\"showbackground\":true,\"ticks\":\"\",\"zerolinecolor\":\"white\",\"gridwidth\":2}},\"shapedefaults\":{\"line\":{\"color\":\"#2a3f5f\"}},\"annotationdefaults\":{\"arrowcolor\":\"#2a3f5f\",\"arrowhead\":0,\"arrowwidth\":1},\"geo\":{\"bgcolor\":\"white\",\"landcolor\":\"#E5ECF6\",\"subunitcolor\":\"white\",\"showland\":true,\"showlakes\":true,\"lakecolor\":\"white\"},\"title\":{\"x\":0.05},\"mapbox\":{\"style\":\"light\"}}},\"margin\":{\"l\":0,\"r\":0,\"b\":0,\"t\":30},\"title\":{\"text\":\"Crop Salesprice Difference\",\"x\":0.5,\"y\":0.99},\"annotations\":[{\"showarrow\":false,\"x\":0.5,\"y\":-0.1}]},                        {\"responsive\": true}                    ).then(function(){\n",
              "                            \n",
              "var gd = document.getElementById('c0a05728-ae2a-49f2-8561-ff64c56a6ab5');\n",
              "var x = new MutationObserver(function (mutations, observer) {{\n",
              "        var display = window.getComputedStyle(gd).display;\n",
              "        if (!display || display === 'none') {{\n",
              "            console.log([gd, 'removed!']);\n",
              "            Plotly.purge(gd);\n",
              "            observer.disconnect();\n",
              "        }}\n",
              "}});\n",
              "\n",
              "// Listen for the removal of the full notebook cells\n",
              "var notebookContainer = gd.closest('#notebook-container');\n",
              "if (notebookContainer) {{\n",
              "    x.observe(notebookContainer, {childList: true});\n",
              "}}\n",
              "\n",
              "// Listen for the clearing of the current output cell\n",
              "var outputEl = gd.closest('.output');\n",
              "if (outputEl) {{\n",
              "    x.observe(outputEl, {childList: true});\n",
              "}}\n",
              "\n",
              "                        })                };                            </script>        </div>\n",
              "</body>\n",
              "</html>"
            ]
          },
          "metadata": {}
        }
      ]
    },
    {
      "cell_type": "markdown",
      "source": [
        "##`Question asked`: 'How many [crp_harv_unit] of (threshed) [crp_main] did you harvest last year during the same season?'. [crp_harv_unit] will be replaced with the unit of measurement for harvested [crp_main] and [crp_main] will be replaced with the main crop grown by the respondent's household."
      ],
      "metadata": {
        "id": "vpNE6mcsAVnW"
      }
    },
    {
      "cell_type": "code",
      "source": [
        "%%ag\n",
        "\n",
        "def is_kilograms(x: int) -> int:\n",
        "    if x == 1:\n",
        "        return 1\n",
        "    return 0\n",
        "\n",
        "def is_tonnes(x: int) -> int:\n",
        "    if x == 2:\n",
        "        return 1\n",
        "    return 0\n",
        "\n",
        "def is_ounces(x: int) -> int:\n",
        "    if x == 3:\n",
        "        return 1\n",
        "    return 0\n",
        "\n",
        "def is_pounds(x: int) -> int:\n",
        "    if x == 4:\n",
        "        return 1\n",
        "    return 0\n",
        "\n",
        "def is_bags(x: int) -> int:\n",
        "    if x == 5:\n",
        "        return 1\n",
        "    return 0\n",
        "\n",
        "def is_boxes(x: int) -> int:\n",
        "    if x == 6:\n",
        "        return 1\n",
        "    return 0\n",
        "\n",
        "def is_bundles(x: int) -> int:\n",
        "    if x == 7:\n",
        "        return 1\n",
        "    return 0\n",
        "\n",
        "def is_packets(x: int) -> int:\n",
        "    if x == 8:\n",
        "        return 1\n",
        "    return 0\n",
        "\n",
        "def is_other(x: int) -> int:\n",
        "    if x == 9:\n",
        "        return 1\n",
        "    return 0\n"
      ],
      "metadata": {
        "id": "dwWhq3RdkYlP"
      },
      "execution_count": null,
      "outputs": []
    },
    {
      "cell_type": "code",
      "source": [
        "%%ag\n",
        "# is_rice   is_wheat  is_potatoe   is_lentils  is_cabbage  is_pumpkin  is_grapefruit  is_coconuts  is_cocoa\n",
        "df[\"kilograms\"] = df[\"crp_harv_lastyr_kg\"].map(is_rice, output_bounds = (0 , 1))\n",
        "df[\"tonnes\"] = df[\"crp_harv_lastyr_kg\"].map(is_wheat, output_bounds = (0 , 1))\n",
        "df[\"ounces\"] = df[\"crp_harv_lastyr_kg\"].map(is_potatoe, output_bounds = (0 , 1))\n",
        "df[\"pounds\"] = df[\"crp_harv_lastyr_kg\"].map(is_lentils, output_bounds = (0 , 1))\n",
        "df[\"bags\"] = df[\"crp_harv_lastyr_kg\"].map(is_cabbage, output_bounds = (0 , 1))\n",
        "df[\"boxes\"] = df[\"crp_harv_lastyr_kg\"].map(is_pumpkin, output_bounds = (0 , 1))\n",
        "df[\"bundles\"] = df[\"crp_harv_lastyr_kg\"].map(is_grapefruit, output_bounds = (0 , 1))\n",
        "df[\"packets\"] = df[\"crp_harv_lastyr_kg\"].map(is_coconuts, output_bounds = (0 , 1))\n",
        "df[\"other\"] = df[\"crp_harv_lastyr_kg\"].map(is_cocoa, output_bounds = (0 , 1))"
      ],
      "metadata": {
        "id": "Gqr7H7WbuQ4T"
      },
      "execution_count": 181,
      "outputs": []
    },
    {
      "cell_type": "code",
      "source": [
        "%%ag\n",
        "from ag_utils import export\n",
        "ret = [\n",
        "    df[\"kilograms\"].mean(eps=0.01),\n",
        "    df[\"tonnes\"].mean(eps=0.01),\n",
        "    df[\"ounces\"].mean(eps=0.01),\n",
        "    df[\"pounds\"].mean(eps=0.01),\n",
        "    df[\"bags\"].mean(eps=0.01),\n",
        "    df[\"boxes\"].mean(eps=0.01),\n",
        "    df[\"bundles\"].mean(eps=0.01),\n",
        "    df[\"packets\"].mean(eps=0.01),\n",
        "    df[\"other\"].mean(eps=0.10)\n",
        "    ]\n",
        "\n",
        "export( ret,\"data_plot3\" )"
      ],
      "metadata": {
        "colab": {
          "base_uri": "https://localhost:8080/"
        },
        "id": "ZgFpioNmvD8y",
        "outputId": "d2b8472c-ecaa-4d4a-cc38-e9c6a1b7a95b"
      },
      "execution_count": 182,
      "outputs": [
        {
          "output_type": "stream",
          "name": "stdout",
          "text": [
            "Setting up exported variable in local environment: data_plot3\n"
          ]
        }
      ]
    },
    {
      "cell_type": "code",
      "source": [
        "data_plot3"
      ],
      "metadata": {
        "colab": {
          "base_uri": "https://localhost:8080/"
        },
        "id": "DbHQvLw7DZiH",
        "outputId": "3b9f46b0-4613-460e-ec20-5b91de68b750"
      },
      "execution_count": 183,
      "outputs": [
        {
          "output_type": "execute_result",
          "data": {
            "text/plain": [
              "[0.0003786679810929334,\n",
              " 0.0,\n",
              " 0.00035704983758413374,\n",
              " 0.00033962821865701586,\n",
              " 0.0004890271251901186,\n",
              " 0.0,\n",
              " 0.0005529982878791132,\n",
              " 0.0,\n",
              " 0.0]"
            ]
          },
          "metadata": {},
          "execution_count": 183
        }
      ]
    },
    {
      "cell_type": "code",
      "source": [
        "import plotly.graph_objects as go\n",
        "\n",
        "labels = [\"kilograms\", \"tonnes\", \"ounces\", \"pounds\", \"bags\", \"boxes\", \"bundles\", \"packets\", \"other\"]  # Example labels\n",
        "fig = go.Figure(data=[go.Pie(labels=labels, values=data_plot3)])\n",
        "fig.update_layout(\n",
        "    title=\"Crop Harvest Unit\",\n",
        "    margin=dict(l=0, r=0, b=0, t=30),\n",
        "    title_x=0.5,  # Adjust the horizontal position of the title\n",
        "    title_y=0.99,  # Adjust the vertical position of the title\n",
        "    annotations=[dict(x=0.5, y=-0.1, showarrow=True)]\n",
        ")\n",
        "fig.show()\n"
      ],
      "metadata": {
        "colab": {
          "base_uri": "https://localhost:8080/",
          "height": 542
        },
        "id": "sMngjSbN84Rs",
        "outputId": "b9c3a35f-00b4-42e6-942c-cbd9f2eb5d84"
      },
      "execution_count": 185,
      "outputs": [
        {
          "output_type": "display_data",
          "data": {
            "text/html": [
              "<html>\n",
              "<head><meta charset=\"utf-8\" /></head>\n",
              "<body>\n",
              "    <div>            <script src=\"https://cdnjs.cloudflare.com/ajax/libs/mathjax/2.7.5/MathJax.js?config=TeX-AMS-MML_SVG\"></script><script type=\"text/javascript\">if (window.MathJax && window.MathJax.Hub && window.MathJax.Hub.Config) {window.MathJax.Hub.Config({SVG: {font: \"STIX-Web\"}});}</script>                <script type=\"text/javascript\">window.PlotlyConfig = {MathJaxConfig: 'local'};</script>\n",
              "        <script charset=\"utf-8\" src=\"https://cdn.plot.ly/plotly-2.24.1.min.js\"></script>                <div id=\"b59d57a8-156d-4719-9cdf-9f878ac51930\" class=\"plotly-graph-div\" style=\"height:525px; width:100%;\"></div>            <script type=\"text/javascript\">                                    window.PLOTLYENV=window.PLOTLYENV || {};                                    if (document.getElementById(\"b59d57a8-156d-4719-9cdf-9f878ac51930\")) {                    Plotly.newPlot(                        \"b59d57a8-156d-4719-9cdf-9f878ac51930\",                        [{\"labels\":[\"kilograms\",\"tonnes\",\"ounces\",\"pounds\",\"bags\",\"boxes\",\"bundles\",\"packets\",\"other\"],\"values\":[0.0003786679810929334,0.0,0.00035704983758413374,0.00033962821865701586,0.0004890271251901186,0.0,0.0005529982878791132,0.0,0.0],\"type\":\"pie\"}],                        {\"template\":{\"data\":{\"histogram2dcontour\":[{\"type\":\"histogram2dcontour\",\"colorbar\":{\"outlinewidth\":0,\"ticks\":\"\"},\"colorscale\":[[0.0,\"#0d0887\"],[0.1111111111111111,\"#46039f\"],[0.2222222222222222,\"#7201a8\"],[0.3333333333333333,\"#9c179e\"],[0.4444444444444444,\"#bd3786\"],[0.5555555555555556,\"#d8576b\"],[0.6666666666666666,\"#ed7953\"],[0.7777777777777778,\"#fb9f3a\"],[0.8888888888888888,\"#fdca26\"],[1.0,\"#f0f921\"]]}],\"choropleth\":[{\"type\":\"choropleth\",\"colorbar\":{\"outlinewidth\":0,\"ticks\":\"\"}}],\"histogram2d\":[{\"type\":\"histogram2d\",\"colorbar\":{\"outlinewidth\":0,\"ticks\":\"\"},\"colorscale\":[[0.0,\"#0d0887\"],[0.1111111111111111,\"#46039f\"],[0.2222222222222222,\"#7201a8\"],[0.3333333333333333,\"#9c179e\"],[0.4444444444444444,\"#bd3786\"],[0.5555555555555556,\"#d8576b\"],[0.6666666666666666,\"#ed7953\"],[0.7777777777777778,\"#fb9f3a\"],[0.8888888888888888,\"#fdca26\"],[1.0,\"#f0f921\"]]}],\"heatmap\":[{\"type\":\"heatmap\",\"colorbar\":{\"outlinewidth\":0,\"ticks\":\"\"},\"colorscale\":[[0.0,\"#0d0887\"],[0.1111111111111111,\"#46039f\"],[0.2222222222222222,\"#7201a8\"],[0.3333333333333333,\"#9c179e\"],[0.4444444444444444,\"#bd3786\"],[0.5555555555555556,\"#d8576b\"],[0.6666666666666666,\"#ed7953\"],[0.7777777777777778,\"#fb9f3a\"],[0.8888888888888888,\"#fdca26\"],[1.0,\"#f0f921\"]]}],\"heatmapgl\":[{\"type\":\"heatmapgl\",\"colorbar\":{\"outlinewidth\":0,\"ticks\":\"\"},\"colorscale\":[[0.0,\"#0d0887\"],[0.1111111111111111,\"#46039f\"],[0.2222222222222222,\"#7201a8\"],[0.3333333333333333,\"#9c179e\"],[0.4444444444444444,\"#bd3786\"],[0.5555555555555556,\"#d8576b\"],[0.6666666666666666,\"#ed7953\"],[0.7777777777777778,\"#fb9f3a\"],[0.8888888888888888,\"#fdca26\"],[1.0,\"#f0f921\"]]}],\"contourcarpet\":[{\"type\":\"contourcarpet\",\"colorbar\":{\"outlinewidth\":0,\"ticks\":\"\"}}],\"contour\":[{\"type\":\"contour\",\"colorbar\":{\"outlinewidth\":0,\"ticks\":\"\"},\"colorscale\":[[0.0,\"#0d0887\"],[0.1111111111111111,\"#46039f\"],[0.2222222222222222,\"#7201a8\"],[0.3333333333333333,\"#9c179e\"],[0.4444444444444444,\"#bd3786\"],[0.5555555555555556,\"#d8576b\"],[0.6666666666666666,\"#ed7953\"],[0.7777777777777778,\"#fb9f3a\"],[0.8888888888888888,\"#fdca26\"],[1.0,\"#f0f921\"]]}],\"surface\":[{\"type\":\"surface\",\"colorbar\":{\"outlinewidth\":0,\"ticks\":\"\"},\"colorscale\":[[0.0,\"#0d0887\"],[0.1111111111111111,\"#46039f\"],[0.2222222222222222,\"#7201a8\"],[0.3333333333333333,\"#9c179e\"],[0.4444444444444444,\"#bd3786\"],[0.5555555555555556,\"#d8576b\"],[0.6666666666666666,\"#ed7953\"],[0.7777777777777778,\"#fb9f3a\"],[0.8888888888888888,\"#fdca26\"],[1.0,\"#f0f921\"]]}],\"mesh3d\":[{\"type\":\"mesh3d\",\"colorbar\":{\"outlinewidth\":0,\"ticks\":\"\"}}],\"scatter\":[{\"fillpattern\":{\"fillmode\":\"overlay\",\"size\":10,\"solidity\":0.2},\"type\":\"scatter\"}],\"parcoords\":[{\"type\":\"parcoords\",\"line\":{\"colorbar\":{\"outlinewidth\":0,\"ticks\":\"\"}}}],\"scatterpolargl\":[{\"type\":\"scatterpolargl\",\"marker\":{\"colorbar\":{\"outlinewidth\":0,\"ticks\":\"\"}}}],\"bar\":[{\"error_x\":{\"color\":\"#2a3f5f\"},\"error_y\":{\"color\":\"#2a3f5f\"},\"marker\":{\"line\":{\"color\":\"#E5ECF6\",\"width\":0.5},\"pattern\":{\"fillmode\":\"overlay\",\"size\":10,\"solidity\":0.2}},\"type\":\"bar\"}],\"scattergeo\":[{\"type\":\"scattergeo\",\"marker\":{\"colorbar\":{\"outlinewidth\":0,\"ticks\":\"\"}}}],\"scatterpolar\":[{\"type\":\"scatterpolar\",\"marker\":{\"colorbar\":{\"outlinewidth\":0,\"ticks\":\"\"}}}],\"histogram\":[{\"marker\":{\"pattern\":{\"fillmode\":\"overlay\",\"size\":10,\"solidity\":0.2}},\"type\":\"histogram\"}],\"scattergl\":[{\"type\":\"scattergl\",\"marker\":{\"colorbar\":{\"outlinewidth\":0,\"ticks\":\"\"}}}],\"scatter3d\":[{\"type\":\"scatter3d\",\"line\":{\"colorbar\":{\"outlinewidth\":0,\"ticks\":\"\"}},\"marker\":{\"colorbar\":{\"outlinewidth\":0,\"ticks\":\"\"}}}],\"scattermapbox\":[{\"type\":\"scattermapbox\",\"marker\":{\"colorbar\":{\"outlinewidth\":0,\"ticks\":\"\"}}}],\"scatterternary\":[{\"type\":\"scatterternary\",\"marker\":{\"colorbar\":{\"outlinewidth\":0,\"ticks\":\"\"}}}],\"scattercarpet\":[{\"type\":\"scattercarpet\",\"marker\":{\"colorbar\":{\"outlinewidth\":0,\"ticks\":\"\"}}}],\"carpet\":[{\"aaxis\":{\"endlinecolor\":\"#2a3f5f\",\"gridcolor\":\"white\",\"linecolor\":\"white\",\"minorgridcolor\":\"white\",\"startlinecolor\":\"#2a3f5f\"},\"baxis\":{\"endlinecolor\":\"#2a3f5f\",\"gridcolor\":\"white\",\"linecolor\":\"white\",\"minorgridcolor\":\"white\",\"startlinecolor\":\"#2a3f5f\"},\"type\":\"carpet\"}],\"table\":[{\"cells\":{\"fill\":{\"color\":\"#EBF0F8\"},\"line\":{\"color\":\"white\"}},\"header\":{\"fill\":{\"color\":\"#C8D4E3\"},\"line\":{\"color\":\"white\"}},\"type\":\"table\"}],\"barpolar\":[{\"marker\":{\"line\":{\"color\":\"#E5ECF6\",\"width\":0.5},\"pattern\":{\"fillmode\":\"overlay\",\"size\":10,\"solidity\":0.2}},\"type\":\"barpolar\"}],\"pie\":[{\"automargin\":true,\"type\":\"pie\"}]},\"layout\":{\"autotypenumbers\":\"strict\",\"colorway\":[\"#636efa\",\"#EF553B\",\"#00cc96\",\"#ab63fa\",\"#FFA15A\",\"#19d3f3\",\"#FF6692\",\"#B6E880\",\"#FF97FF\",\"#FECB52\"],\"font\":{\"color\":\"#2a3f5f\"},\"hovermode\":\"closest\",\"hoverlabel\":{\"align\":\"left\"},\"paper_bgcolor\":\"white\",\"plot_bgcolor\":\"#E5ECF6\",\"polar\":{\"bgcolor\":\"#E5ECF6\",\"angularaxis\":{\"gridcolor\":\"white\",\"linecolor\":\"white\",\"ticks\":\"\"},\"radialaxis\":{\"gridcolor\":\"white\",\"linecolor\":\"white\",\"ticks\":\"\"}},\"ternary\":{\"bgcolor\":\"#E5ECF6\",\"aaxis\":{\"gridcolor\":\"white\",\"linecolor\":\"white\",\"ticks\":\"\"},\"baxis\":{\"gridcolor\":\"white\",\"linecolor\":\"white\",\"ticks\":\"\"},\"caxis\":{\"gridcolor\":\"white\",\"linecolor\":\"white\",\"ticks\":\"\"}},\"coloraxis\":{\"colorbar\":{\"outlinewidth\":0,\"ticks\":\"\"}},\"colorscale\":{\"sequential\":[[0.0,\"#0d0887\"],[0.1111111111111111,\"#46039f\"],[0.2222222222222222,\"#7201a8\"],[0.3333333333333333,\"#9c179e\"],[0.4444444444444444,\"#bd3786\"],[0.5555555555555556,\"#d8576b\"],[0.6666666666666666,\"#ed7953\"],[0.7777777777777778,\"#fb9f3a\"],[0.8888888888888888,\"#fdca26\"],[1.0,\"#f0f921\"]],\"sequentialminus\":[[0.0,\"#0d0887\"],[0.1111111111111111,\"#46039f\"],[0.2222222222222222,\"#7201a8\"],[0.3333333333333333,\"#9c179e\"],[0.4444444444444444,\"#bd3786\"],[0.5555555555555556,\"#d8576b\"],[0.6666666666666666,\"#ed7953\"],[0.7777777777777778,\"#fb9f3a\"],[0.8888888888888888,\"#fdca26\"],[1.0,\"#f0f921\"]],\"diverging\":[[0,\"#8e0152\"],[0.1,\"#c51b7d\"],[0.2,\"#de77ae\"],[0.3,\"#f1b6da\"],[0.4,\"#fde0ef\"],[0.5,\"#f7f7f7\"],[0.6,\"#e6f5d0\"],[0.7,\"#b8e186\"],[0.8,\"#7fbc41\"],[0.9,\"#4d9221\"],[1,\"#276419\"]]},\"xaxis\":{\"gridcolor\":\"white\",\"linecolor\":\"white\",\"ticks\":\"\",\"title\":{\"standoff\":15},\"zerolinecolor\":\"white\",\"automargin\":true,\"zerolinewidth\":2},\"yaxis\":{\"gridcolor\":\"white\",\"linecolor\":\"white\",\"ticks\":\"\",\"title\":{\"standoff\":15},\"zerolinecolor\":\"white\",\"automargin\":true,\"zerolinewidth\":2},\"scene\":{\"xaxis\":{\"backgroundcolor\":\"#E5ECF6\",\"gridcolor\":\"white\",\"linecolor\":\"white\",\"showbackground\":true,\"ticks\":\"\",\"zerolinecolor\":\"white\",\"gridwidth\":2},\"yaxis\":{\"backgroundcolor\":\"#E5ECF6\",\"gridcolor\":\"white\",\"linecolor\":\"white\",\"showbackground\":true,\"ticks\":\"\",\"zerolinecolor\":\"white\",\"gridwidth\":2},\"zaxis\":{\"backgroundcolor\":\"#E5ECF6\",\"gridcolor\":\"white\",\"linecolor\":\"white\",\"showbackground\":true,\"ticks\":\"\",\"zerolinecolor\":\"white\",\"gridwidth\":2}},\"shapedefaults\":{\"line\":{\"color\":\"#2a3f5f\"}},\"annotationdefaults\":{\"arrowcolor\":\"#2a3f5f\",\"arrowhead\":0,\"arrowwidth\":1},\"geo\":{\"bgcolor\":\"white\",\"landcolor\":\"#E5ECF6\",\"subunitcolor\":\"white\",\"showland\":true,\"showlakes\":true,\"lakecolor\":\"white\"},\"title\":{\"x\":0.05},\"mapbox\":{\"style\":\"light\"}}},\"margin\":{\"l\":0,\"r\":0,\"b\":0,\"t\":30},\"title\":{\"text\":\"Crop Harvest Unit\",\"x\":0.5,\"y\":0.99},\"annotations\":[{\"showarrow\":true,\"x\":0.5,\"y\":-0.1}]},                        {\"responsive\": true}                    ).then(function(){\n",
              "                            \n",
              "var gd = document.getElementById('b59d57a8-156d-4719-9cdf-9f878ac51930');\n",
              "var x = new MutationObserver(function (mutations, observer) {{\n",
              "        var display = window.getComputedStyle(gd).display;\n",
              "        if (!display || display === 'none') {{\n",
              "            console.log([gd, 'removed!']);\n",
              "            Plotly.purge(gd);\n",
              "            observer.disconnect();\n",
              "        }}\n",
              "}});\n",
              "\n",
              "// Listen for the removal of the full notebook cells\n",
              "var notebookContainer = gd.closest('#notebook-container');\n",
              "if (notebookContainer) {{\n",
              "    x.observe(notebookContainer, {childList: true});\n",
              "}}\n",
              "\n",
              "// Listen for the clearing of the current output cell\n",
              "var outputEl = gd.closest('.output');\n",
              "if (outputEl) {{\n",
              "    x.observe(outputEl, {childList: true});\n",
              "}}\n",
              "\n",
              "                        })                };                            </script>        </div>\n",
              "</body>\n",
              "</html>"
            ]
          },
          "metadata": {}
        }
      ]
    },
    {
      "cell_type": "markdown",
      "source": [
        "##`Question asked`: 'How did the area planted for [crp_main] from #season# compare to #reference year#?'. #season# and #reference year# will be replaced with the country specific information (e.g. wet season, monsoon season, harvest season, etc...) and (e.g. a normal year, last year, etc...) respectively."
      ],
      "metadata": {
        "id": "QvRSYWI__yJq"
      }
    },
    {
      "cell_type": "code",
      "source": [
        "%%ag\n",
        "\n",
        "## Modify the functions to use these constants\n",
        "def is_acres(x: int) -> int:\n",
        "    if x == 1:\n",
        "        return 1\n",
        "    return 0\n",
        "\n",
        "def is_hectares(x: int) -> int:\n",
        "    if x == 2:\n",
        "        return 1\n",
        "    return 0\n",
        "\n",
        "def is_sqMeters(x: int) -> int:\n",
        "    if x == 3:\n",
        "        return 1\n",
        "    return 0\n",
        "\n",
        "def is_sqFeet(x: str) -> int:\n",
        "    if x == 4:\n",
        "        return 1\n",
        "    return 0\n",
        "\n",
        "def is_lmu(x: str) -> int:\n",
        "    if x == 5:\n",
        "        return 1\n",
        "    return 0\n"
      ],
      "metadata": {
        "id": "kFkAKuWRZGhQ"
      },
      "execution_count": null,
      "outputs": []
    },
    {
      "cell_type": "code",
      "source": [
        "%%ag\n",
        "\n",
        "df[\"acre\"] = df[\"crp_landsize_ha\"].map(is_lotmore, output_bounds = (0 , 1))\n",
        "df[\"hectares\"] = df[\"crp_landsize_ha\"].map(is_slightlymore, output_bounds = (0 , 1))\n",
        "df[\"sqMeters\"] = df[\"crp_landsize_ha\"].map(is_slightlymore, output_bounds = (0 , 1))\n",
        "df[\"sqFeet\"] = df[\"crp_landsize_ha\"].map(is_slightlyless, output_bounds = (0 , 1))\n",
        "df[\"lmu\"] = df[\"crp_landsize_ha\"].map(is_lotless, output_bounds = (0 , 1))\n",
        "\n"
      ],
      "metadata": {
        "id": "L5Vn5rOGYcqY"
      },
      "execution_count": null,
      "outputs": []
    },
    {
      "cell_type": "code",
      "source": [
        "%%ag\n",
        "from ag_utils import export\n",
        "ret = [\n",
        "    df[\"acre\"].mean(eps=0.001),\n",
        "    df[\"hectares\"].mean(eps=0.001),\n",
        "    df[\"sqMeters\"].mean(eps=0.001),\n",
        "    df[\"sqFeet\"].mean(eps=0.001),\n",
        "    df[\"lmu\"].mean(eps=0.001),\n",
        "\n",
        "    ]\n",
        "export(\n",
        "    ret,\n",
        "    \"data_plot4\"\n",
        ")"
      ],
      "metadata": {
        "colab": {
          "base_uri": "https://localhost:8080/"
        },
        "id": "nHkMjeAlJWaq",
        "outputId": "39975df8-7e45-4e6d-d2d6-b0a4f8e67e00"
      },
      "execution_count": null,
      "outputs": [
        {
          "output_type": "stream",
          "name": "stdout",
          "text": [
            "Setting up exported variable in local environment: data_plot4\n"
          ]
        }
      ]
    },
    {
      "cell_type": "code",
      "source": [
        "import plotly.graph_objects as go\n",
        "\n",
        "labels = [\"Acre\", \"Hectares\", \"Sq Meters\", \"Sq Feets\", \"Local Measuremnet Unit\"]  # Example labels\n",
        "\n",
        "fig = go.Figure(data=[go.Pie(labels=labels, values=data_plot4)])\n",
        "fig.update_layout(\n",
        "    title=\"LandSize for Harvesting\",\n",
        "    margin=dict(l=0, r=0, b=0, t=30),\n",
        "    title_x=0.5,  # Adjust the horizontal position of the title\n",
        "    title_y=0.99,  # Adjust the vertical position of the title\n",
        "    annotations=[dict(x=0.5, y=-0.1, showarrow=True)]\n",
        ")\n",
        "fig.show()\n"
      ],
      "metadata": {
        "colab": {
          "base_uri": "https://localhost:8080/",
          "height": 542
        },
        "id": "rNpMLzuYqZwy",
        "outputId": "82d34c14-6a6c-45da-c8ad-ce48c1e59701"
      },
      "execution_count": 186,
      "outputs": [
        {
          "output_type": "display_data",
          "data": {
            "text/html": [
              "<html>\n",
              "<head><meta charset=\"utf-8\" /></head>\n",
              "<body>\n",
              "    <div>            <script src=\"https://cdnjs.cloudflare.com/ajax/libs/mathjax/2.7.5/MathJax.js?config=TeX-AMS-MML_SVG\"></script><script type=\"text/javascript\">if (window.MathJax && window.MathJax.Hub && window.MathJax.Hub.Config) {window.MathJax.Hub.Config({SVG: {font: \"STIX-Web\"}});}</script>                <script type=\"text/javascript\">window.PlotlyConfig = {MathJaxConfig: 'local'};</script>\n",
              "        <script charset=\"utf-8\" src=\"https://cdn.plot.ly/plotly-2.24.1.min.js\"></script>                <div id=\"58183c35-df1c-4f5f-9f21-bcbcfa3cd576\" class=\"plotly-graph-div\" style=\"height:525px; width:100%;\"></div>            <script type=\"text/javascript\">                                    window.PLOTLYENV=window.PLOTLYENV || {};                                    if (document.getElementById(\"58183c35-df1c-4f5f-9f21-bcbcfa3cd576\")) {                    Plotly.newPlot(                        \"58183c35-df1c-4f5f-9f21-bcbcfa3cd576\",                        [{\"labels\":[\"Acre\",\"Hectares\",\"Sq Meters\",\"Sq Feets\",\"Local Measuremnet Unit\"],\"values\":[0.0376472235046473,0.028923637837878734,0.036173742006291934,0.0,0.0007918263064266087],\"type\":\"pie\"}],                        {\"template\":{\"data\":{\"histogram2dcontour\":[{\"type\":\"histogram2dcontour\",\"colorbar\":{\"outlinewidth\":0,\"ticks\":\"\"},\"colorscale\":[[0.0,\"#0d0887\"],[0.1111111111111111,\"#46039f\"],[0.2222222222222222,\"#7201a8\"],[0.3333333333333333,\"#9c179e\"],[0.4444444444444444,\"#bd3786\"],[0.5555555555555556,\"#d8576b\"],[0.6666666666666666,\"#ed7953\"],[0.7777777777777778,\"#fb9f3a\"],[0.8888888888888888,\"#fdca26\"],[1.0,\"#f0f921\"]]}],\"choropleth\":[{\"type\":\"choropleth\",\"colorbar\":{\"outlinewidth\":0,\"ticks\":\"\"}}],\"histogram2d\":[{\"type\":\"histogram2d\",\"colorbar\":{\"outlinewidth\":0,\"ticks\":\"\"},\"colorscale\":[[0.0,\"#0d0887\"],[0.1111111111111111,\"#46039f\"],[0.2222222222222222,\"#7201a8\"],[0.3333333333333333,\"#9c179e\"],[0.4444444444444444,\"#bd3786\"],[0.5555555555555556,\"#d8576b\"],[0.6666666666666666,\"#ed7953\"],[0.7777777777777778,\"#fb9f3a\"],[0.8888888888888888,\"#fdca26\"],[1.0,\"#f0f921\"]]}],\"heatmap\":[{\"type\":\"heatmap\",\"colorbar\":{\"outlinewidth\":0,\"ticks\":\"\"},\"colorscale\":[[0.0,\"#0d0887\"],[0.1111111111111111,\"#46039f\"],[0.2222222222222222,\"#7201a8\"],[0.3333333333333333,\"#9c179e\"],[0.4444444444444444,\"#bd3786\"],[0.5555555555555556,\"#d8576b\"],[0.6666666666666666,\"#ed7953\"],[0.7777777777777778,\"#fb9f3a\"],[0.8888888888888888,\"#fdca26\"],[1.0,\"#f0f921\"]]}],\"heatmapgl\":[{\"type\":\"heatmapgl\",\"colorbar\":{\"outlinewidth\":0,\"ticks\":\"\"},\"colorscale\":[[0.0,\"#0d0887\"],[0.1111111111111111,\"#46039f\"],[0.2222222222222222,\"#7201a8\"],[0.3333333333333333,\"#9c179e\"],[0.4444444444444444,\"#bd3786\"],[0.5555555555555556,\"#d8576b\"],[0.6666666666666666,\"#ed7953\"],[0.7777777777777778,\"#fb9f3a\"],[0.8888888888888888,\"#fdca26\"],[1.0,\"#f0f921\"]]}],\"contourcarpet\":[{\"type\":\"contourcarpet\",\"colorbar\":{\"outlinewidth\":0,\"ticks\":\"\"}}],\"contour\":[{\"type\":\"contour\",\"colorbar\":{\"outlinewidth\":0,\"ticks\":\"\"},\"colorscale\":[[0.0,\"#0d0887\"],[0.1111111111111111,\"#46039f\"],[0.2222222222222222,\"#7201a8\"],[0.3333333333333333,\"#9c179e\"],[0.4444444444444444,\"#bd3786\"],[0.5555555555555556,\"#d8576b\"],[0.6666666666666666,\"#ed7953\"],[0.7777777777777778,\"#fb9f3a\"],[0.8888888888888888,\"#fdca26\"],[1.0,\"#f0f921\"]]}],\"surface\":[{\"type\":\"surface\",\"colorbar\":{\"outlinewidth\":0,\"ticks\":\"\"},\"colorscale\":[[0.0,\"#0d0887\"],[0.1111111111111111,\"#46039f\"],[0.2222222222222222,\"#7201a8\"],[0.3333333333333333,\"#9c179e\"],[0.4444444444444444,\"#bd3786\"],[0.5555555555555556,\"#d8576b\"],[0.6666666666666666,\"#ed7953\"],[0.7777777777777778,\"#fb9f3a\"],[0.8888888888888888,\"#fdca26\"],[1.0,\"#f0f921\"]]}],\"mesh3d\":[{\"type\":\"mesh3d\",\"colorbar\":{\"outlinewidth\":0,\"ticks\":\"\"}}],\"scatter\":[{\"fillpattern\":{\"fillmode\":\"overlay\",\"size\":10,\"solidity\":0.2},\"type\":\"scatter\"}],\"parcoords\":[{\"type\":\"parcoords\",\"line\":{\"colorbar\":{\"outlinewidth\":0,\"ticks\":\"\"}}}],\"scatterpolargl\":[{\"type\":\"scatterpolargl\",\"marker\":{\"colorbar\":{\"outlinewidth\":0,\"ticks\":\"\"}}}],\"bar\":[{\"error_x\":{\"color\":\"#2a3f5f\"},\"error_y\":{\"color\":\"#2a3f5f\"},\"marker\":{\"line\":{\"color\":\"#E5ECF6\",\"width\":0.5},\"pattern\":{\"fillmode\":\"overlay\",\"size\":10,\"solidity\":0.2}},\"type\":\"bar\"}],\"scattergeo\":[{\"type\":\"scattergeo\",\"marker\":{\"colorbar\":{\"outlinewidth\":0,\"ticks\":\"\"}}}],\"scatterpolar\":[{\"type\":\"scatterpolar\",\"marker\":{\"colorbar\":{\"outlinewidth\":0,\"ticks\":\"\"}}}],\"histogram\":[{\"marker\":{\"pattern\":{\"fillmode\":\"overlay\",\"size\":10,\"solidity\":0.2}},\"type\":\"histogram\"}],\"scattergl\":[{\"type\":\"scattergl\",\"marker\":{\"colorbar\":{\"outlinewidth\":0,\"ticks\":\"\"}}}],\"scatter3d\":[{\"type\":\"scatter3d\",\"line\":{\"colorbar\":{\"outlinewidth\":0,\"ticks\":\"\"}},\"marker\":{\"colorbar\":{\"outlinewidth\":0,\"ticks\":\"\"}}}],\"scattermapbox\":[{\"type\":\"scattermapbox\",\"marker\":{\"colorbar\":{\"outlinewidth\":0,\"ticks\":\"\"}}}],\"scatterternary\":[{\"type\":\"scatterternary\",\"marker\":{\"colorbar\":{\"outlinewidth\":0,\"ticks\":\"\"}}}],\"scattercarpet\":[{\"type\":\"scattercarpet\",\"marker\":{\"colorbar\":{\"outlinewidth\":0,\"ticks\":\"\"}}}],\"carpet\":[{\"aaxis\":{\"endlinecolor\":\"#2a3f5f\",\"gridcolor\":\"white\",\"linecolor\":\"white\",\"minorgridcolor\":\"white\",\"startlinecolor\":\"#2a3f5f\"},\"baxis\":{\"endlinecolor\":\"#2a3f5f\",\"gridcolor\":\"white\",\"linecolor\":\"white\",\"minorgridcolor\":\"white\",\"startlinecolor\":\"#2a3f5f\"},\"type\":\"carpet\"}],\"table\":[{\"cells\":{\"fill\":{\"color\":\"#EBF0F8\"},\"line\":{\"color\":\"white\"}},\"header\":{\"fill\":{\"color\":\"#C8D4E3\"},\"line\":{\"color\":\"white\"}},\"type\":\"table\"}],\"barpolar\":[{\"marker\":{\"line\":{\"color\":\"#E5ECF6\",\"width\":0.5},\"pattern\":{\"fillmode\":\"overlay\",\"size\":10,\"solidity\":0.2}},\"type\":\"barpolar\"}],\"pie\":[{\"automargin\":true,\"type\":\"pie\"}]},\"layout\":{\"autotypenumbers\":\"strict\",\"colorway\":[\"#636efa\",\"#EF553B\",\"#00cc96\",\"#ab63fa\",\"#FFA15A\",\"#19d3f3\",\"#FF6692\",\"#B6E880\",\"#FF97FF\",\"#FECB52\"],\"font\":{\"color\":\"#2a3f5f\"},\"hovermode\":\"closest\",\"hoverlabel\":{\"align\":\"left\"},\"paper_bgcolor\":\"white\",\"plot_bgcolor\":\"#E5ECF6\",\"polar\":{\"bgcolor\":\"#E5ECF6\",\"angularaxis\":{\"gridcolor\":\"white\",\"linecolor\":\"white\",\"ticks\":\"\"},\"radialaxis\":{\"gridcolor\":\"white\",\"linecolor\":\"white\",\"ticks\":\"\"}},\"ternary\":{\"bgcolor\":\"#E5ECF6\",\"aaxis\":{\"gridcolor\":\"white\",\"linecolor\":\"white\",\"ticks\":\"\"},\"baxis\":{\"gridcolor\":\"white\",\"linecolor\":\"white\",\"ticks\":\"\"},\"caxis\":{\"gridcolor\":\"white\",\"linecolor\":\"white\",\"ticks\":\"\"}},\"coloraxis\":{\"colorbar\":{\"outlinewidth\":0,\"ticks\":\"\"}},\"colorscale\":{\"sequential\":[[0.0,\"#0d0887\"],[0.1111111111111111,\"#46039f\"],[0.2222222222222222,\"#7201a8\"],[0.3333333333333333,\"#9c179e\"],[0.4444444444444444,\"#bd3786\"],[0.5555555555555556,\"#d8576b\"],[0.6666666666666666,\"#ed7953\"],[0.7777777777777778,\"#fb9f3a\"],[0.8888888888888888,\"#fdca26\"],[1.0,\"#f0f921\"]],\"sequentialminus\":[[0.0,\"#0d0887\"],[0.1111111111111111,\"#46039f\"],[0.2222222222222222,\"#7201a8\"],[0.3333333333333333,\"#9c179e\"],[0.4444444444444444,\"#bd3786\"],[0.5555555555555556,\"#d8576b\"],[0.6666666666666666,\"#ed7953\"],[0.7777777777777778,\"#fb9f3a\"],[0.8888888888888888,\"#fdca26\"],[1.0,\"#f0f921\"]],\"diverging\":[[0,\"#8e0152\"],[0.1,\"#c51b7d\"],[0.2,\"#de77ae\"],[0.3,\"#f1b6da\"],[0.4,\"#fde0ef\"],[0.5,\"#f7f7f7\"],[0.6,\"#e6f5d0\"],[0.7,\"#b8e186\"],[0.8,\"#7fbc41\"],[0.9,\"#4d9221\"],[1,\"#276419\"]]},\"xaxis\":{\"gridcolor\":\"white\",\"linecolor\":\"white\",\"ticks\":\"\",\"title\":{\"standoff\":15},\"zerolinecolor\":\"white\",\"automargin\":true,\"zerolinewidth\":2},\"yaxis\":{\"gridcolor\":\"white\",\"linecolor\":\"white\",\"ticks\":\"\",\"title\":{\"standoff\":15},\"zerolinecolor\":\"white\",\"automargin\":true,\"zerolinewidth\":2},\"scene\":{\"xaxis\":{\"backgroundcolor\":\"#E5ECF6\",\"gridcolor\":\"white\",\"linecolor\":\"white\",\"showbackground\":true,\"ticks\":\"\",\"zerolinecolor\":\"white\",\"gridwidth\":2},\"yaxis\":{\"backgroundcolor\":\"#E5ECF6\",\"gridcolor\":\"white\",\"linecolor\":\"white\",\"showbackground\":true,\"ticks\":\"\",\"zerolinecolor\":\"white\",\"gridwidth\":2},\"zaxis\":{\"backgroundcolor\":\"#E5ECF6\",\"gridcolor\":\"white\",\"linecolor\":\"white\",\"showbackground\":true,\"ticks\":\"\",\"zerolinecolor\":\"white\",\"gridwidth\":2}},\"shapedefaults\":{\"line\":{\"color\":\"#2a3f5f\"}},\"annotationdefaults\":{\"arrowcolor\":\"#2a3f5f\",\"arrowhead\":0,\"arrowwidth\":1},\"geo\":{\"bgcolor\":\"white\",\"landcolor\":\"#E5ECF6\",\"subunitcolor\":\"white\",\"showland\":true,\"showlakes\":true,\"lakecolor\":\"white\"},\"title\":{\"x\":0.05},\"mapbox\":{\"style\":\"light\"}}},\"margin\":{\"l\":0,\"r\":0,\"b\":0,\"t\":30},\"title\":{\"text\":\"LandSize for Harvesting\",\"x\":0.5,\"y\":0.99},\"annotations\":[{\"showarrow\":true,\"x\":0.5,\"y\":-0.1}]},                        {\"responsive\": true}                    ).then(function(){\n",
              "                            \n",
              "var gd = document.getElementById('58183c35-df1c-4f5f-9f21-bcbcfa3cd576');\n",
              "var x = new MutationObserver(function (mutations, observer) {{\n",
              "        var display = window.getComputedStyle(gd).display;\n",
              "        if (!display || display === 'none') {{\n",
              "            console.log([gd, 'removed!']);\n",
              "            Plotly.purge(gd);\n",
              "            observer.disconnect();\n",
              "        }}\n",
              "}});\n",
              "\n",
              "// Listen for the removal of the full notebook cells\n",
              "var notebookContainer = gd.closest('#notebook-container');\n",
              "if (notebookContainer) {{\n",
              "    x.observe(notebookContainer, {childList: true});\n",
              "}}\n",
              "\n",
              "// Listen for the clearing of the current output cell\n",
              "var outputEl = gd.closest('.output');\n",
              "if (outputEl) {{\n",
              "    x.observe(outputEl, {childList: true});\n",
              "}}\n",
              "\n",
              "                        })                };                            </script>        </div>\n",
              "</body>\n",
              "</html>"
            ]
          },
          "metadata": {}
        }
      ]
    },
    {
      "cell_type": "markdown",
      "source": [
        "##`Question asked`: 'Last year, what proportion of your [crp_main] stock did you lose [to pests, rotting, mould, etc.] after the harvest?'  [crp_main] will be replaced by the response of the households to the question 'What is the main crop that your household grows for food and income generation in `#season#`, if any?'"
      ],
      "metadata": {
        "id": "xwnFhrG__AM-"
      }
    },
    {
      "cell_type": "code",
      "source": [
        "%%ag\n",
        "\n",
        "def is_none(x: int) -> int:\n",
        "  if x == 1:\n",
        "    return 1\n",
        "  return 0\n",
        "\n",
        "def is_aLittle(x: int) -> int:\n",
        "  if x == 2:\n",
        "    return 1\n",
        "  return 0\n",
        "\n",
        "def is_lessThanHalf(x: int) -> int:\n",
        "  if x == 3:\n",
        "    return 1\n",
        "  return 0\n",
        "\n",
        "def is_halfOrMore(x: str) -> int:\n",
        "  if x == 4:\n",
        "    return 1\n",
        "  return 0\n",
        "\n",
        "def is_almostEverything(x: str) -> int:\n",
        "  if x == 5:\n",
        "    return 1\n",
        "  return 0\n",
        "\n",
        "def is_everything(x: str) -> int:\n",
        "  if x == 6:\n",
        "    return 1\n",
        "  return 0\n",
        "\n"
      ],
      "metadata": {
        "id": "IP-69x3zxX_d"
      },
      "execution_count": null,
      "outputs": []
    },
    {
      "cell_type": "code",
      "source": [
        "%%ag\n",
        "df[\"none\"] = df[\"crp_storage\"].map(is_lotmore, output_bounds = (0 , 1))\n",
        "df[\"aLittle\"] = df[\"crp_storage\"].map(is_slightlymore, output_bounds = (0 , 1))\n",
        "df[\"lessThanHalf\"] = df[\"crp_storage\"].map(is_slightlymore, output_bounds = (0 , 1))\n",
        "df[\"halfOrMore\"] = df[\"crp_storage\"].map(is_slightlyless, output_bounds = (0 , 1))\n",
        "df[\"almostEverything\"] = df[\"crp_storage\"].map(is_lotless, output_bounds = (0 , 1))\n",
        "df[\"everything\"] = df[\"crp_storage\"].map(is_slightlymore, output_bounds = (0 , 1))"
      ],
      "metadata": {
        "id": "Ksw98GCnyTyo"
      },
      "execution_count": null,
      "outputs": []
    },
    {
      "cell_type": "code",
      "source": [
        "%%ag\n",
        "from ag_utils import export\n",
        "ret = [\n",
        "    df[\"none\"].mean(eps=0.001),\n",
        "    df[\"aLittle\"].mean(eps=0.001),\n",
        "    df[\"lessThanHalf\"].mean(eps=0.001),\n",
        "    df[\"halfOrMore\"].mean(eps=0.001),\n",
        "    df[\"almostEverything\"].mean(eps=0.001),\n",
        "    df[\"everything\"].mean(eps=0.001),\n",
        "    ]\n",
        "\n",
        "export( ret,\"data_plot5\" )"
      ],
      "metadata": {
        "colab": {
          "base_uri": "https://localhost:8080/"
        },
        "id": "PmAm9-0C0YKZ",
        "outputId": "96293a7f-65dd-4fdd-c040-17ba2e91dea8"
      },
      "execution_count": null,
      "outputs": [
        {
          "output_type": "stream",
          "name": "stdout",
          "text": [
            "Setting up exported variable in local environment: data_plot5\n"
          ]
        }
      ]
    },
    {
      "cell_type": "code",
      "source": [
        "import plotly.graph_objects as go\n",
        "\n",
        "labels = [\"none\", \"aLittle\", \"lessThanHalf\", \"halfOrMore\", \"almostEverything\", \"everything\"]\n",
        "\n",
        "fig = go.Figure(data=[go.Pie(labels=labels, values=data_plot5)])\n",
        "fig.update_layout(\n",
        "    title=\"Storage of Products\",\n",
        "    margin=dict(l=0, r=0, b=0, t=30),\n",
        "    title_x=0.5,  # Adjust the horizontal position of the title\n",
        "    title_y=0.99,  # Adjust the vertical position of the title\n",
        "    annotations=[dict(x=0.5, y=-0.1, showarrow=True)]\n",
        ")\n",
        "\n",
        "fig.show()\n"
      ],
      "metadata": {
        "colab": {
          "base_uri": "https://localhost:8080/",
          "height": 542
        },
        "id": "ygIbQlTQvlQq",
        "outputId": "bf4a39ee-5e7b-4e13-96cc-7a4ba977ad0e"
      },
      "execution_count": 187,
      "outputs": [
        {
          "output_type": "display_data",
          "data": {
            "text/html": [
              "<html>\n",
              "<head><meta charset=\"utf-8\" /></head>\n",
              "<body>\n",
              "    <div>            <script src=\"https://cdnjs.cloudflare.com/ajax/libs/mathjax/2.7.5/MathJax.js?config=TeX-AMS-MML_SVG\"></script><script type=\"text/javascript\">if (window.MathJax && window.MathJax.Hub && window.MathJax.Hub.Config) {window.MathJax.Hub.Config({SVG: {font: \"STIX-Web\"}});}</script>                <script type=\"text/javascript\">window.PlotlyConfig = {MathJaxConfig: 'local'};</script>\n",
              "        <script charset=\"utf-8\" src=\"https://cdn.plot.ly/plotly-2.24.1.min.js\"></script>                <div id=\"d48385b8-73c6-4344-8e15-f884370d6285\" class=\"plotly-graph-div\" style=\"height:525px; width:100%;\"></div>            <script type=\"text/javascript\">                                    window.PLOTLYENV=window.PLOTLYENV || {};                                    if (document.getElementById(\"d48385b8-73c6-4344-8e15-f884370d6285\")) {                    Plotly.newPlot(                        \"d48385b8-73c6-4344-8e15-f884370d6285\",                        [{\"labels\":[\"none\",\"aLittle\",\"lessThanHalf\",\"halfOrMore\",\"almostEverything\",\"everything\"],\"values\":[0.0980567693564916,0.10080845612501492,0.12314971238380544,0.026767373603055842,0.027411312546035512,0.10437919318020246],\"type\":\"pie\"}],                        {\"template\":{\"data\":{\"histogram2dcontour\":[{\"type\":\"histogram2dcontour\",\"colorbar\":{\"outlinewidth\":0,\"ticks\":\"\"},\"colorscale\":[[0.0,\"#0d0887\"],[0.1111111111111111,\"#46039f\"],[0.2222222222222222,\"#7201a8\"],[0.3333333333333333,\"#9c179e\"],[0.4444444444444444,\"#bd3786\"],[0.5555555555555556,\"#d8576b\"],[0.6666666666666666,\"#ed7953\"],[0.7777777777777778,\"#fb9f3a\"],[0.8888888888888888,\"#fdca26\"],[1.0,\"#f0f921\"]]}],\"choropleth\":[{\"type\":\"choropleth\",\"colorbar\":{\"outlinewidth\":0,\"ticks\":\"\"}}],\"histogram2d\":[{\"type\":\"histogram2d\",\"colorbar\":{\"outlinewidth\":0,\"ticks\":\"\"},\"colorscale\":[[0.0,\"#0d0887\"],[0.1111111111111111,\"#46039f\"],[0.2222222222222222,\"#7201a8\"],[0.3333333333333333,\"#9c179e\"],[0.4444444444444444,\"#bd3786\"],[0.5555555555555556,\"#d8576b\"],[0.6666666666666666,\"#ed7953\"],[0.7777777777777778,\"#fb9f3a\"],[0.8888888888888888,\"#fdca26\"],[1.0,\"#f0f921\"]]}],\"heatmap\":[{\"type\":\"heatmap\",\"colorbar\":{\"outlinewidth\":0,\"ticks\":\"\"},\"colorscale\":[[0.0,\"#0d0887\"],[0.1111111111111111,\"#46039f\"],[0.2222222222222222,\"#7201a8\"],[0.3333333333333333,\"#9c179e\"],[0.4444444444444444,\"#bd3786\"],[0.5555555555555556,\"#d8576b\"],[0.6666666666666666,\"#ed7953\"],[0.7777777777777778,\"#fb9f3a\"],[0.8888888888888888,\"#fdca26\"],[1.0,\"#f0f921\"]]}],\"heatmapgl\":[{\"type\":\"heatmapgl\",\"colorbar\":{\"outlinewidth\":0,\"ticks\":\"\"},\"colorscale\":[[0.0,\"#0d0887\"],[0.1111111111111111,\"#46039f\"],[0.2222222222222222,\"#7201a8\"],[0.3333333333333333,\"#9c179e\"],[0.4444444444444444,\"#bd3786\"],[0.5555555555555556,\"#d8576b\"],[0.6666666666666666,\"#ed7953\"],[0.7777777777777778,\"#fb9f3a\"],[0.8888888888888888,\"#fdca26\"],[1.0,\"#f0f921\"]]}],\"contourcarpet\":[{\"type\":\"contourcarpet\",\"colorbar\":{\"outlinewidth\":0,\"ticks\":\"\"}}],\"contour\":[{\"type\":\"contour\",\"colorbar\":{\"outlinewidth\":0,\"ticks\":\"\"},\"colorscale\":[[0.0,\"#0d0887\"],[0.1111111111111111,\"#46039f\"],[0.2222222222222222,\"#7201a8\"],[0.3333333333333333,\"#9c179e\"],[0.4444444444444444,\"#bd3786\"],[0.5555555555555556,\"#d8576b\"],[0.6666666666666666,\"#ed7953\"],[0.7777777777777778,\"#fb9f3a\"],[0.8888888888888888,\"#fdca26\"],[1.0,\"#f0f921\"]]}],\"surface\":[{\"type\":\"surface\",\"colorbar\":{\"outlinewidth\":0,\"ticks\":\"\"},\"colorscale\":[[0.0,\"#0d0887\"],[0.1111111111111111,\"#46039f\"],[0.2222222222222222,\"#7201a8\"],[0.3333333333333333,\"#9c179e\"],[0.4444444444444444,\"#bd3786\"],[0.5555555555555556,\"#d8576b\"],[0.6666666666666666,\"#ed7953\"],[0.7777777777777778,\"#fb9f3a\"],[0.8888888888888888,\"#fdca26\"],[1.0,\"#f0f921\"]]}],\"mesh3d\":[{\"type\":\"mesh3d\",\"colorbar\":{\"outlinewidth\":0,\"ticks\":\"\"}}],\"scatter\":[{\"fillpattern\":{\"fillmode\":\"overlay\",\"size\":10,\"solidity\":0.2},\"type\":\"scatter\"}],\"parcoords\":[{\"type\":\"parcoords\",\"line\":{\"colorbar\":{\"outlinewidth\":0,\"ticks\":\"\"}}}],\"scatterpolargl\":[{\"type\":\"scatterpolargl\",\"marker\":{\"colorbar\":{\"outlinewidth\":0,\"ticks\":\"\"}}}],\"bar\":[{\"error_x\":{\"color\":\"#2a3f5f\"},\"error_y\":{\"color\":\"#2a3f5f\"},\"marker\":{\"line\":{\"color\":\"#E5ECF6\",\"width\":0.5},\"pattern\":{\"fillmode\":\"overlay\",\"size\":10,\"solidity\":0.2}},\"type\":\"bar\"}],\"scattergeo\":[{\"type\":\"scattergeo\",\"marker\":{\"colorbar\":{\"outlinewidth\":0,\"ticks\":\"\"}}}],\"scatterpolar\":[{\"type\":\"scatterpolar\",\"marker\":{\"colorbar\":{\"outlinewidth\":0,\"ticks\":\"\"}}}],\"histogram\":[{\"marker\":{\"pattern\":{\"fillmode\":\"overlay\",\"size\":10,\"solidity\":0.2}},\"type\":\"histogram\"}],\"scattergl\":[{\"type\":\"scattergl\",\"marker\":{\"colorbar\":{\"outlinewidth\":0,\"ticks\":\"\"}}}],\"scatter3d\":[{\"type\":\"scatter3d\",\"line\":{\"colorbar\":{\"outlinewidth\":0,\"ticks\":\"\"}},\"marker\":{\"colorbar\":{\"outlinewidth\":0,\"ticks\":\"\"}}}],\"scattermapbox\":[{\"type\":\"scattermapbox\",\"marker\":{\"colorbar\":{\"outlinewidth\":0,\"ticks\":\"\"}}}],\"scatterternary\":[{\"type\":\"scatterternary\",\"marker\":{\"colorbar\":{\"outlinewidth\":0,\"ticks\":\"\"}}}],\"scattercarpet\":[{\"type\":\"scattercarpet\",\"marker\":{\"colorbar\":{\"outlinewidth\":0,\"ticks\":\"\"}}}],\"carpet\":[{\"aaxis\":{\"endlinecolor\":\"#2a3f5f\",\"gridcolor\":\"white\",\"linecolor\":\"white\",\"minorgridcolor\":\"white\",\"startlinecolor\":\"#2a3f5f\"},\"baxis\":{\"endlinecolor\":\"#2a3f5f\",\"gridcolor\":\"white\",\"linecolor\":\"white\",\"minorgridcolor\":\"white\",\"startlinecolor\":\"#2a3f5f\"},\"type\":\"carpet\"}],\"table\":[{\"cells\":{\"fill\":{\"color\":\"#EBF0F8\"},\"line\":{\"color\":\"white\"}},\"header\":{\"fill\":{\"color\":\"#C8D4E3\"},\"line\":{\"color\":\"white\"}},\"type\":\"table\"}],\"barpolar\":[{\"marker\":{\"line\":{\"color\":\"#E5ECF6\",\"width\":0.5},\"pattern\":{\"fillmode\":\"overlay\",\"size\":10,\"solidity\":0.2}},\"type\":\"barpolar\"}],\"pie\":[{\"automargin\":true,\"type\":\"pie\"}]},\"layout\":{\"autotypenumbers\":\"strict\",\"colorway\":[\"#636efa\",\"#EF553B\",\"#00cc96\",\"#ab63fa\",\"#FFA15A\",\"#19d3f3\",\"#FF6692\",\"#B6E880\",\"#FF97FF\",\"#FECB52\"],\"font\":{\"color\":\"#2a3f5f\"},\"hovermode\":\"closest\",\"hoverlabel\":{\"align\":\"left\"},\"paper_bgcolor\":\"white\",\"plot_bgcolor\":\"#E5ECF6\",\"polar\":{\"bgcolor\":\"#E5ECF6\",\"angularaxis\":{\"gridcolor\":\"white\",\"linecolor\":\"white\",\"ticks\":\"\"},\"radialaxis\":{\"gridcolor\":\"white\",\"linecolor\":\"white\",\"ticks\":\"\"}},\"ternary\":{\"bgcolor\":\"#E5ECF6\",\"aaxis\":{\"gridcolor\":\"white\",\"linecolor\":\"white\",\"ticks\":\"\"},\"baxis\":{\"gridcolor\":\"white\",\"linecolor\":\"white\",\"ticks\":\"\"},\"caxis\":{\"gridcolor\":\"white\",\"linecolor\":\"white\",\"ticks\":\"\"}},\"coloraxis\":{\"colorbar\":{\"outlinewidth\":0,\"ticks\":\"\"}},\"colorscale\":{\"sequential\":[[0.0,\"#0d0887\"],[0.1111111111111111,\"#46039f\"],[0.2222222222222222,\"#7201a8\"],[0.3333333333333333,\"#9c179e\"],[0.4444444444444444,\"#bd3786\"],[0.5555555555555556,\"#d8576b\"],[0.6666666666666666,\"#ed7953\"],[0.7777777777777778,\"#fb9f3a\"],[0.8888888888888888,\"#fdca26\"],[1.0,\"#f0f921\"]],\"sequentialminus\":[[0.0,\"#0d0887\"],[0.1111111111111111,\"#46039f\"],[0.2222222222222222,\"#7201a8\"],[0.3333333333333333,\"#9c179e\"],[0.4444444444444444,\"#bd3786\"],[0.5555555555555556,\"#d8576b\"],[0.6666666666666666,\"#ed7953\"],[0.7777777777777778,\"#fb9f3a\"],[0.8888888888888888,\"#fdca26\"],[1.0,\"#f0f921\"]],\"diverging\":[[0,\"#8e0152\"],[0.1,\"#c51b7d\"],[0.2,\"#de77ae\"],[0.3,\"#f1b6da\"],[0.4,\"#fde0ef\"],[0.5,\"#f7f7f7\"],[0.6,\"#e6f5d0\"],[0.7,\"#b8e186\"],[0.8,\"#7fbc41\"],[0.9,\"#4d9221\"],[1,\"#276419\"]]},\"xaxis\":{\"gridcolor\":\"white\",\"linecolor\":\"white\",\"ticks\":\"\",\"title\":{\"standoff\":15},\"zerolinecolor\":\"white\",\"automargin\":true,\"zerolinewidth\":2},\"yaxis\":{\"gridcolor\":\"white\",\"linecolor\":\"white\",\"ticks\":\"\",\"title\":{\"standoff\":15},\"zerolinecolor\":\"white\",\"automargin\":true,\"zerolinewidth\":2},\"scene\":{\"xaxis\":{\"backgroundcolor\":\"#E5ECF6\",\"gridcolor\":\"white\",\"linecolor\":\"white\",\"showbackground\":true,\"ticks\":\"\",\"zerolinecolor\":\"white\",\"gridwidth\":2},\"yaxis\":{\"backgroundcolor\":\"#E5ECF6\",\"gridcolor\":\"white\",\"linecolor\":\"white\",\"showbackground\":true,\"ticks\":\"\",\"zerolinecolor\":\"white\",\"gridwidth\":2},\"zaxis\":{\"backgroundcolor\":\"#E5ECF6\",\"gridcolor\":\"white\",\"linecolor\":\"white\",\"showbackground\":true,\"ticks\":\"\",\"zerolinecolor\":\"white\",\"gridwidth\":2}},\"shapedefaults\":{\"line\":{\"color\":\"#2a3f5f\"}},\"annotationdefaults\":{\"arrowcolor\":\"#2a3f5f\",\"arrowhead\":0,\"arrowwidth\":1},\"geo\":{\"bgcolor\":\"white\",\"landcolor\":\"#E5ECF6\",\"subunitcolor\":\"white\",\"showland\":true,\"showlakes\":true,\"lakecolor\":\"white\"},\"title\":{\"x\":0.05},\"mapbox\":{\"style\":\"light\"}}},\"margin\":{\"l\":0,\"r\":0,\"b\":0,\"t\":30},\"title\":{\"text\":\"Storage of Products\",\"x\":0.5,\"y\":0.99},\"annotations\":[{\"showarrow\":true,\"x\":0.5,\"y\":-0.1}]},                        {\"responsive\": true}                    ).then(function(){\n",
              "                            \n",
              "var gd = document.getElementById('d48385b8-73c6-4344-8e15-f884370d6285');\n",
              "var x = new MutationObserver(function (mutations, observer) {{\n",
              "        var display = window.getComputedStyle(gd).display;\n",
              "        if (!display || display === 'none') {{\n",
              "            console.log([gd, 'removed!']);\n",
              "            Plotly.purge(gd);\n",
              "            observer.disconnect();\n",
              "        }}\n",
              "}});\n",
              "\n",
              "// Listen for the removal of the full notebook cells\n",
              "var notebookContainer = gd.closest('#notebook-container');\n",
              "if (notebookContainer) {{\n",
              "    x.observe(notebookContainer, {childList: true});\n",
              "}}\n",
              "\n",
              "// Listen for the clearing of the current output cell\n",
              "var outputEl = gd.closest('.output');\n",
              "if (outputEl) {{\n",
              "    x.observe(outputEl, {childList: true});\n",
              "}}\n",
              "\n",
              "                        })                };                            </script>        </div>\n",
              "</body>\n",
              "</html>"
            ]
          },
          "metadata": {}
        }
      ]
    }
  ]
}