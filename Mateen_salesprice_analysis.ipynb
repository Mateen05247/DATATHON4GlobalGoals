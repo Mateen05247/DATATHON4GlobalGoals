{
  "nbformat": 4,
  "nbformat_minor": 0,
  "metadata": {
    "colab": {
      "provenance": []
    },
    "kernelspec": {
      "name": "python3",
      "display_name": "Python 3"
    },
    "language_info": {
      "name": "python"
    }
  },
  "cells": [
    {
      "cell_type": "code",
      "source": [
        "import pandas as pd"
      ],
      "metadata": {
        "id": "jbaw0X1Dv6cZ"
      },
      "execution_count": 11,
      "outputs": []
    },
    {
      "cell_type": "code",
      "source": [
        "!pip install antigranular"
      ],
      "metadata": {
        "colab": {
          "base_uri": "https://localhost:8080/"
        },
        "id": "ipAWew4swA1J",
        "outputId": "fd9be75c-2114-437e-90af-91e8cf848c67"
      },
      "execution_count": 12,
      "outputs": [
        {
          "output_type": "stream",
          "name": "stdout",
          "text": [
            "Collecting antigranular\n",
            "  Downloading antigranular-0.2.12-py3-none-any.whl (18 kB)\n",
            "Collecting diffprivlib<0.7.0,>=0.6.2 (from antigranular)\n",
            "  Downloading diffprivlib-0.6.3-py3-none-any.whl (176 kB)\n",
            "\u001b[2K     \u001b[90m━━━━━━━━━━━━━━━━━━━━━━━━━━━━━━━━━━━━━━━━\u001b[0m \u001b[32m176.0/176.0 kB\u001b[0m \u001b[31m4.3 MB/s\u001b[0m eta \u001b[36m0:00:00\u001b[0m\n",
            "\u001b[?25hRequirement already satisfied: ipython<8.0.0,>=7.34.0 in /usr/local/lib/python3.10/dist-packages (from antigranular) (7.34.0)\n",
            "Collecting oblv-client<0.2.0,>=0.1.15 (from antigranular)\n",
            "  Downloading oblv_client-0.1.15-cp310-cp310-manylinux_2_17_x86_64.manylinux2014_x86_64.whl (6.2 MB)\n",
            "\u001b[2K     \u001b[90m━━━━━━━━━━━━━━━━━━━━━━━━━━━━━━━━━━━━━━━━\u001b[0m \u001b[32m6.2/6.2 MB\u001b[0m \u001b[31m19.2 MB/s\u001b[0m eta \u001b[36m0:00:00\u001b[0m\n",
            "\u001b[?25hCollecting onnx<2.0.0,>=1.14.0 (from antigranular)\n",
            "  Downloading onnx-1.15.0-cp310-cp310-manylinux_2_17_x86_64.manylinux2014_x86_64.whl (15.7 MB)\n",
            "\u001b[2K     \u001b[90m━━━━━━━━━━━━━━━━━━━━━━━━━━━━━━━━━━━━━━━━\u001b[0m \u001b[32m15.7/15.7 MB\u001b[0m \u001b[31m50.0 MB/s\u001b[0m eta \u001b[36m0:00:00\u001b[0m\n",
            "\u001b[?25hRequirement already satisfied: pandas<2.0.0,>=1.5.3 in /usr/local/lib/python3.10/dist-packages (from antigranular) (1.5.3)\n",
            "Requirement already satisfied: pydantic<2.0.0,>=1.10.7 in /usr/local/lib/python3.10/dist-packages (from antigranular) (1.10.13)\n",
            "Requirement already satisfied: requests<3.0.0,>=2.31.0 in /usr/local/lib/python3.10/dist-packages (from antigranular) (2.31.0)\n",
            "Requirement already satisfied: numpy>=1.21.6 in /usr/local/lib/python3.10/dist-packages (from diffprivlib<0.7.0,>=0.6.2->antigranular) (1.23.5)\n",
            "Requirement already satisfied: scikit-learn>=0.24.2 in /usr/local/lib/python3.10/dist-packages (from diffprivlib<0.7.0,>=0.6.2->antigranular) (1.2.2)\n",
            "Requirement already satisfied: scipy>=1.7.3 in /usr/local/lib/python3.10/dist-packages (from diffprivlib<0.7.0,>=0.6.2->antigranular) (1.11.3)\n",
            "Requirement already satisfied: joblib>=0.16.0 in /usr/local/lib/python3.10/dist-packages (from diffprivlib<0.7.0,>=0.6.2->antigranular) (1.3.2)\n",
            "Requirement already satisfied: setuptools>=49.0.0 in /usr/local/lib/python3.10/dist-packages (from diffprivlib<0.7.0,>=0.6.2->antigranular) (67.7.2)\n",
            "Collecting jedi>=0.16 (from ipython<8.0.0,>=7.34.0->antigranular)\n",
            "  Downloading jedi-0.19.1-py2.py3-none-any.whl (1.6 MB)\n",
            "\u001b[2K     \u001b[90m━━━━━━━━━━━━━━━━━━━━━━━━━━━━━━━━━━━━━━━━\u001b[0m \u001b[32m1.6/1.6 MB\u001b[0m \u001b[31m55.3 MB/s\u001b[0m eta \u001b[36m0:00:00\u001b[0m\n",
            "\u001b[?25hRequirement already satisfied: decorator in /usr/local/lib/python3.10/dist-packages (from ipython<8.0.0,>=7.34.0->antigranular) (4.4.2)\n",
            "Requirement already satisfied: pickleshare in /usr/local/lib/python3.10/dist-packages (from ipython<8.0.0,>=7.34.0->antigranular) (0.7.5)\n",
            "Requirement already satisfied: traitlets>=4.2 in /usr/local/lib/python3.10/dist-packages (from ipython<8.0.0,>=7.34.0->antigranular) (5.7.1)\n",
            "Requirement already satisfied: prompt-toolkit!=3.0.0,!=3.0.1,<3.1.0,>=2.0.0 in /usr/local/lib/python3.10/dist-packages (from ipython<8.0.0,>=7.34.0->antigranular) (3.0.39)\n",
            "Requirement already satisfied: pygments in /usr/local/lib/python3.10/dist-packages (from ipython<8.0.0,>=7.34.0->antigranular) (2.16.1)\n",
            "Requirement already satisfied: backcall in /usr/local/lib/python3.10/dist-packages (from ipython<8.0.0,>=7.34.0->antigranular) (0.2.0)\n",
            "Requirement already satisfied: matplotlib-inline in /usr/local/lib/python3.10/dist-packages (from ipython<8.0.0,>=7.34.0->antigranular) (0.1.6)\n",
            "Requirement already satisfied: pexpect>4.3 in /usr/local/lib/python3.10/dist-packages (from ipython<8.0.0,>=7.34.0->antigranular) (4.8.0)\n",
            "Requirement already satisfied: urllib3 in /usr/local/lib/python3.10/dist-packages (from oblv-client<0.2.0,>=0.1.15->antigranular) (2.0.7)\n",
            "Requirement already satisfied: protobuf>=3.20.2 in /usr/local/lib/python3.10/dist-packages (from onnx<2.0.0,>=1.14.0->antigranular) (3.20.3)\n",
            "Requirement already satisfied: python-dateutil>=2.8.1 in /usr/local/lib/python3.10/dist-packages (from pandas<2.0.0,>=1.5.3->antigranular) (2.8.2)\n",
            "Requirement already satisfied: pytz>=2020.1 in /usr/local/lib/python3.10/dist-packages (from pandas<2.0.0,>=1.5.3->antigranular) (2023.3.post1)\n",
            "Requirement already satisfied: typing-extensions>=4.2.0 in /usr/local/lib/python3.10/dist-packages (from pydantic<2.0.0,>=1.10.7->antigranular) (4.5.0)\n",
            "Requirement already satisfied: charset-normalizer<4,>=2 in /usr/local/lib/python3.10/dist-packages (from requests<3.0.0,>=2.31.0->antigranular) (3.3.1)\n",
            "Requirement already satisfied: idna<4,>=2.5 in /usr/local/lib/python3.10/dist-packages (from requests<3.0.0,>=2.31.0->antigranular) (3.4)\n",
            "Requirement already satisfied: certifi>=2017.4.17 in /usr/local/lib/python3.10/dist-packages (from requests<3.0.0,>=2.31.0->antigranular) (2023.7.22)\n",
            "Requirement already satisfied: parso<0.9.0,>=0.8.3 in /usr/local/lib/python3.10/dist-packages (from jedi>=0.16->ipython<8.0.0,>=7.34.0->antigranular) (0.8.3)\n",
            "Requirement already satisfied: ptyprocess>=0.5 in /usr/local/lib/python3.10/dist-packages (from pexpect>4.3->ipython<8.0.0,>=7.34.0->antigranular) (0.7.0)\n",
            "Requirement already satisfied: wcwidth in /usr/local/lib/python3.10/dist-packages (from prompt-toolkit!=3.0.0,!=3.0.1,<3.1.0,>=2.0.0->ipython<8.0.0,>=7.34.0->antigranular) (0.2.8)\n",
            "Requirement already satisfied: six>=1.5 in /usr/local/lib/python3.10/dist-packages (from python-dateutil>=2.8.1->pandas<2.0.0,>=1.5.3->antigranular) (1.16.0)\n",
            "Requirement already satisfied: threadpoolctl>=2.0.0 in /usr/local/lib/python3.10/dist-packages (from scikit-learn>=0.24.2->diffprivlib<0.7.0,>=0.6.2->antigranular) (3.2.0)\n",
            "Installing collected packages: onnx, oblv-client, jedi, diffprivlib, antigranular\n",
            "Successfully installed antigranular-0.2.12 diffprivlib-0.6.3 jedi-0.19.1 oblv-client-0.1.15 onnx-1.15.0\n"
          ]
        }
      ]
    },
    {
      "cell_type": "code",
      "source": [
        "import antigranular as ag\n",
        "session = ag.login(\"E+Qlf9t4revxok3M90CXkg71QfwHIHon\", \"uRcQcwuQ49J12a6GxdIGvckdhOBW+I7v1FlF2bzltgTUPvdJteHySRZ0kNnliYR+\", competition = \"UN Datathon PETs Track\")"
      ],
      "metadata": {
        "colab": {
          "base_uri": "https://localhost:8080/",
          "height": 69
        },
        "id": "TFECBxifwFMR",
        "outputId": "12183ef5-c3a9-47ef-ed3e-76415e196599"
      },
      "execution_count": 13,
      "outputs": [
        {
          "output_type": "display_data",
          "data": {
            "text/plain": [
              "<IPython.core.display.HTML object>"
            ],
            "text/html": []
          },
          "metadata": {}
        },
        {
          "output_type": "stream",
          "name": "stdout",
          "text": [
            "Connected to Antigranular server session id: 287f1aa2-7d8f-4076-bbef-d332dc6f1837, the session will time out if idle for 60 minutes\n",
            "Cell magic '%%ag' registered successfully, use `%%ag` in a notebook cell to execute your python code on Antigranular private python server\n",
            "🚀 Everything's set up and ready to roll!\n"
          ]
        }
      ]
    },
    {
      "cell_type": "code",
      "source": [
        "%%ag\n",
        "undata_crp = load_dataset(\"undata_crp\")"
      ],
      "metadata": {
        "id": "Cbdw2S8GzT5V"
      },
      "execution_count": 14,
      "outputs": []
    },
    {
      "cell_type": "code",
      "source": [
        "session.privacy_odometer()"
      ],
      "metadata": {
        "colab": {
          "base_uri": "https://localhost:8080/"
        },
        "id": "Pv9Xfd_B4Zxh",
        "outputId": "f01253a1-f813-4eac-9c0f-8b9105315c14"
      },
      "execution_count": 15,
      "outputs": [
        {
          "output_type": "execute_result",
          "data": {
            "text/plain": [
              "{'total_epsilon_used': 16.184400000000014,\n",
              " 'total_delta_used': 0.0,\n",
              " 'library_costs': {'op_pandas': {'total_delta': 0,\n",
              "   'total_epsilon': 26.184400000000277,\n",
              "   'total_requests': 294}},\n",
              " 'dataset_costs': {'undata_ls': {'delta': 0, 'eps': 2.999999999999995},\n",
              "  'undata_ls_dif': {'delta': 0, 'eps': 2.999999999999995},\n",
              "  'undata_crp': {'delta': 0, 'eps': 17.61430000000012},\n",
              "  'undata_income': {'delta': 0, 'eps': 2.5700999999999996}}}"
            ]
          },
          "metadata": {},
          "execution_count": 15
        }
      ]
    },
    {
      "cell_type": "code",
      "source": [
        "%%ag\n",
        "\n",
        "ag_print(\"undata_ls Details: \\n\")\n",
        "ag_print(\"Columns: \\n\", undata_crp.columns)\n",
        "ag_print(\"Metadata: \\n\", undata_crp.metadata)\n",
        "ag_print(\"Dtypes: \\n\", undata_crp.dtypes)"
      ],
      "metadata": {
        "colab": {
          "base_uri": "https://localhost:8080/"
        },
        "id": "ZbdzzYE_zYfn",
        "outputId": "31812dff-e4d2-42b6-c9cb-9c59e9572849"
      },
      "execution_count": 16,
      "outputs": [
        {
          "output_type": "stream",
          "name": "stdout",
          "text": [
            "undata_ls Details: \n",
            "\n",
            "Columns: \n",
            " Index(['objectid', 'crp_landsize_ha', 'crp_main', 'crp_main_check',\n",
            "       'crp_irrig_source', 'crp_irrig_system', 'crp_irrig_pay',\n",
            "       'crp_seed_ownprod', 'crp_seed_market', 'crp_seed_company',\n",
            "       'crp_seed_ngo', 'crp_seed_organized_community', 'crp_seed_gov',\n",
            "       'crp_seed_relatives_friends', 'crp_seed_other', 'crp_seed_dk',\n",
            "       'crp_seed_ref', 'crp_area_change', 'crp_harv_change', 'crp_harv_vol_kg',\n",
            "       'crp_harv_lastyr_kg', 'crp_proddif', 'crp_proddif_plant_disease',\n",
            "       'crp_proddif_pest_outbreak', 'crp_proddif_animal_grazing',\n",
            "       'crp_proddif_access_plot', 'crp_proddif_access_fertilize',\n",
            "       'crp_proddif_seed_quality', 'crp_proddif_seed_quantity',\n",
            "       'crp_proddif_access_pesticide', 'crp_proddif_access_labour',\n",
            "       'crp_proddif_access_machinery', 'crp_proddif_access_fuel',\n",
            "       'crp_proddif_soil_erosion', 'crp_proddif_lack_irrigation',\n",
            "       'crp_proddif_excess_water', 'crp_proddif_access_credit',\n",
            "       'crp_proddif_other', 'crp_proddif_dk', 'crp_proddif_ref', 'crp_storage',\n",
            "       'crp_salesmain', 'crp_salesdif', 'crp_saledif_marketing_cost',\n",
            "       'crp_saledif_damage_losses', 'crp_saledif_low_demand',\n",
            "       'crp_saledif_pay_delay', 'crp_saledif_low_price',\n",
            "       'crp_saledif_processing', 'crp_saledif_competition',\n",
            "       'crp_saledif_other', 'crp_saledif_dk', 'crp_saledif_ref',\n",
            "       'crp_salesprice'],\n",
            "      dtype='object')\n",
            "Metadata: \n",
            " {'objectid': (3496, 239871), 'crp_landsize_ha': (0.0, 1720011.39965233), 'crp_main': (1100.0, 999000.0), 'crp_main_check': (0.0, 2.0), 'crp_irrig_source': (1.0, 999.0), 'crp_irrig_system': (0.0, 888.0), 'crp_irrig_pay': (0.0, 1.0), 'crp_seed_ownprod': (0.0, 1.0), 'crp_seed_market': (0.0, 1.0), 'crp_seed_company': (0.0, 1.0), 'crp_seed_ngo': (0.0, 1.0), 'crp_seed_organized_community': (0.0, 1.0), 'crp_seed_gov': (0.0, 1.0), 'crp_seed_relatives_friends': (0.0, 1.0), 'crp_seed_other': (0.0, 1.0), 'crp_seed_dk': (0.0, 1.0), 'crp_seed_ref': (0.0, 1.0), 'crp_area_change': (1.0, 999.0), 'crp_harv_change': (1.0, 999.0), 'crp_harv_vol_kg': (0.0, 0.0), 'crp_harv_lastyr_kg': (0.0, 20000.0), 'crp_proddif': (0.0, 999.0), 'crp_proddif_plant_disease': (0.0, 1.0), 'crp_proddif_pest_outbreak': (0.0, 1.0), 'crp_proddif_animal_grazing': (0.0, 1.0), 'crp_proddif_access_plot': (0.0, 1.0), 'crp_proddif_access_fertilize': (0.0, 1.0), 'crp_proddif_seed_quality': (0.0, 1.0), 'crp_proddif_seed_quantity': (0.0, 1.0), 'crp_proddif_access_pesticide': (0.0, 1.0), 'crp_proddif_access_labour': (0.0, 1.0), 'crp_proddif_access_machinery': (0.0, 1.0), 'crp_proddif_access_fuel': (0.0, 1.0), 'crp_proddif_soil_erosion': (0.0, 1.0), 'crp_proddif_lack_irrigation': (0.0, 1.0), 'crp_proddif_excess_water': (0.0, 1.0), 'crp_proddif_access_credit': (0.0, 1.0), 'crp_proddif_other': (0.0, 1.0), 'crp_proddif_dk': (0.0, 1.0), 'crp_proddif_ref': (0.0, 1.0), 'crp_storage': (0.0, 999.0), 'crp_salesmain': (1100.0, 999000.0), 'crp_salesdif': (0.0, 999.0), 'crp_saledif_marketing_cost': (0.0, 1.0), 'crp_saledif_damage_losses': (0.0, 1.0), 'crp_saledif_low_demand': (0.0, 1.0), 'crp_saledif_pay_delay': (0.0, 1.0), 'crp_saledif_low_price': (0.0, 1.0), 'crp_saledif_processing': (0.0, 1.0), 'crp_saledif_competition': (0.0, 1.0), 'crp_saledif_other': (0.0, 1.0), 'crp_saledif_dk': (0.0, 1.0), 'crp_saledif_ref': (0.0, 1.0), 'crp_salesprice': (1.0, 999.0)}\n",
            "Dtypes: \n",
            " objectid                          int64\n",
            "crp_landsize_ha                 float64\n",
            "crp_main                        float64\n",
            "crp_main_check                  float64\n",
            "crp_irrig_source                float64\n",
            "crp_irrig_system                float64\n",
            "crp_irrig_pay                   float64\n",
            "crp_seed_ownprod                float64\n",
            "crp_seed_market                 float64\n",
            "crp_seed_company                float64\n",
            "crp_seed_ngo                    float64\n",
            "crp_seed_organized_community    float64\n",
            "crp_seed_gov                    float64\n",
            "crp_seed_relatives_friends      float64\n",
            "crp_seed_other                  float64\n",
            "crp_seed_dk                     float64\n",
            "crp_seed_ref                    float64\n",
            "crp_area_change                 float64\n",
            "crp_harv_change                 float64\n",
            "crp_harv_vol_kg                 float64\n",
            "crp_harv_lastyr_kg              float64\n",
            "crp_proddif                     float64\n",
            "crp_proddif_plant_disease       float64\n",
            "crp_proddif_pest_outbreak       float64\n",
            "crp_proddif_animal_grazing      float64\n",
            "crp_proddif_access_plot         float64\n",
            "crp_proddif_access_fertilize    float64\n",
            "crp_proddif_seed_quality        float64\n",
            "crp_proddif_seed_quantity       float64\n",
            "crp_proddif_access_pesticide    float64\n",
            "crp_proddif_access_labour       float64\n",
            "crp_proddif_access_machinery    float64\n",
            "crp_proddif_access_fuel         float64\n",
            "crp_proddif_soil_erosion        float64\n",
            "crp_proddif_lack_irrigation     float64\n",
            "crp_proddif_excess_water        float64\n",
            "crp_proddif_access_credit       float64\n",
            "crp_proddif_other               float64\n",
            "crp_proddif_dk                  float64\n",
            "crp_proddif_ref                 float64\n",
            "crp_storage                     float64\n",
            "crp_salesmain                   float64\n",
            "crp_salesdif                    float64\n",
            "crp_saledif_marketing_cost      float64\n",
            "crp_saledif_damage_losses       float64\n",
            "crp_saledif_low_demand          float64\n",
            "crp_saledif_pay_delay           float64\n",
            "crp_saledif_low_price           float64\n",
            "crp_saledif_processing          float64\n",
            "crp_saledif_competition         float64\n",
            "crp_saledif_other               float64\n",
            "crp_saledif_dk                  float64\n",
            "crp_saledif_ref                 float64\n",
            "crp_salesprice                  float64\n",
            "dtype: object\n",
            "\n"
          ]
        }
      ]
    },
    {
      "cell_type": "code",
      "source": [
        "%%ag\n",
        "undata_crp_describe = undata_crp.describe(eps=0.001)\n",
        "ag_print(\"undata_crp_Describe:\\n\", undata_crp_describe)"
      ],
      "metadata": {
        "colab": {
          "base_uri": "https://localhost:8080/"
        },
        "id": "xthw9bDwze0d",
        "outputId": "39c35ac7-343b-4744-f324-43a7ffddce33"
      },
      "execution_count": 17,
      "outputs": [
        {
          "output_type": "stream",
          "name": "stdout",
          "text": [
            "undata_crp_Describe:\n",
            "             objectid  crp_landsize_ha  ...  crp_saledif_ref  crp_salesprice\n",
            "count  132894.000000     1.328940e+05  ...    132894.000000   132894.000000\n",
            "mean     3496.000000     9.575031e+05  ...         0.000000       15.532006\n",
            "std     25048.530509     6.025272e+05  ...         0.295951      442.578067\n",
            "min     58329.885757     8.636701e+05  ...         0.000000      513.708937\n",
            "25%    239390.657953     6.691067e+05  ...         0.995051      420.466803\n",
            "50%    199679.171562     1.659282e+06  ...         0.999352      153.673691\n",
            "75%    204409.981289     8.263825e+05  ...         0.642983      646.649178\n",
            "max    228239.545245     8.755438e+05  ...         0.917907      329.972150\n",
            "\n",
            "[8 rows x 54 columns]\n",
            "\n"
          ]
        }
      ]
    },
    {
      "cell_type": "code",
      "source": [
        "%%ag\n",
        "ag_print(undata_crp.columns)"
      ],
      "metadata": {
        "colab": {
          "base_uri": "https://localhost:8080/"
        },
        "id": "iT0BmxiAKOBE",
        "outputId": "ff920f20-b79e-495b-9019-ef5191cfe288"
      },
      "execution_count": 18,
      "outputs": [
        {
          "output_type": "stream",
          "name": "stdout",
          "text": [
            "Index(['objectid', 'crp_landsize_ha', 'crp_main', 'crp_main_check',\n",
            "       'crp_irrig_source', 'crp_irrig_system', 'crp_irrig_pay',\n",
            "       'crp_seed_ownprod', 'crp_seed_market', 'crp_seed_company',\n",
            "       'crp_seed_ngo', 'crp_seed_organized_community', 'crp_seed_gov',\n",
            "       'crp_seed_relatives_friends', 'crp_seed_other', 'crp_seed_dk',\n",
            "       'crp_seed_ref', 'crp_area_change', 'crp_harv_change', 'crp_harv_vol_kg',\n",
            "       'crp_harv_lastyr_kg', 'crp_proddif', 'crp_proddif_plant_disease',\n",
            "       'crp_proddif_pest_outbreak', 'crp_proddif_animal_grazing',\n",
            "       'crp_proddif_access_plot', 'crp_proddif_access_fertilize',\n",
            "       'crp_proddif_seed_quality', 'crp_proddif_seed_quantity',\n",
            "       'crp_proddif_access_pesticide', 'crp_proddif_access_labour',\n",
            "       'crp_proddif_access_machinery', 'crp_proddif_access_fuel',\n",
            "       'crp_proddif_soil_erosion', 'crp_proddif_lack_irrigation',\n",
            "       'crp_proddif_excess_water', 'crp_proddif_access_credit',\n",
            "       'crp_proddif_other', 'crp_proddif_dk', 'crp_proddif_ref', 'crp_storage',\n",
            "       'crp_salesmain', 'crp_salesdif', 'crp_saledif_marketing_cost',\n",
            "       'crp_saledif_damage_losses', 'crp_saledif_low_demand',\n",
            "       'crp_saledif_pay_delay', 'crp_saledif_low_price',\n",
            "       'crp_saledif_processing', 'crp_saledif_competition',\n",
            "       'crp_saledif_other', 'crp_saledif_dk', 'crp_saledif_ref',\n",
            "       'crp_salesprice'],\n",
            "      dtype='object')\n",
            "\n"
          ]
        }
      ]
    },
    {
      "cell_type": "code",
      "source": [
        "from google.colab import drive\n",
        "drive.mount('/content/drive')"
      ],
      "metadata": {
        "colab": {
          "base_uri": "https://localhost:8080/"
        },
        "id": "bQdAUpJuKzKs",
        "outputId": "03017688-0a46-43ed-cc38-a7851519c793"
      },
      "execution_count": 19,
      "outputs": [
        {
          "output_type": "stream",
          "name": "stdout",
          "text": [
            "Mounted at /content/drive\n"
          ]
        }
      ]
    },
    {
      "cell_type": "code",
      "source": [
        "%%ag\n",
        "\n",
        "export(undata_crp_describe, name='undata_crp_describe')"
      ],
      "metadata": {
        "colab": {
          "base_uri": "https://localhost:8080/"
        },
        "id": "tK96lEGOLGlw",
        "outputId": "fd31f01a-3f53-455c-ad4d-8803ae846908"
      },
      "execution_count": 20,
      "outputs": [
        {
          "output_type": "stream",
          "name": "stdout",
          "text": [
            "Setting up exported variable in local environment: undata_crp_describe\n"
          ]
        }
      ]
    },
    {
      "cell_type": "code",
      "source": [
        "print(undata_crp_describe)"
      ],
      "metadata": {
        "colab": {
          "base_uri": "https://localhost:8080/"
        },
        "id": "M7yTd0g0MB6a",
        "outputId": "7108dc31-4cd2-48eb-a8ee-ebabdcea69ab"
      },
      "execution_count": 21,
      "outputs": [
        {
          "output_type": "stream",
          "name": "stdout",
          "text": [
            "            objectid  crp_landsize_ha       crp_main  crp_main_check  \\\n",
            "count  132894.000000     1.328940e+05  132894.000000   132894.000000   \n",
            "mean     3496.000000     9.575031e+05  999000.000000        0.000000   \n",
            "std     25048.530509     6.025272e+05  286346.674312        0.452409   \n",
            "min     58329.885757     8.636701e+05  898612.017386        0.000000   \n",
            "25%    239390.657953     6.691067e+05  409310.780611        1.912270   \n",
            "50%    199679.171562     1.659282e+06  325932.048046        1.535397   \n",
            "75%    204409.981289     8.263825e+05  597068.004456        0.000000   \n",
            "max    228239.545245     8.755438e+05  919558.179172        0.293729   \n",
            "\n",
            "       crp_irrig_source  crp_irrig_system  crp_irrig_pay  crp_seed_ownprod  \\\n",
            "count     132894.000000     132894.000000  132894.000000     132894.000000   \n",
            "mean         999.000000          0.000000       1.000000          1.000000   \n",
            "std          327.031205        270.315104       0.418131          0.485194   \n",
            "min          519.905735        705.744852       0.000000          0.000000   \n",
            "25%          997.963330        631.423339       0.474811          0.300585   \n",
            "50%          329.592828        617.188953       0.889909          0.835366   \n",
            "75%          269.012290        122.858186       0.841168          0.091057   \n",
            "max          487.358698        739.784696       0.995439          0.921268   \n",
            "\n",
            "       crp_seed_market  crp_seed_company  ...  crp_saledif_damage_losses  \\\n",
            "count    132894.000000     132894.000000  ...              132894.000000   \n",
            "mean          0.000000          1.000000  ...                   0.000000   \n",
            "std           0.410560          0.255314  ...                   0.186080   \n",
            "min           0.000000          0.000000  ...                   0.000000   \n",
            "25%           0.463723          0.022846  ...                   0.982448   \n",
            "50%           0.297737          0.015378  ...                   0.085570   \n",
            "75%           0.985332          0.000406  ...                   0.963992   \n",
            "max           0.897282          0.970937  ...                   0.683687   \n",
            "\n",
            "       crp_saledif_low_demand  crp_saledif_pay_delay  crp_saledif_low_price  \\\n",
            "count           132894.000000          132894.000000          132894.000000   \n",
            "mean                 0.269539               0.000000               1.000000   \n",
            "std                  0.376894               0.156937               0.138216   \n",
            "min                  0.000000               0.000000               0.000000   \n",
            "25%                  0.628777               0.027201               0.960762   \n",
            "50%                  0.229726               0.060611               0.589275   \n",
            "75%                  0.038740               0.919517               0.926746   \n",
            "max                  0.995781               0.946411               0.469997   \n",
            "\n",
            "       crp_saledif_processing  crp_saledif_competition  crp_saledif_other  \\\n",
            "count           132894.000000            132894.000000      132894.000000   \n",
            "mean                 1.000000                 1.000000           0.000000   \n",
            "std                  0.237694                 0.344269           0.216169   \n",
            "min                  0.000000                 0.000000           0.000000   \n",
            "25%                  0.098199                 0.031649           0.971240   \n",
            "50%                  0.749165                 0.566424           0.006335   \n",
            "75%                  0.304234                 0.087276           0.993429   \n",
            "max                  0.001209                 0.895093           0.923175   \n",
            "\n",
            "       crp_saledif_dk  crp_saledif_ref  crp_salesprice  \n",
            "count   132894.000000    132894.000000   132894.000000  \n",
            "mean         0.000000         0.000000       15.532006  \n",
            "std          0.482084         0.295951      442.578067  \n",
            "min          0.000000         0.000000      513.708937  \n",
            "25%          0.470555         0.995051      420.466803  \n",
            "50%          0.106053         0.999352      153.673691  \n",
            "75%          0.999661         0.642983      646.649178  \n",
            "max          0.773750         0.917907      329.972150  \n",
            "\n",
            "[8 rows x 54 columns]\n"
          ]
        }
      ]
    },
    {
      "cell_type": "code",
      "source": [
        "%%ag\n",
        "import pandas as pd\n",
        "import numpy as np\n",
        "\n",
        "n_num = 100\n",
        "df = pd.DataFrame({'crp_salesprice': np.random.randint(0, 80, n_num),\n",
        "                  'crp_seed_company':np.random.randint(0, 80, n_num)})\n"
      ],
      "metadata": {
        "id": "EQYZ-Sx4Qvsu"
      },
      "execution_count": 22,
      "outputs": []
    },
    {
      "cell_type": "code",
      "source": [
        "%%ag\n",
        "import op_pandas\n",
        "\n",
        "metadata = {\n",
        "     'crp_salesprice': (0, 80),\n",
        "    'crp_seed_company': (0, 80)\n",
        "     }\n",
        "\n",
        "priv_df = op_pandas.PrivateDataFrame(df ,metadata = metadata)\n",
        "ag_print(priv_df.describe(eps=0.001))"
      ],
      "metadata": {
        "colab": {
          "base_uri": "https://localhost:8080/"
        },
        "id": "7FqOYmaPZDo-",
        "outputId": "c8bb3982-7008-42a6-9e87-ce99abbd2c51"
      },
      "execution_count": 23,
      "outputs": [
        {
          "output_type": "stream",
          "name": "stdout",
          "text": [
            "       crp_salesprice  crp_seed_company\n",
            "count        0.000000          0.000000\n",
            "mean         0.000000         80.000000\n",
            "std         12.950696          3.165459\n",
            "min          0.000000          0.000000\n",
            "25%          8.223441         25.175718\n",
            "50%         32.454487         46.029134\n",
            "75%         18.444690         52.870274\n",
            "max         26.855791         26.477513\n",
            "\n"
          ]
        }
      ]
    },
    {
      "cell_type": "code",
      "source": [
        "%%ag\n",
        "import pandas as pd\n",
        "import numpy as np\n",
        "\n",
        "n_num = 100\n",
        "df = pd.DataFrame({'crp_salesprice': np.random.randint(0, 80, n_num),\n",
        "                  'crp_seed_ownprod':np.random.randint(0, 80, n_num),\n",
        "                  'crp_seed_market':np.random.randint(0, 80, n_num)})"
      ],
      "metadata": {
        "id": "wLmB36gNz6HM"
      },
      "execution_count": 29,
      "outputs": []
    },
    {
      "cell_type": "code",
      "source": [
        "%%ag\n",
        "import op_pandas\n",
        "\n",
        "metadata = {\n",
        "     'crp_salesprice': (0, 80),\n",
        "    'crp_seed_ownprod': (0, 80),\n",
        "     'crp_seed_market':(0,80)\n",
        "     }\n",
        "\n",
        "priv_df = op_pandas.PrivateDataFrame(df ,metadata = metadata)\n",
        "ag_print(priv_df.describe(eps=0.001))"
      ],
      "metadata": {
        "colab": {
          "base_uri": "https://localhost:8080/"
        },
        "id": "8lgbvSNU0BUX",
        "outputId": "f3079285-d5b3-4574-a128-691978321e6b"
      },
      "execution_count": 30,
      "outputs": [
        {
          "output_type": "stream",
          "name": "stdout",
          "text": [
            "       crp_salesprice  crp_seed_ownprod  crp_seed_market\n",
            "count    30216.000000      30216.000000     30216.000000\n",
            "mean        80.000000         80.000000         0.000000\n",
            "std         31.788072         39.279045        32.794459\n",
            "min          0.000000          0.000000         0.000000\n",
            "25%         32.685922         24.661173        32.673903\n",
            "50%         49.244727         22.098404        31.245557\n",
            "75%          4.192452         50.080368        78.827795\n",
            "max         58.942756         49.880715        47.998774\n",
            "\n"
          ]
        }
      ]
    },
    {
      "cell_type": "code",
      "source": [],
      "metadata": {
        "id": "XPOHoPapZwOX"
      },
      "execution_count": 27,
      "outputs": []
    },
    {
      "cell_type": "code",
      "source": [
        "%%ag\n",
        "\n",
        "train_data, test_data = op_pandas.train_test_split(priv_df)\n",
        "\n",
        "ag_print(\"Train Data Description: \\n\", train_data.describe(eps =0.01))\n",
        "ag_print(\"Test Data Description: \\n\", test_data.describe(eps =0.01))"
      ],
      "metadata": {
        "colab": {
          "base_uri": "https://localhost:8080/"
        },
        "id": "X8RrGOabaAbJ",
        "outputId": "9a5e86a7-2ef2-44a1-e26a-a853df97cf15"
      },
      "execution_count": 28,
      "outputs": [
        {
          "output_type": "stream",
          "name": "stdout",
          "text": [
            "Train Data Description: \n",
            "        crp_salesprice  crp_seed_ownprod  crp_seed_market\n",
            "count     3136.000000       3136.000000        75.000000\n",
            "mean         0.000000         80.000000        45.320000\n",
            "std         37.683161         30.447948        29.821614\n",
            "min          0.000000          0.000000         0.000000\n",
            "25%         15.130165         33.636851        17.000000\n",
            "50%         43.695486         49.236938        45.000000\n",
            "75%         40.544745         65.421730        73.000000\n",
            "max         73.059802         46.634103        89.000000\n",
            "\n",
            "Test Data Description: \n",
            "        crp_salesprice  crp_seed_ownprod  crp_seed_market\n",
            "count      445.000000        445.000000        25.000000\n",
            "mean         0.000000         80.000000        43.160000\n",
            "std         28.557916         24.626402        29.457144\n",
            "min          0.000000          0.000000         1.000000\n",
            "25%         29.054105         29.303349        16.000000\n",
            "50%         25.726917         57.663944        49.000000\n",
            "75%         60.955537         74.996389        68.000000\n",
            "max         60.067855         34.085278        87.000000\n",
            "\n"
          ]
        }
      ]
    },
    {
      "cell_type": "code",
      "source": [],
      "metadata": {
        "id": "9ojehNGzbRCX"
      },
      "execution_count": 30,
      "outputs": []
    }
  ]
}