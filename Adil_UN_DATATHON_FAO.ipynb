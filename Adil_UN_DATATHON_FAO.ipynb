{
  "nbformat": 4,
  "nbformat_minor": 0,
  "metadata": {
    "colab": {
      "provenance": [],
      "toc_visible": true
    },
    "kernelspec": {
      "name": "python3",
      "display_name": "Python 3"
    },
    "language_info": {
      "name": "python"
    }
  },
  "cells": [
    {
      "cell_type": "markdown",
      "source": [
        "**Install Antigranular Package**"
      ],
      "metadata": {
        "id": "9mnSmJtg1A1T"
      }
    },
    {
      "cell_type": "code",
      "source": [
        "!pip install antigranular"
      ],
      "metadata": {
        "colab": {
          "base_uri": "https://localhost:8080/"
        },
        "id": "Qz28g2LqU03F",
        "outputId": "dced4fdb-d835-4acc-83d7-3f0eae070f92"
      },
      "execution_count": 2,
      "outputs": [
        {
          "output_type": "stream",
          "name": "stdout",
          "text": [
            "Collecting antigranular\n",
            "  Downloading antigranular-0.2.12-py3-none-any.whl (18 kB)\n",
            "Collecting diffprivlib<0.7.0,>=0.6.2 (from antigranular)\n",
            "  Downloading diffprivlib-0.6.3-py3-none-any.whl (176 kB)\n",
            "\u001b[?25l     \u001b[90m━━━━━━━━━━━━━━━━━━━━━━━━━━━━━━━━━━━━━━━━\u001b[0m \u001b[32m0.0/176.0 kB\u001b[0m \u001b[31m?\u001b[0m eta \u001b[36m-:--:--\u001b[0m\r\u001b[2K     \u001b[90m━━━━━━━━━━━━━━━━━━━━━━━━━━━━━━━━━━━━━━━━\u001b[0m \u001b[32m176.0/176.0 kB\u001b[0m \u001b[31m7.0 MB/s\u001b[0m eta \u001b[36m0:00:00\u001b[0m\n",
            "\u001b[?25hRequirement already satisfied: ipython<8.0.0,>=7.34.0 in /usr/local/lib/python3.10/dist-packages (from antigranular) (7.34.0)\n",
            "Collecting oblv-client<0.2.0,>=0.1.15 (from antigranular)\n",
            "  Downloading oblv_client-0.1.15-cp310-cp310-manylinux_2_17_x86_64.manylinux2014_x86_64.whl (6.2 MB)\n",
            "\u001b[2K     \u001b[90m━━━━━━━━━━━━━━━━━━━━━━━━━━━━━━━━━━━━━━━━\u001b[0m \u001b[32m6.2/6.2 MB\u001b[0m \u001b[31m100.9 MB/s\u001b[0m eta \u001b[36m0:00:00\u001b[0m\n",
            "\u001b[?25hCollecting onnx<2.0.0,>=1.14.0 (from antigranular)\n",
            "  Downloading onnx-1.15.0-cp310-cp310-manylinux_2_17_x86_64.manylinux2014_x86_64.whl (15.7 MB)\n",
            "\u001b[2K     \u001b[90m━━━━━━━━━━━━━━━━━━━━━━━━━━━━━━━━━━━━━━━━\u001b[0m \u001b[32m15.7/15.7 MB\u001b[0m \u001b[31m132.3 MB/s\u001b[0m eta \u001b[36m0:00:00\u001b[0m\n",
            "\u001b[?25hRequirement already satisfied: pandas<2.0.0,>=1.5.3 in /usr/local/lib/python3.10/dist-packages (from antigranular) (1.5.3)\n",
            "Requirement already satisfied: pydantic<2.0.0,>=1.10.7 in /usr/local/lib/python3.10/dist-packages (from antigranular) (1.10.13)\n",
            "Requirement already satisfied: requests<3.0.0,>=2.31.0 in /usr/local/lib/python3.10/dist-packages (from antigranular) (2.31.0)\n",
            "Requirement already satisfied: numpy>=1.21.6 in /usr/local/lib/python3.10/dist-packages (from diffprivlib<0.7.0,>=0.6.2->antigranular) (1.23.5)\n",
            "Requirement already satisfied: scikit-learn>=0.24.2 in /usr/local/lib/python3.10/dist-packages (from diffprivlib<0.7.0,>=0.6.2->antigranular) (1.2.2)\n",
            "Requirement already satisfied: scipy>=1.7.3 in /usr/local/lib/python3.10/dist-packages (from diffprivlib<0.7.0,>=0.6.2->antigranular) (1.11.3)\n",
            "Requirement already satisfied: joblib>=0.16.0 in /usr/local/lib/python3.10/dist-packages (from diffprivlib<0.7.0,>=0.6.2->antigranular) (1.3.2)\n",
            "Requirement already satisfied: setuptools>=49.0.0 in /usr/local/lib/python3.10/dist-packages (from diffprivlib<0.7.0,>=0.6.2->antigranular) (67.7.2)\n",
            "Collecting jedi>=0.16 (from ipython<8.0.0,>=7.34.0->antigranular)\n",
            "  Downloading jedi-0.19.1-py2.py3-none-any.whl (1.6 MB)\n",
            "\u001b[2K     \u001b[90m━━━━━━━━━━━━━━━━━━━━━━━━━━━━━━━━━━━━━━━━\u001b[0m \u001b[32m1.6/1.6 MB\u001b[0m \u001b[31m109.7 MB/s\u001b[0m eta \u001b[36m0:00:00\u001b[0m\n",
            "\u001b[?25hRequirement already satisfied: decorator in /usr/local/lib/python3.10/dist-packages (from ipython<8.0.0,>=7.34.0->antigranular) (4.4.2)\n",
            "Requirement already satisfied: pickleshare in /usr/local/lib/python3.10/dist-packages (from ipython<8.0.0,>=7.34.0->antigranular) (0.7.5)\n",
            "Requirement already satisfied: traitlets>=4.2 in /usr/local/lib/python3.10/dist-packages (from ipython<8.0.0,>=7.34.0->antigranular) (5.7.1)\n",
            "Requirement already satisfied: prompt-toolkit!=3.0.0,!=3.0.1,<3.1.0,>=2.0.0 in /usr/local/lib/python3.10/dist-packages (from ipython<8.0.0,>=7.34.0->antigranular) (3.0.39)\n",
            "Requirement already satisfied: pygments in /usr/local/lib/python3.10/dist-packages (from ipython<8.0.0,>=7.34.0->antigranular) (2.16.1)\n",
            "Requirement already satisfied: backcall in /usr/local/lib/python3.10/dist-packages (from ipython<8.0.0,>=7.34.0->antigranular) (0.2.0)\n",
            "Requirement already satisfied: matplotlib-inline in /usr/local/lib/python3.10/dist-packages (from ipython<8.0.0,>=7.34.0->antigranular) (0.1.6)\n",
            "Requirement already satisfied: pexpect>4.3 in /usr/local/lib/python3.10/dist-packages (from ipython<8.0.0,>=7.34.0->antigranular) (4.8.0)\n",
            "Requirement already satisfied: urllib3 in /usr/local/lib/python3.10/dist-packages (from oblv-client<0.2.0,>=0.1.15->antigranular) (2.0.7)\n",
            "Requirement already satisfied: protobuf>=3.20.2 in /usr/local/lib/python3.10/dist-packages (from onnx<2.0.0,>=1.14.0->antigranular) (3.20.3)\n",
            "Requirement already satisfied: python-dateutil>=2.8.1 in /usr/local/lib/python3.10/dist-packages (from pandas<2.0.0,>=1.5.3->antigranular) (2.8.2)\n",
            "Requirement already satisfied: pytz>=2020.1 in /usr/local/lib/python3.10/dist-packages (from pandas<2.0.0,>=1.5.3->antigranular) (2023.3.post1)\n",
            "Requirement already satisfied: typing-extensions>=4.2.0 in /usr/local/lib/python3.10/dist-packages (from pydantic<2.0.0,>=1.10.7->antigranular) (4.5.0)\n",
            "Requirement already satisfied: charset-normalizer<4,>=2 in /usr/local/lib/python3.10/dist-packages (from requests<3.0.0,>=2.31.0->antigranular) (3.3.1)\n",
            "Requirement already satisfied: idna<4,>=2.5 in /usr/local/lib/python3.10/dist-packages (from requests<3.0.0,>=2.31.0->antigranular) (3.4)\n",
            "Requirement already satisfied: certifi>=2017.4.17 in /usr/local/lib/python3.10/dist-packages (from requests<3.0.0,>=2.31.0->antigranular) (2023.7.22)\n",
            "Requirement already satisfied: parso<0.9.0,>=0.8.3 in /usr/local/lib/python3.10/dist-packages (from jedi>=0.16->ipython<8.0.0,>=7.34.0->antigranular) (0.8.3)\n",
            "Requirement already satisfied: ptyprocess>=0.5 in /usr/local/lib/python3.10/dist-packages (from pexpect>4.3->ipython<8.0.0,>=7.34.0->antigranular) (0.7.0)\n",
            "Requirement already satisfied: wcwidth in /usr/local/lib/python3.10/dist-packages (from prompt-toolkit!=3.0.0,!=3.0.1,<3.1.0,>=2.0.0->ipython<8.0.0,>=7.34.0->antigranular) (0.2.8)\n",
            "Requirement already satisfied: six>=1.5 in /usr/local/lib/python3.10/dist-packages (from python-dateutil>=2.8.1->pandas<2.0.0,>=1.5.3->antigranular) (1.16.0)\n",
            "Requirement already satisfied: threadpoolctl>=2.0.0 in /usr/local/lib/python3.10/dist-packages (from scikit-learn>=0.24.2->diffprivlib<0.7.0,>=0.6.2->antigranular) (3.2.0)\n",
            "Installing collected packages: onnx, oblv-client, jedi, diffprivlib, antigranular\n",
            "Successfully installed antigranular-0.2.12 diffprivlib-0.6.3 jedi-0.19.1 oblv-client-0.1.15 onnx-1.15.0\n"
          ]
        }
      ]
    },
    {
      "cell_type": "markdown",
      "source": [
        "### Using Antigranular for Secure Computations"
      ],
      "metadata": {
        "id": "1ws7gbJa1VFn"
      }
    },
    {
      "cell_type": "code",
      "execution_count": 3,
      "metadata": {
        "colab": {
          "base_uri": "https://localhost:8080/",
          "height": 71
        },
        "id": "QvcurAP6UvhV",
        "outputId": "67060c40-b017-4b36-8d9b-b757517dcb65"
      },
      "outputs": [
        {
          "output_type": "display_data",
          "data": {
            "text/plain": [
              "<IPython.core.display.HTML object>"
            ],
            "text/html": []
          },
          "metadata": {}
        },
        {
          "output_type": "stream",
          "name": "stdout",
          "text": [
            "Connected to Antigranular server session id: 16950eaa-17d1-4d31-bef7-fa18bf5c8071, the session will time out if idle for 60 minutes\n",
            "Cell magic '%%ag' registered successfully, use `%%ag` in a notebook cell to execute your python code on Antigranular private python server\n",
            "🚀 Everything's set up and ready to roll!\n"
          ]
        }
      ],
      "source": [
        "# copy login code snippet from the \"UN Datathon PETs Track\" section and paste it.\n",
        "# https://www.antigranular.com/datasets\n",
        "import antigranular as ag\n",
        "session = ag.login(\"uGb9/7aO47ROFevycrNYvrmRuqRhDCfe\", \"1zpBT+kf5mUCseV2ofyPzB1tUB0Pe0Qvxclx+jFNgb89jrHv9kc/IlckhAwm5soS\", competition = \"UN Datathon PETs Track\")"
      ]
    },
    {
      "cell_type": "markdown",
      "source": [
        "###Checking Epsilon Budget"
      ],
      "metadata": {
        "id": "4QACyV6b19Fx"
      }
    },
    {
      "cell_type": "markdown",
      "source": [
        "###Loading the Data"
      ],
      "metadata": {
        "id": "3VjhUcBT1aCi"
      }
    },
    {
      "cell_type": "code",
      "source": [
        "%%ag\n",
        "df = load_dataset(\"undata_income\")"
      ],
      "metadata": {
        "id": "5GwzP3HMSmRl"
      },
      "execution_count": 33,
      "outputs": []
    },
    {
      "cell_type": "markdown",
      "source": [
        "**Question asked: 'What is the gender of the household member(s) generating income...?'**"
      ],
      "metadata": {
        "id": "tfkoCpj_O_z3"
      }
    },
    {
      "cell_type": "code",
      "source": [
        "%%ag\n",
        "#df[\"income_main\"]\n",
        "income_main = [1, 2, 3]"
      ],
      "metadata": {
        "id": "JclEqTFf3nzY"
      },
      "execution_count": 31,
      "outputs": []
    },
    {
      "cell_type": "code",
      "source": [
        "%%ag\n",
        "\n",
        "def is_Male (x: int) -> int:\n",
        "  if x == 1:\n",
        "    return 1\n",
        "  return 0\n",
        "\n",
        "def is_Female (x: int) -> int:\n",
        "  if x == 2:\n",
        "    return 1\n",
        "  return 0\n",
        "\n",
        "def is_Joint (x: int) -> int:\n",
        "  if x == 3:\n",
        "    return 1\n",
        "  return 0\n",
        "\n",
        "def is_Others (x: int) -> int:\n",
        "  if not ('x == 1' and 'x == 2' and 'x == 3'):\n",
        "    return 1\n",
        "  return 0"
      ],
      "metadata": {
        "id": "FfzO_dI04RGK"
      },
      "execution_count": 57,
      "outputs": []
    },
    {
      "cell_type": "code",
      "source": [
        "%%ag\n",
        "# \"Male\",  \"Female\",  \"Joint\"\n",
        "df[\"Male\"] = df[\"income_main\"].map(is_Male, output_bounds = (0 , 1))\n",
        "df[\"Female\"] = df[\"income_main\"].map(is_Female, output_bounds = (0 , 1))\n",
        "df[\"Joint\"] = df[\"income_main\"].map(is_Joint, output_bounds = (0 , 1))\n",
        "df[\"Others\"] = df[\"income_main\"].map(is_Others, output_bounds = (0 , 1))"
      ],
      "metadata": {
        "id": "StSoLQC75hBH"
      },
      "execution_count": 58,
      "outputs": []
    },
    {
      "cell_type": "markdown",
      "source": [
        "###Data Visualization"
      ],
      "metadata": {
        "id": "aGmqJ1q2SLD9"
      }
    },
    {
      "cell_type": "code",
      "source": [
        "%%ag\n",
        "from ag_utils import export\n",
        "ret = [\n",
        "    df[\"Male\"].mean(eps=0.01),\n",
        "    df[\"Female\"].mean(eps=0.01),\n",
        "    df[\"Joint\"].mean(eps=0.01),\n",
        "    df[\"Others\"].mean(eps=0.01),\n",
        "         ]\n",
        "export(\n",
        "    ret,\n",
        "    \"data_plot\"\n",
        ")"
      ],
      "metadata": {
        "colab": {
          "base_uri": "https://localhost:8080/"
        },
        "id": "HZ0Afbwi7wOg",
        "outputId": "591f33eb-42d9-4c86-ff84-9f4287d14ea4"
      },
      "execution_count": 59,
      "outputs": [
        {
          "output_type": "stream",
          "name": "stdout",
          "text": [
            "Setting up exported variable in local environment: data_plot\n"
          ]
        }
      ]
    },
    {
      "cell_type": "code",
      "source": [
        "data_plot"
      ],
      "metadata": {
        "colab": {
          "base_uri": "https://localhost:8080/"
        },
        "id": "U4jsA05tBbvZ",
        "outputId": "bcb321fa-e939-4400-c02c-de6cab00d59c"
      },
      "execution_count": 60,
      "outputs": [
        {
          "output_type": "execute_result",
          "data": {
            "text/plain": [
              "[0.1793170104101114, 0.030906718857999973, 0.028050335460994023, 0.0]"
            ]
          },
          "metadata": {},
          "execution_count": 60
        }
      ]
    },
    {
      "cell_type": "code",
      "source": [
        "import matplotlib as plt\n",
        "%pylab inline"
      ],
      "metadata": {
        "colab": {
          "base_uri": "https://localhost:8080/"
        },
        "id": "lrqAGjUKBfXN",
        "outputId": "3e47217d-e208-475c-c104-ab7b2f73b22b"
      },
      "execution_count": 74,
      "outputs": [
        {
          "output_type": "stream",
          "name": "stdout",
          "text": [
            "Populating the interactive namespace from numpy and matplotlib\n"
          ]
        }
      ]
    },
    {
      "cell_type": "code",
      "source": [
        "plt.bar([1, 2, 3, 4], data_plot)\n",
        "plt.xlabel([\"Male\", \"Female\", \"Joint\", \"Others\"])"
      ],
      "metadata": {
        "colab": {
          "base_uri": "https://localhost:8080/",
          "height": 467
        },
        "id": "0pSTkN5ZBjFG",
        "outputId": "68d8ce04-200d-4218-bd1a-ff83fc9e0185"
      },
      "execution_count": 77,
      "outputs": [
        {
          "output_type": "execute_result",
          "data": {
            "text/plain": [
              "Text(0.5, 0, \"['Male', 'Female', 'Joint', 'Others']\")"
            ]
          },
          "metadata": {},
          "execution_count": 77
        },
        {
          "output_type": "display_data",
          "data": {
            "text/plain": [
              "<Figure size 640x480 with 1 Axes>"
            ],
            "image/png": "[encoded data removed]"
          },
          "metadata": {}
        }
      ]
    },
    {
      "cell_type": "markdown",
      "source": [
        "**Pie Chart**"
      ],
      "metadata": {
        "id": "8vmKL706PxHh"
      }
    },
    {
      "cell_type": "code",
      "source": [
        "session.privacy_odometer()"
      ],
      "metadata": {
        "colab": {
          "base_uri": "https://localhost:8080/"
        },
        "id": "-ElE8qdT1u8L",
        "outputId": "90c22e77-3de3-4833-b832-590f6e75fd31"
      },
      "execution_count": 5,
      "outputs": [
        {
          "output_type": "execute_result",
          "data": {
            "text/plain": [
              "{'total_epsilon_used': 19.999100000000034,\n",
              " 'total_delta_used': 0.0,\n",
              " 'library_costs': {'op_pandas': {'total_delta': 0,\n",
              "   'total_epsilon': 19.999100000000034,\n",
              "   'total_requests': 89}},\n",
              " 'dataset_costs': {'undata_ls': {'delta': 0, 'eps': 2.999999999999995},\n",
              "  'undata_ls_dif': {'delta': 0, 'eps': 2.999999999999995},\n",
              "  'undata_crp': {'delta': 0, 'eps': 11.499099999999993},\n",
              "  'undata_income': {'delta': 0, 'eps': 2.500000000000001}}}"
            ]
          },
          "metadata": {},
          "execution_count": 5
        }
      ]
    },
    {
      "cell_type": "code",
      "source": [
        "import matplotlib.pyplot as plt\n",
        "\n",
        "# Data for the pie chart\n",
        "labels = ['Male', 'Female', 'Joint', 'Others']\n",
        "sizes = [0.1793170104101114, 0.030906718857999973, 0.028050335460994023, 0.0]  # These values should add up to 100 for a proper pie chart\n",
        "colors = ['blue', 'green', 'red']\n",
        "explode = (0.1, 0, 0, 0)  # Adjust the explosion of the first slice\n",
        "\n",
        "# Create a pie chart\n",
        "plt.pie(sizes, labels=labels, colors=colors, autopct='%1.1f%%', explode=explode, shadow=True, startangle=140)\n",
        "\n",
        "# Title of the pie chart\n",
        "plt.title('Gender generating Income')\n",
        "\n",
        "# Display the chart\n",
        "plt.axis('equal')  # Equal aspect ratio ensures that the pie is drawn as a circle.\n",
        "plt.show()\n"
      ],
      "metadata": {
        "colab": {
          "base_uri": "https://localhost:8080/",
          "height": 434
        },
        "id": "IpbxTbcPCZGZ",
        "outputId": "9f6f703b-a97d-4b28-c939-401ec5bc00e3"
      },
      "execution_count": 2,
      "outputs": [
        {
          "output_type": "display_data",
          "data": {
            "text/plain": [
              "<Figure size 640x480 with 1 Axes>"
            ],
            "image/png": "[encoded data removed]"
          },
          "metadata": {}
        }
      ]
    },
    {
      "cell_type": "markdown",
      "source": [
        "###Viewing Columns, Metadata, and Data Types"
      ],
      "metadata": {
        "id": "KQLHDm_l2DGr"
      }
    },
    {
      "cell_type": "code",
      "source": [
        "%%ag\n",
        "\n",
        "ag_print(\"undata_income Details: \\n\")\n",
        "ag_print(\"Columns: \\n\", undata_income.columns)\n",
        "ag_print(\"Metadata: \\n\", undata_income.metadata)\n",
        "ag_print(\"Dtypes: \\n\", undata_income.dtypes)"
      ],
      "metadata": {
        "colab": {
          "base_uri": "https://localhost:8080/"
        },
        "id": "KAuoij7luf0h",
        "outputId": "076f15e3-db03-45f5-8925-0f9e6f29798a"
      },
      "execution_count": 14,
      "outputs": [
        {
          "output_type": "stream",
          "name": "stdout",
          "text": [
            "undata_income Details: \n",
            "\n",
            "Columns: \n",
            " Index(['objectid', 'income_main', 'income_main_amount', 'income_main_gender',\n",
            "       'income_main_control', 'income_main_comp', 'income_sec',\n",
            "       'income_sec_amount', 'income_sec_gender', 'income_sec_control',\n",
            "       'income_sec_comp', 'income_third', 'income_third_amount',\n",
            "       'income_third_gender', 'income_third_control', 'income_third_comp'],\n",
            "      dtype='object')\n",
            "Metadata: \n",
            " {'objectid': (3496, 239871), 'income_main': (1.0, 999.0), 'income_main_amount': (0.0, 1480000000.0), 'income_main_gender': (0.0, 999.0), 'income_main_control': (0.0, 999.0), 'income_main_comp': (1.0, 999.0), 'income_sec': (1.0, 999.0), 'income_sec_amount': (0.0, 15000000.0), 'income_sec_gender': (0.0, 999.0), 'income_sec_control': (0.0, 999.0), 'income_sec_comp': (1.0, 999.0), 'income_third': (1.0, 999.0), 'income_third_amount': (0.0, 10000000.0), 'income_third_gender': (0.0, 999.0), 'income_third_control': (0.0, 999.0), 'income_third_comp': (1.0, 999.0)}\n",
            "Dtypes: \n",
            " objectid                  int64\n",
            "income_main             float64\n",
            "income_main_amount      float64\n",
            "income_main_gender      float64\n",
            "income_main_control     float64\n",
            "income_main_comp        float64\n",
            "income_sec              float64\n",
            "income_sec_amount       float64\n",
            "income_sec_gender       float64\n",
            "income_sec_control      float64\n",
            "income_sec_comp         float64\n",
            "income_third            float64\n",
            "income_third_amount     float64\n",
            "income_third_gender     float64\n",
            "income_third_control    float64\n",
            "income_third_comp       float64\n",
            "dtype: object\n",
            "\n"
          ]
        }
      ]
    },
    {
      "cell_type": "markdown",
      "source": [
        "###Conducting Some Basic Descriptive Statistics"
      ],
      "metadata": {
        "id": "Djo2mS762kpW"
      }
    },
    {
      "cell_type": "code",
      "source": [
        "%%ag\n",
        "\n",
        "undata_income_describe = undata_income.describe(eps=0.0001)\n",
        "ag_print(\"undata_income Describe:\\n\", undata_income_describe)"
      ],
      "metadata": {
        "colab": {
          "base_uri": "https://localhost:8080/"
        },
        "id": "GvITwnib02GQ",
        "outputId": "107bc0bf-6206-4adf-9ded-6863d321ea4c"
      },
      "execution_count": 12,
      "outputs": [
        {
          "output_type": "stream",
          "name": "stdout",
          "text": [
            "undata_income Describe:\n",
            "            objectid   income_main  ...  income_third_control  income_third_comp\n",
            "count  2.008634e+06  2.008634e+06  ...          2.008634e+06       2.008634e+06\n",
            "mean   3.496000e+03  1.000000e+00  ...          0.000000e+00       1.000000e+00\n",
            "std    9.111164e+04  3.502424e+02  ...          4.858827e+02       4.672423e+02\n",
            "min    2.135885e+05  9.707999e+02  ...          6.952567e+02       3.334568e+02\n",
            "25%    1.109806e+05  6.360951e+02  ...          7.377155e+02       8.039225e+02\n",
            "50%    6.020434e+04  2.185438e+01  ...          5.184699e+02       2.007312e+02\n",
            "75%    1.774041e+04  7.684181e+02  ...          3.255990e+02       8.674634e+02\n",
            "max    1.179397e+04  2.236145e+01  ...          7.297822e+02       7.448825e+02\n",
            "\n",
            "[8 rows x 16 columns]\n",
            "\n"
          ]
        }
      ]
    },
    {
      "cell_type": "markdown",
      "source": [
        "##Exporting the non-private result to the local Jupyter server using the `export` method"
      ],
      "metadata": {
        "id": "wksztHA48xOK"
      }
    },
    {
      "cell_type": "code",
      "source": [
        "%%ag\n",
        "\n",
        "export(undata_income_describe, name='undata_income_describe')"
      ],
      "metadata": {
        "colab": {
          "base_uri": "https://localhost:8080/"
        },
        "id": "K0SpwLxN828T",
        "outputId": "192cb62d-2ff7-4af2-d479-a367102fce6e"
      },
      "execution_count": 15,
      "outputs": [
        {
          "output_type": "stream",
          "name": "stdout",
          "text": [
            "Setting up exported variable in local environment: undata_income_describe\n"
          ]
        }
      ]
    },
    {
      "cell_type": "markdown",
      "source": [
        "##Accessing exported in local jupyter environment"
      ],
      "metadata": {
        "id": "dhbx8uvI-Oua"
      }
    },
    {
      "cell_type": "code",
      "source": [
        "print(undata_income_describe)"
      ],
      "metadata": {
        "colab": {
          "base_uri": "https://localhost:8080/"
        },
        "id": "QzSSpAQB9PtD",
        "outputId": "9b7b86fc-1811-4e1b-c7ea-c6f364d8eef5"
      },
      "execution_count": 16,
      "outputs": [
        {
          "output_type": "stream",
          "name": "stdout",
          "text": [
            "           objectid   income_main  income_main_amount  income_main_gender  \\\n",
            "count  2.008634e+06  2.008634e+06        2.008634e+06        2.008634e+06   \n",
            "mean   3.496000e+03  1.000000e+00        0.000000e+00        0.000000e+00   \n",
            "std    9.111164e+04  3.502424e+02        5.462272e+08        4.421978e+02   \n",
            "min    2.135885e+05  9.707999e+02        8.219567e+08        9.036968e+01   \n",
            "25%    1.109806e+05  6.360951e+02        1.149541e+09        5.082307e+02   \n",
            "50%    6.020434e+04  2.185438e+01        4.579240e+08        4.161680e+02   \n",
            "75%    1.774041e+04  7.684181e+02        1.412926e+09        8.738279e+02   \n",
            "max    1.179397e+04  2.236145e+01        2.465306e+08        8.980744e+02   \n",
            "\n",
            "       income_main_control  income_main_comp    income_sec  income_sec_amount  \\\n",
            "count         2.008634e+06      2.008634e+06  2.008634e+06       2.008634e+06   \n",
            "mean          9.990000e+02      9.990000e+02  1.000000e+00       1.500000e+07   \n",
            "std           2.422850e+02      3.217768e+02  3.406139e+02       5.462463e+06   \n",
            "min           1.754492e+02      2.082637e+02  8.755505e+02       1.409070e+07   \n",
            "25%           1.608230e+02      8.411968e+02  7.174845e+02       1.054655e+07   \n",
            "50%           5.834841e+02      8.538472e+02  1.025396e+02       1.233126e+07   \n",
            "75%           5.956341e+02      1.478319e+01  3.860990e+02       3.300582e+04   \n",
            "max           4.928372e+02      8.746913e+02  7.722475e+02       5.312563e+06   \n",
            "\n",
            "       income_sec_gender  income_sec_control  income_sec_comp  income_third  \\\n",
            "count       2.008634e+06        2.008634e+06     2.008634e+06  2.008634e+06   \n",
            "mean        0.000000e+00        0.000000e+00     9.990000e+02  9.990000e+02   \n",
            "std         2.689501e+02        4.644807e+02     2.999467e+02  3.378873e+02   \n",
            "min         8.388074e+02        2.226372e+02     6.807410e+02  1.047898e+02   \n",
            "25%         6.396672e+02        7.672852e+02     3.862261e+02  1.995824e+02   \n",
            "50%         1.771741e+02        5.392254e+01     8.016159e+02  4.217173e+02   \n",
            "75%         7.499958e+02        3.855539e+02     4.737836e+02  3.070692e+02   \n",
            "max         6.142593e+02        3.785297e+02     5.564048e+02  6.849797e+02   \n",
            "\n",
            "       income_third_amount  income_third_gender  income_third_control  \\\n",
            "count         2.008634e+06         2.008634e+06          2.008634e+06   \n",
            "mean          0.000000e+00         0.000000e+00          0.000000e+00   \n",
            "std           3.782059e+06         1.705495e+02          4.858827e+02   \n",
            "min           2.191803e+06         4.832623e+02          6.952567e+02   \n",
            "25%           9.044110e+06         5.096505e+00          7.377155e+02   \n",
            "50%           5.097126e+06         8.527803e+02          5.184699e+02   \n",
            "75%           8.879898e+06         1.796598e+02          3.255990e+02   \n",
            "max           5.219886e+06         2.222996e+02          7.297822e+02   \n",
            "\n",
            "       income_third_comp  \n",
            "count       2.008634e+06  \n",
            "mean        1.000000e+00  \n",
            "std         4.672423e+02  \n",
            "min         3.334568e+02  \n",
            "25%         8.039225e+02  \n",
            "50%         2.007312e+02  \n",
            "75%         8.674634e+02  \n",
            "max         7.448825e+02  \n"
          ]
        }
      ]
    },
    {
      "cell_type": "code",
      "source": [
        "print(undata_income_describe)"
      ],
      "metadata": {
        "colab": {
          "base_uri": "https://localhost:8080/"
        },
        "id": "F1WdnggV9kw_",
        "outputId": "d35167be-3c3b-4dfb-ffb8-b9cf876d4c77"
      },
      "execution_count": null,
      "outputs": [
        {
          "output_type": "stream",
          "name": "stdout",
          "text": [
            "            objectid    income_main  income_main_amount  income_main_gender  \\\n",
            "count  101255.000000  101255.000000        1.012550e+05       101255.000000   \n",
            "mean    83897.759393       1.000000        1.967504e+07            0.000000   \n",
            "std     79579.891159      40.226836        2.579784e+08          246.828252   \n",
            "min      4865.500351       1.758440        3.886139e+03            0.427428   \n",
            "25%     28705.702787       3.686861        1.220279e+04            0.380800   \n",
            "50%     60891.794946      10.501695        5.100025e+04            1.318700   \n",
            "75%    133777.931898      12.316866        1.409739e+09          320.396328   \n",
            "max    234249.436189     660.151549        1.182468e+09          259.796627   \n",
            "\n",
            "       income_main_control  income_main_comp     income_sec  \\\n",
            "count        101255.000000     101255.000000  101255.000000   \n",
            "mean              4.991941         39.554300      33.097410   \n",
            "std              58.224872        164.042221     189.183157   \n",
            "min               0.179317          1.113347       1.563442   \n",
            "25%               0.702686          2.470420       7.301146   \n",
            "50%               1.643774          3.356604      12.222418   \n",
            "75%             278.298563          4.499693     424.331259   \n",
            "max             742.192634        968.336004     944.245056   \n",
            "\n",
            "       income_sec_amount  income_sec_gender  income_sec_control  \\\n",
            "count       1.012550e+05      101255.000000       101255.000000   \n",
            "mean        4.243215e+04           0.000000            2.410264   \n",
            "std         5.074974e+06         231.335141          108.147121   \n",
            "min         1.301345e+07         643.112207          922.763403   \n",
            "25%         1.660179e+06           0.944881          988.796445   \n",
            "50%         9.672594e+06         673.725350          874.322750   \n",
            "75%         6.553515e+06         553.693400          783.354234   \n",
            "max         1.481601e+07         885.771140           99.457348   \n",
            "\n",
            "       income_sec_comp   income_third  income_third_amount  \\\n",
            "count    101255.000000  101255.000000         1.012550e+05   \n",
            "mean         43.963711      12.793806         6.100738e+05   \n",
            "std         285.119391     227.506326         4.384638e+05   \n",
            "min           1.926248       3.694110         1.891527e+06   \n",
            "25%           2.448448       3.242148         7.120162e+06   \n",
            "50%         432.348069     249.142347         1.817694e+06   \n",
            "75%         512.813611     620.406415         9.878406e+06   \n",
            "max         131.214908     444.335450         1.931227e+06   \n",
            "\n",
            "       income_third_gender  income_third_control  income_third_comp  \n",
            "count        101255.000000         101255.000000      101255.000000  \n",
            "mean              0.000000              4.195610          15.956547  \n",
            "std             138.307390             62.900344         131.111009  \n",
            "min             973.698076            976.636766         715.472906  \n",
            "25%             457.315456            630.840869         322.049139  \n",
            "50%             754.421372            212.292503         831.889107  \n",
            "75%              59.426267            582.162351         142.304769  \n",
            "max             373.867852            172.954531         889.750570  \n"
          ]
        }
      ]
    },
    {
      "cell_type": "markdown",
      "source": [
        "## Preprocessing Data"
      ],
      "metadata": {
        "id": "WXNGMTPb__7x"
      }
    },
    {
      "cell_type": "markdown",
      "source": [
        "### Importing External Data\n"
      ],
      "metadata": {
        "id": "ovws4Q0CKUlz"
      }
    },
    {
      "cell_type": "code",
      "source": [
        "'''\n",
        "Creating mock data\n",
        "\n",
        "Mock data will just be 100 rows of age and salary information\n",
        "'''\n",
        "\n",
        "import pandas as pd\n",
        "import numpy as np\n",
        "\n",
        "n_num = 100\n",
        "df = pd.DataFrame({'age': np.random.randint(0, 80, n_num), 'salary': np.random.randint(100, 100000, n_num)})\n",
        "session.private_import(data = df, name= 'imported_df')"
      ],
      "metadata": {
        "colab": {
          "base_uri": "https://localhost:8080/"
        },
        "id": "-Gsrn0FpAA2h",
        "outputId": "48a020d6-270a-4434-a5e2-77d0901c464d"
      },
      "execution_count": null,
      "outputs": [
        {
          "output_type": "stream",
          "name": "stdout",
          "text": [
            "dataframe cached to server, loading to kernel...\n"
          ]
        }
      ]
    },
    {
      "cell_type": "code",
      "source": [
        "%%ag\n",
        "# Creating a PrivateDataFrame out of the DataFrame imported.\n",
        "import op_pandas\n",
        "\n",
        "metadata = {\n",
        "    'age': (0, 80),\n",
        "    'salary': (1, 200000)\n",
        "}\n",
        "\n",
        "priv_df = op_pandas.PrivateDataFrame(imported_df ,metadata = metadata)"
      ],
      "metadata": {
        "colab": {
          "base_uri": "https://localhost:8080/"
        },
        "id": "9ZnQVtQ4J2N3",
        "outputId": "ac651f31-e35d-4d92-ff6b-95a3df129d90"
      },
      "execution_count": null,
      "outputs": [
        {
          "output_type": "stream",
          "name": "stdout",
          "text": [
            "Dataframe loaded successfully to the kernel\n",
            "\n"
          ]
        }
      ]
    },
    {
      "cell_type": "code",
      "source": [
        "%%ag\n",
        "\n",
        "ag_print(\"Private DataFrame Describe:\\n\", priv_df.describe(eps=1))"
      ],
      "metadata": {
        "colab": {
          "base_uri": "https://localhost:8080/"
        },
        "id": "lITWDJEuJ-8O",
        "outputId": "920b078c-4046-443f-c383-aa15622471f3"
      },
      "execution_count": null,
      "outputs": [
        {
          "output_type": "stream",
          "name": "stdout",
          "text": [
            "Private DataFrame Describe:\n",
            "              age        salary\n",
            "count  43.000000     43.000000\n",
            "mean   34.094782  66924.689613\n",
            "std    38.359294  67381.699878\n",
            "min     0.000000  15756.119113\n",
            "25%     6.869826  23625.161981\n",
            "50%    52.620382  90038.318080\n",
            "75%    55.635158  80062.742815\n",
            "max    50.583837  52523.835833\n",
            "\n"
          ]
        }
      ]
    }
  ]
}